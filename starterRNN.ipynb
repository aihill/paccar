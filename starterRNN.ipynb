{
 "cells": [
  {
   "cell_type": "code",
   "execution_count": 1,
   "metadata": {
    "collapsed": true
   },
   "outputs": [],
   "source": [
    "import matplotlib.pyplot as plt\n",
    "%matplotlib inline\n",
    "import numpy as np\n",
    "import pandas\n",
    "import math\n",
    "import numpy as np\n",
    "import warnings\n",
    "warnings.filterwarnings('ignore')\n",
    "\n",
    "from __future__ import print_function\n",
    "import tensorflow as tf\n",
    "from tensorflow.contrib import rnn\n",
    "\n",
    "from create_train_test_val_maps import *"
   ]
  },
  {
   "cell_type": "code",
   "execution_count": 2,
   "metadata": {
    "collapsed": false
   },
   "outputs": [],
   "source": [
    "num_windows = 10\n",
    "window_size = 10\n",
    "train_combined, val_combined, test_combined = load_maps(num_windows, window_size)\n",
    "selected_codes = [0,45021, 44004, 43004, 45008, 45002, 45007]"
   ]
  },
  {
   "cell_type": "code",
   "execution_count": 3,
   "metadata": {
    "collapsed": true
   },
   "outputs": [],
   "source": [
    "# get global index from (row, col) index\n",
    "def sub2ind(array_shape, row, col):\n",
    "    ind = row*array_shape[1] + col\n",
    "    if row < 0 or row >= array_shape[0]:\n",
    "        ind = -1\n",
    "    if col < 0 or col >= array_shape[1]:\n",
    "        ind = -1\n",
    "    return ind\n",
    "\n",
    "# get (row, col) index from global index\n",
    "def ind2sub(array_shape, ind):\n",
    "    row = int(ind) / array_shape[1]\n",
    "    col = ind % array_shape[1]\n",
    "    if ind < 0:\n",
    "        row = -1\n",
    "        col = -1\n",
    "    if ind >=  array_shape[0]*array_shape[1]:\n",
    "        row = -1\n",
    "        col = -1\n",
    "    return (row, col)\n",
    "\n",
    "def one_hot_labels(labels, num_classes):\n",
    "    one_hot_labels = np.zeros((labels.size, num_classes))\n",
    "    one_hot_labels[np.arange(labels.size),labels.astype(int)] = 1\n",
    "    return one_hot_labels"
   ]
  },
  {
   "cell_type": "code",
   "execution_count": 4,
   "metadata": {
    "collapsed": true
   },
   "outputs": [],
   "source": [
    "def get_data(selected_codes, data_map, num_windows):\n",
    "    X = []\n",
    "    Y = []\n",
    "    for vehicleID in data_map.keys():\n",
    "        for ATA6code in data_map[vehicleID].keys():\n",
    "            if ATA6code not in selected_codes:\n",
    "                continue\n",
    "            for window in data_map[vehicleID][ATA6code].keys():\n",
    "                for sequence in data_map[vehicleID][ATA6code][window]:\n",
    "                    Y.append(sub2ind((len(selected_codes),num_windows),selected_codes.index(ATA6code), window))\n",
    "                    X.append(sequence.as_matrix()) \n",
    "    X = np.array(X)\n",
    "    Y = np.array(Y)\n",
    "    return X, Y"
   ]
  },
  {
   "cell_type": "code",
   "execution_count": 5,
   "metadata": {
    "collapsed": false
   },
   "outputs": [
    {
     "name": "stdout",
     "output_type": "stream",
     "text": [
      "shape: (number of samples) x (number of time steps) x (number of features)\n",
      "train_fieldsnaps shape:  (1907, 10, 61)\n",
      "train_results.shape:  (1907,)\n",
      "validation_fieldsnaps shape:  (397, 10, 61)\n",
      "validation_results.shape:  (397,)\n",
      "one_hot_train_results.shape:  (1907, 70)\n",
      "one_hot_validation_results.shape:  (397, 70)\n",
      "one_hot_validation_results.shape:  (280, 70)\n"
     ]
    }
   ],
   "source": [
    "# Get data\n",
    "train_fieldsnaps,train_results = get_data(selected_codes, train_combined, num_windows)\n",
    "validation_fieldsnaps,validation_results = get_data(selected_codes, val_combined, num_windows)\n",
    "test_fieldsnaps,test_results = get_data(selected_codes, test_combined, num_windows)\n",
    "\n",
    "# Turn into One Hot Labels\n",
    "one_hot_train_results = one_hot_labels(train_results, 70)\n",
    "one_hot_validation_results = one_hot_labels(validation_results, 70)\n",
    "one_hot_test_results = one_hot_labels(test_results, 70)\n",
    "\n",
    "print('shape: (number of samples) x (number of time steps) x (number of features)')\n",
    "print(\"train_fieldsnaps shape: \", train_fieldsnaps.shape)\n",
    "print(\"train_results.shape: \", train_results.shape)\n",
    "print(\"validation_fieldsnaps shape: \", validation_fieldsnaps.shape)\n",
    "print(\"validation_results.shape: \", validation_results.shape)\n",
    "\n",
    "\n",
    "print(\"one_hot_train_results.shape: \", one_hot_train_results.shape)\n",
    "print(\"one_hot_validation_results.shape: \", one_hot_validation_results.shape)\n",
    "print(\"one_hot_validation_results.shape: \", one_hot_test_results.shape)"
   ]
  },
  {
   "cell_type": "code",
   "execution_count": 6,
   "metadata": {
    "collapsed": false
   },
   "outputs": [
    {
     "name": "stdout",
     "output_type": "stream",
     "text": [
      "number of validation samples:  397\n",
      "number of non repairs in validation set:  186\n",
      "percent of non repairsin validation set:  0.46851385390428213\n",
      "number of test samples:  280\n",
      "number of non repairs in test set:  138\n",
      "percent of non repairsin test set:  0.4928571428571429\n"
     ]
    }
   ],
   "source": [
    "#print(np.count_nonzero(train_results))\n",
    "print('number of validation samples: ', len(validation_results))\n",
    "print('number of non repairs in validation set: ',len(validation_results) - np.count_nonzero(validation_results))\n",
    "print('percent of non repairsin validation set: ',(len(validation_results) - np.count_nonzero(validation_results))/len(validation_results))\n",
    "#print(np.count_nonzero(test_results))\n",
    "print('number of test samples: ',len(test_results))\n",
    "print('number of non repairs in test set: ',len(test_results) - np.count_nonzero(test_results))\n",
    "print('percent of non repairsin test set: ',(len(test_results) - np.count_nonzero(test_results))/len(test_results))"
   ]
  },
  {
   "cell_type": "code",
   "execution_count": 7,
   "metadata": {
    "collapsed": true
   },
   "outputs": [],
   "source": [
    "# Training Parameters\n",
    "learning_rate = 0.001\n",
    "training_steps = 10000\n",
    "batch_size = 139 # since 1807/139 = 13.0\n",
    "display_step = 200\n",
    "num_epochs = 10\n",
    "iters_per_epoch = 13\n",
    "\n",
    "# Network Parameters\n",
    "num_input = 61 # MNIST data input (img shape: 28*28)\n",
    "timesteps = 10 # timesteps\n",
    "num_hidden = 139 # hidden layer num of features\n",
    "num_classes = 70 # MNIST total classes (0-69 digits)\n",
    "\n",
    "# tf Graph input\n",
    "X = tf.placeholder(\"float\", [None, timesteps, num_input])\n",
    "Y = tf.placeholder(\"float\", [None, num_classes]) # num_classes"
   ]
  },
  {
   "cell_type": "code",
   "execution_count": 8,
   "metadata": {
    "collapsed": false
   },
   "outputs": [],
   "source": [
    "# Define weights\n",
    "weights = {\n",
    "    'out': tf.Variable(tf.random_normal([num_hidden, num_classes]))\n",
    "}\n",
    "biases = {\n",
    "    'out': tf.Variable(tf.random_normal([num_classes]))\n",
    "}"
   ]
  },
  {
   "cell_type": "code",
   "execution_count": 9,
   "metadata": {
    "collapsed": true
   },
   "outputs": [],
   "source": [
    "def RNN(x, weights, biases):\n",
    "\n",
    "    # Prepare data shape to match `rnn` function requirements\n",
    "    # Current data input shape: (batch_size, timesteps, n_input)\n",
    "    # Required shape: 'timesteps' tensors list of shape (batch_size, n_input)\n",
    "\n",
    "    # Unstack to get a list of 'timesteps' tensors of shape (batch_size, n_input)\n",
    "    x = tf.unstack(x, timesteps, 1)\n",
    "\n",
    "    # Define a lstm cell with tensorflow\n",
    "    lstm_cell = rnn.BasicLSTMCell(num_hidden, forget_bias=1.0)\n",
    "\n",
    "    # Get lstm cell output\n",
    "    outputs, states = rnn.static_rnn(lstm_cell, x, dtype=tf.float32)\n",
    "\n",
    "    # Linear activation, using rnn inner loop last output\n",
    "    return tf.matmul(outputs[-1], weights['out']) + biases['out']"
   ]
  },
  {
   "cell_type": "code",
   "execution_count": 10,
   "metadata": {
    "collapsed": false
   },
   "outputs": [],
   "source": [
    "logits = RNN(X, weights, biases)\n",
    "prediction = tf.nn.softmax(logits)\n",
    "\n",
    "# Define loss and optimizer\n",
    "loss_op = tf.reduce_mean(tf.nn.softmax_cross_entropy_with_logits(\n",
    "    logits=logits, labels=Y))\n",
    "optimizer = tf.train.GradientDescentOptimizer(learning_rate=learning_rate)\n",
    "train_op = optimizer.minimize(loss_op)\n",
    "\n",
    "# Evaluate model (with test logits, for dropout to be disabled)\n",
    "correct_pred = tf.equal(tf.argmax(prediction, 1), tf.argmax(Y, 1))\n",
    "accuracy = tf.reduce_mean(tf.cast(correct_pred, tf.float32))\n",
    "\n",
    "# Initialize the variables (i.e. assign their default value)\n",
    "init = tf.global_variables_initializer()"
   ]
  },
  {
   "cell_type": "code",
   "execution_count": 11,
   "metadata": {
    "collapsed": false
   },
   "outputs": [
    {
     "name": "stdout",
     "output_type": "stream",
     "text": [
      "epoch 0\n",
      "Epoch Training Loss= 9.0019, Epoch Training Accuracy= 0.023\n",
      "Epoch Validation Loss= 9.5036, Epoch Validation Accuracy= 0.015\n",
      "epoch 1\n",
      "Epoch Training Loss= 6.9872, Epoch Training Accuracy= 0.098\n",
      "Epoch Validation Loss= 7.9215, Epoch Validation Accuracy= 0.123\n",
      "epoch 2\n",
      "Epoch Training Loss= 7.2516, Epoch Training Accuracy= 0.499\n",
      "Epoch Validation Loss= 8.2876, Epoch Validation Accuracy= 0.441\n",
      "epoch 3\n",
      "Epoch Training Loss= 7.3818, Epoch Training Accuracy= 0.538\n",
      "Epoch Validation Loss= 8.4932, Epoch Validation Accuracy= 0.446\n",
      "epoch 4\n",
      "Epoch Training Loss= 7.2407, Epoch Training Accuracy= 0.542\n",
      "Epoch Validation Loss= 8.3713, Epoch Validation Accuracy= 0.451\n",
      "epoch 5\n",
      "Epoch Training Loss= 7.0317, Epoch Training Accuracy= 0.545\n",
      "Epoch Validation Loss= 8.1329, Epoch Validation Accuracy= 0.453\n",
      "epoch 6\n",
      "Epoch Training Loss= 7.2444, Epoch Training Accuracy= 0.545\n",
      "Epoch Validation Loss= 8.3545, Epoch Validation Accuracy= 0.458\n",
      "epoch 7\n",
      "Epoch Training Loss= 7.2479, Epoch Training Accuracy= 0.545\n",
      "Epoch Validation Loss= 8.3622, Epoch Validation Accuracy= 0.461\n",
      "epoch 8\n",
      "Epoch Training Loss= 7.2748, Epoch Training Accuracy= 0.545\n",
      "Epoch Validation Loss= 8.4034, Epoch Validation Accuracy= 0.461\n",
      "epoch 9\n",
      "Epoch Training Loss= 7.2334, Epoch Training Accuracy= 0.545\n",
      "Epoch Validation Loss= 8.3637, Epoch Validation Accuracy= 0.461\n",
      "Optimization Finished!\n",
      "Testing Accuracy: 0.485714\n"
     ]
    }
   ],
   "source": [
    "with tf.Session() as sess:\n",
    "\n",
    "    # Run the initializer\n",
    "    sess.run(init)\n",
    "    \n",
    "    # Start training\n",
    "    for epoch in range(0,num_epochs):\n",
    "        for iter_ in range(0, iters_per_epoch):\n",
    "            batch_x = train_fieldsnaps[iter_:iter_ + batch_size]\n",
    "            #print(iter_)\n",
    "            #print(\"batch_x.shape: \", batch_x.shape)\n",
    "            batch_y = one_hot_train_results[iter_:iter_ + batch_size]\n",
    "            #print(\"batch_y.shape: \", batch_y.shape)\n",
    "            # Reshape data to get 28 seq of 28 elements\n",
    "            batch_x = batch_x.reshape((batch_size, timesteps, num_input))\n",
    "            # Run optimization op (backprop)\n",
    "            sess.run(train_op, feed_dict={X: batch_x, Y: batch_y})\n",
    "           \n",
    "        #print(\"batch_x.shape: \", batch_x.shape)\n",
    "        #print(\"batch_y.shape: \", batch_y.shape)\n",
    "        # Calculate batch loss and accuracy\n",
    "        train_loss, train_acc = sess.run([loss_op, accuracy], feed_dict={X: train_fieldsnaps,\n",
    "                                                             Y: one_hot_train_results})\n",
    "        val_loss, val_acc = sess.run([loss_op, accuracy], feed_dict={X: validation_fieldsnaps,\n",
    "                                                             Y: one_hot_validation_results})\n",
    "        print(\"epoch \" + str(epoch) + '\\n' + \"Epoch Training Loss= \" + \\\n",
    "              \"{:.4f}\".format(train_loss) + \", Epoch Training Accuracy= \" + \\\n",
    "              \"{:.3f}\".format(train_acc) + '\\n' + \"Epoch Validation Loss= \" + \\\n",
    "             \"{:.4f}\".format(val_loss) + \", Epoch Validation Accuracy= \" + \\\n",
    "              \"{:.3f}\".format(val_acc))\n",
    "\n",
    "\n",
    "    print(\"Optimization Finished!\")\n",
    "\n",
    "    # Calculate accuracy for 139 sequences\n",
    "    print(\"Testing Accuracy:\", \\\n",
    "        sess.run(accuracy, feed_dict={X: test_fieldsnaps, Y: one_hot_test_results}))"
   ]
  }
 ],
 "metadata": {
  "kernelspec": {
   "display_name": "Python 3",
   "language": "python",
   "name": "python3"
  },
  "language_info": {
   "codemirror_mode": {
    "name": "ipython",
    "version": 3
   },
   "file_extension": ".py",
   "mimetype": "text/x-python",
   "name": "python",
   "nbconvert_exporter": "python",
   "pygments_lexer": "ipython3",
   "version": "3.5.2"
  }
 },
 "nbformat": 4,
 "nbformat_minor": 0
}
