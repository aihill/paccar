{
 "cells": [
  {
   "cell_type": "code",
   "execution_count": 1,
   "metadata": {
    "collapsed": true
   },
   "outputs": [],
   "source": [
    "import pandas\n",
    "from create_train_test_val_maps import *\n",
    "\n",
    "%load_ext autoreload\n",
    "%autoreload 2"
   ]
  },
  {
   "cell_type": "code",
   "execution_count": null,
   "metadata": {
    "collapsed": true
   },
   "outputs": [],
   "source": [
    "s_to_date = lambda x: pandas.to_datetime(x, format='%m/%d/%Y %H:%M:%S')\n",
    "snapshots = pandas.read_csv('/home/cs231n/data/selected_snapshots_full_deduped_backfilled_whitened.csv', converters={'Event DateTime':s_to_date})\n",
    "\n",
    "s_to_date = lambda x: pandas.to_datetime(x, format='%Y/%m/%d %H:%M:%S')\n",
    "ok_snapshots = pandas.read_csv('/home/cs231n/data/selected_snapshots_ok_deduped_backfilled_whitened.csv', converters={'Event DateTime':s_to_date})"
   ]
  },
  {
   "cell_type": "code",
   "execution_count": 2,
   "metadata": {
    "collapsed": true
   },
   "outputs": [],
   "source": [
    "snapshots = pandas.read_pickle('selected_snapshots_full_deduped_backfilled_whitened.pkl')\n",
    "ok_snapshots = pandas.read_pickle('selected_snapshots_ok_full_deduped_backfilled_whitened.pkl')\n",
    "#snapshots.to_pickle('selected_snapshots_full_deduped_backfilled_whitened.pkl')\n",
    "#ok_snapshots.to_pickle('selected_snapshots_ok_full_deduped_backfilled_whitened.pkl')"
   ]
  },
  {
   "cell_type": "code",
   "execution_count": 3,
   "metadata": {
    "collapsed": false
   },
   "outputs": [
    {
     "name": "stdout",
     "output_type": "stream",
     "text": [
      "\n",
      "\n"
     ]
    }
   ],
   "source": [
    "ata6_train_repairs = pandas.read_csv('ATA6_train.csv')\n",
    "ata6_val_repairs = pandas.read_csv('ATA6_val.csv')\n",
    "ata6_test_repairs = pandas.read_csv('ATA6_test.csv')\n",
    "\n",
    "# removed 'Veh Ref ID' from category_var\n",
    "category_var = ['Event Type Description','Brake Switch','Clutch Switch','Cruise Status','Dpf Regen Inhibit Sw', \n",
    "                'Dpf Thermal Mngmnt','Eng Coolant Level','DTCID']\n",
    "for cat in category_var:\n",
    "    snapshots[cat] = snapshots[cat].astype('category').cat.codes\n",
    "    ok_snapshots[cat] = ok_snapshots[cat].astype('category').cat.codes\n",
    "\n",
    "try:\n",
    "    snapshots = snapshots.drop(['DTC'],1)\n",
    "except:\n",
    "    print('')\n",
    "try:\n",
    "    snapshots = snapshots.drop(['Unnamed: 0'],1)\n",
    "except:\n",
    "    print('')\n",
    "try:\n",
    "    snapshots = snapshots.drop(['Ignition Cycle Counter'],1)\n",
    "except:\n",
    "    print('')\n",
    "    \n",
    "try:\n",
    "    ok_snapshots = ok_snapshots.drop(['DTC'],1)\n",
    "except:\n",
    "    print('')\n",
    "try:\n",
    "    ok_snapshots = ok_snapshots.drop(['Unnamed: 0'],1)\n",
    "except:\n",
    "    print('')\n",
    "try:\n",
    "    ok_snapshots = ok_snapshots.drop(['Ignition Cycle Counter'],1)\n",
    "except:\n",
    "    print('')\n",
    "\n",
    "train_veh_ids = ata6_train_repairs['Chassis Reference Number'].unique().astype(int)\n",
    "val_veh_ids = ata6_val_repairs['Chassis Reference Number'].unique().astype(int)\n",
    "test_veh_ids = ata6_test_repairs['Chassis Reference Number'].unique().astype(int)\n",
    "\n",
    "all_veh_ids = ok_snapshots['Veh Ref ID'].unique().astype(int)\n",
    "train_ok_ids = all_veh_ids[0:110]\n",
    "val_ok_ids = all_veh_ids[110:130]\n",
    "test_ok_ids = all_veh_ids[130:144]\n",
    "\n",
    "ids_tuple = (train_veh_ids, val_veh_ids, test_veh_ids)\n",
    "ids_ok_tuple = (train_ok_ids, val_ok_ids, test_ok_ids)\n",
    "repairs_tuple = (ata6_train_repairs, ata6_val_repairs, ata6_test_repairs)"
   ]
  },
  {
   "cell_type": "code",
   "execution_count": 13,
   "metadata": {
    "collapsed": true
   },
   "outputs": [],
   "source": [
    "selected_codes = [0,45021, 44004, 43004, 45008, 45002, 45007] # first code is the ok\n",
    "selected_codes = list(np.sort(selected_codes))\n",
    "train_map_revived = val_combined\n",
    "models = {}\n",
    "codes = []\n",
    "code_window_map = {}\n",
    "cat_col = [0, 4, 8, 10, 11, 12, 16, 47]\n",
    "for vehicleID in train_map_revived.keys():\n",
    "    for ATA6code in train_map_revived[vehicleID].keys():\n",
    "        if ATA6code not in selected_codes:\n",
    "            continue\n",
    "        if ATA6code not in code_window_map:\n",
    "            code_window_map[ATA6code] = {}\n",
    "        for time_window in train_map_revived[vehicleID][ATA6code].keys():\n",
    "            if time_window not in code_window_map[ATA6code]:\n",
    "                code_window_map[ATA6code][time_window] = []\n",
    "            for sequence_of_snapshots in train_map_revived[vehicleID][ATA6code][time_window]:\n",
    "                code_window_map[ATA6code][time_window].append(len(sequence_of_snapshots))\n",
    "                #code_window_map[ATA6code][time_window].append(1)"
   ]
  },
  {
   "cell_type": "code",
   "execution_count": 14,
   "metadata": {
    "collapsed": false
   },
   "outputs": [
    {
     "data": {
      "text/html": [
       "<div>\n",
       "<style scoped>\n",
       "    .dataframe tbody tr th:only-of-type {\n",
       "        vertical-align: middle;\n",
       "    }\n",
       "\n",
       "    .dataframe tbody tr th {\n",
       "        vertical-align: top;\n",
       "    }\n",
       "\n",
       "    .dataframe thead th {\n",
       "        text-align: right;\n",
       "    }\n",
       "</style>\n",
       "<table border=\"1\" class=\"dataframe\">\n",
       "  <thead>\n",
       "    <tr style=\"text-align: right;\">\n",
       "      <th></th>\n",
       "      <th>ATA6</th>\n",
       "      <th>NumSequences</th>\n",
       "      <th>NumSnapshots</th>\n",
       "    </tr>\n",
       "  </thead>\n",
       "  <tbody>\n",
       "    <tr>\n",
       "      <th>0</th>\n",
       "      <td>0</td>\n",
       "      <td>3</td>\n",
       "      <td>1500</td>\n",
       "    </tr>\n",
       "    <tr>\n",
       "      <th>1</th>\n",
       "      <td>45008</td>\n",
       "      <td>1</td>\n",
       "      <td>500</td>\n",
       "    </tr>\n",
       "    <tr>\n",
       "      <th>2</th>\n",
       "      <td>44004</td>\n",
       "      <td>4</td>\n",
       "      <td>2000</td>\n",
       "    </tr>\n",
       "    <tr>\n",
       "      <th>3</th>\n",
       "      <td>45002</td>\n",
       "      <td>2</td>\n",
       "      <td>1000</td>\n",
       "    </tr>\n",
       "    <tr>\n",
       "      <th>4</th>\n",
       "      <td>43004</td>\n",
       "      <td>1</td>\n",
       "      <td>500</td>\n",
       "    </tr>\n",
       "    <tr>\n",
       "      <th>5</th>\n",
       "      <td>45021</td>\n",
       "      <td>9</td>\n",
       "      <td>4500</td>\n",
       "    </tr>\n",
       "    <tr>\n",
       "      <th>6</th>\n",
       "      <td>45007</td>\n",
       "      <td>1</td>\n",
       "      <td>500</td>\n",
       "    </tr>\n",
       "  </tbody>\n",
       "</table>\n",
       "</div>"
      ],
      "text/plain": [
       "    ATA6  NumSequences  NumSnapshots\n",
       "0      0             3          1500\n",
       "1  45008             1           500\n",
       "2  44004             4          2000\n",
       "3  45002             2          1000\n",
       "4  43004             1           500\n",
       "5  45021             9          4500\n",
       "6  45007             1           500"
      ]
     },
     "execution_count": 14,
     "metadata": {},
     "output_type": "execute_result"
    }
   ],
   "source": [
    "ATA6code = 44004\n",
    "time_window = 0\n",
    "sum(code_window_map[ATA6code][time_window])\n",
    "num_snapshots = []\n",
    "for ATA6code in code_window_map.keys():\n",
    "    number = 0\n",
    "    number_snapshots = 0\n",
    "    for time_window in code_window_map[ATA6code].keys():\n",
    "        number += len(code_window_map[ATA6code][time_window])\n",
    "        number_snapshots += sum(code_window_map[ATA6code][time_window])\n",
    "    num_snapshots.append({'ATA6':ATA6code, 'NumSequences':number, 'NumSnapshots':number_snapshots})\n",
    "\n",
    "pandas.DataFrame(num_snapshots)"
   ]
  },
  {
   "cell_type": "code",
   "execution_count": null,
   "metadata": {
    "collapsed": true
   },
   "outputs": [],
   "source": [
    "def get_snapshot_count(selected_codes, repairs, snapshots):\n",
    "    \n",
    "    s_veh_key = 'Veh Ref ID'\n",
    "    r_veh_key = 'Chassis Reference Number'\n",
    "    s_time_key = 'Event DateTime'\n",
    "    r_time_key = 'Rpr_Dt'\n",
    "    code = 'ATA6'\n",
    "    \n",
    "    snapshot_table = []\n",
    "    total_snapshots = []\n",
    "    \n",
    "    # Must sort repair by their repair date so that after groupby('Chassis Reference Number')\n",
    "    # repairs are accessed in order of increasing repair date.\n",
    "    # This ensures start and end are set in the right order to calculate #snapshots correctly\n",
    "    repairs = repairs.sort_values(by = r_time_key)\n",
    "    \n",
    "    start_date = pandas.to_datetime('1/1/2000')\n",
    "\n",
    "    for ata6 in selected_codes:\n",
    "        if ata6 == 0:\n",
    "            continue        \n",
    "\n",
    "        repair_group = repairs[(repairs[code] == ata6)].groupby(by=r_veh_key)\n",
    "        for veh_id, row in repair_group:\n",
    "            v_snapshots = snapshots[snapshots[s_veh_key] == veh_id].sort_values(by=s_time_key)\n",
    "            start = start_date\n",
    "            num_snapshots = 0\n",
    "            num_repairs = 0\n",
    "            for end in row[r_time_key]:\n",
    "                range_mask = (v_snapshots[s_time_key] >= start) & (v_snapshots[s_time_key] <= end)\n",
    "                num_snapshots = sum(range_mask)\n",
    "                num_repairs += 1\n",
    "                start = end\n",
    "                snapshot_table.append({code:ata6, r_veh_key: veh_id, r_time_key:end, 'Num_Snapshots':num_snapshots})\n",
    "\n",
    "    for ata6, row in pandas.DataFrame(snapshot_table).groupby(code):\n",
    "        total_snapshots.append({code:ata6,'Total_Snapshots':row['Num_Snapshots'].sum()})\n",
    "    \n",
    "    snapshot_table = pandas.DataFrame(snapshot_table)\n",
    "    total_snapshots = pandas.DataFrame(total_snapshots)\n",
    "    \n",
    "    return (snapshot_table, total_snapshots)"
   ]
  },
  {
   "cell_type": "code",
   "execution_count": null,
   "metadata": {
    "collapsed": true
   },
   "outputs": [],
   "source": [
    "# Getting snapshot counts\n",
    "selected_codes = [0,45021, 44004, 43004, 45008, 45002, 45007] # first code is the ok\n",
    "selected_codes = list(np.sort(selected_codes))\n",
    "\n",
    "(ata6_train_snapshot_breakdown, ata6_train_snapshot_total) = get_snapshot_count(selected_codes, ata6_train_repairs, snapshots)\n",
    "(ata6_val_snapshot_breakdown, ata6_val_snapshot_total) = get_snapshot_count(selected_codes, ata6_val_repairs, snapshots)\n",
    "(ata6_test_snapshot_breakdown, ata6_test_snapshot_total) = get_snapshot_count(selected_codes, ata6_test_repairs, snapshots)\n",
    "\n",
    "ata6_train_snapshot_breakdown.to_pickle('ata6_train_snapshot_breakdown.pkl')\n",
    "ata6_val_snapshot_breakdown.to_pickle('ata6_val_snapshot_breakdown.pkl')\n",
    "ata6_test_snapshot_breakdown.to_pickle('ata6_test_snapshot_breakdown.pkl')\n",
    "ata6_train_snapshot_total.to_pickle('ata6_test_snapshot_total.pkl')\n",
    "ata6_val_snapshot_total.to_pickle('ata6_val_snapshot_total.pkl')\n",
    "ata6_test_snapshot_total.to_pickle('ata6_test_snapshot_total.pkl')"
   ]
  },
  {
   "cell_type": "code",
   "execution_count": null,
   "metadata": {
    "collapsed": true
   },
   "outputs": [],
   "source": [
    "s_veh_key = 'Veh Ref ID'\n",
    "r_veh_key = 'Chassis Reference Number'\n",
    "s_time_key = 'Event DateTime'\n",
    "r_time_key = 'Rpr_Dt'\n",
    "code = 'ATA6'\n",
    "\n",
    "selected_codes = [0,45021, 44004, 43004, 45008, 45002, 45007] # first code is the ok\n",
    "selected_codes = list(np.sort(selected_codes))"
   ]
  },
  {
   "cell_type": "code",
   "execution_count": null,
   "metadata": {
    "collapsed": true
   },
   "outputs": [],
   "source": [
    "Y_repair = np.zeros((len(snapshots),6))\n",
    "Y_ok = np.zeros(len(ok_snapshots))\n"
   ]
  },
  {
   "cell_type": "code",
   "execution_count": 5,
   "metadata": {
    "collapsed": false
   },
   "outputs": [
    {
     "data": {
      "text/plain": [
       "774"
      ]
     },
     "execution_count": 5,
     "metadata": {},
     "output_type": "execute_result"
    }
   ],
   "source": [
    "sum(snapshots['Veh Ref ID'] == 718)"
   ]
  },
  {
   "cell_type": "code",
   "execution_count": null,
   "metadata": {
    "collapsed": true
   },
   "outputs": [],
   "source": []
  },
  {
   "cell_type": "code",
   "execution_count": null,
   "metadata": {
    "collapsed": false
   },
   "outputs": [],
   "source": []
  },
  {
   "cell_type": "code",
   "execution_count": null,
   "metadata": {
    "collapsed": true
   },
   "outputs": [],
   "source": []
  }
 ],
 "metadata": {
  "kernelspec": {
   "display_name": "Python 3",
   "language": "python",
   "name": "python3"
  },
  "language_info": {
   "codemirror_mode": {
    "name": "ipython",
    "version": 3
   },
   "file_extension": ".py",
   "mimetype": "text/x-python",
   "name": "python",
   "nbconvert_exporter": "python",
   "pygments_lexer": "ipython3",
   "version": "3.5.2"
  }
 },
 "nbformat": 4,
 "nbformat_minor": 0
}
