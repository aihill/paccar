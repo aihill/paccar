{
 "cells": [
  {
   "cell_type": "code",
   "execution_count": 1,
   "metadata": {
    "collapsed": true
   },
   "outputs": [],
   "source": [
    "from __future__ import print_function, division\n",
    "import time, os\n",
    "import numpy as np\n",
    "import matplotlib.pyplot as plt\n",
    "import sys\n",
    "#import networkx as nx\n",
    "import pandas\n",
    "import math\n",
    "\n",
    "%matplotlib inline\n",
    "plt.rcParams['figure.figsize'] = (10.0, 8.0) # set default size of plots\n",
    "plt.rcParams['image.interpolation'] = 'nearest'\n",
    "plt.rcParams['image.cmap'] = 'gray'\n",
    "\n",
    "# for auto-reloading external modules\n",
    "# see http://stackoverflow.com/questions/1907993/autoreload-of-modules-in-ipython\n",
    "%load_ext autoreload\n",
    "%autoreload 2"
   ]
  },
  {
   "cell_type": "code",
   "execution_count": 2,
   "metadata": {
    "collapsed": false
   },
   "outputs": [],
   "source": [
    "# load cleaned data\n",
    "#selected_snapshots.read_csv('/home/cs231n/data/snapshots_cleaned.csv')\n",
    "#selected_repairs.read_csv('/home/cs231n/data/repairs_cleaned.csv')\n",
    "selected_snapshots = pandas.read_pickle('cleaned_selected_snapshots.pkl')\n",
    "selected_repairs = pandas.read_pickle('cleaned_selected_repairs.pkl')\n",
    "\n",
    "# Reset indices of loaded dataframes\n",
    "selected_snapshots = selected_snapshots.reset_index(drop=True)\n",
    "selected_repairs = selected_repairs.reset_index(drop=True)"
   ]
  },
  {
   "cell_type": "code",
   "execution_count": 3,
   "metadata": {
    "collapsed": true
   },
   "outputs": [],
   "source": [
    "def split_test_train(repairs, testfract):\n",
    "    mask = (repairs['Chassis\\nReference\\nNumber']==0) #all false\n",
    "    \n",
    "    for repairCode in repairs['ATA9'].unique():    \n",
    "        v_repairs = repairs[repairs['ATA9'] == repairCode]\n",
    "        idx = v_repairs.index\n",
    "        print(repairCode, len(v_repairs))\n",
    "\n",
    "        if len(v_repairs) > 1:\n",
    "            # randomly select N cases with matching ATA9 code\n",
    "            # where N = maxTestCase ~ 20% of #cases with the same ATA9 code\n",
    "            maxTestCase = math.ceil(testfrac*len(v_repairs))\n",
    "            a = list(range(0,maxTestCase))\n",
    "            np.random.shuffle(a)\n",
    "            mask.loc[idx[a[0:maxTestCase]]] = True\n",
    "\n",
    "    #mask.loc[idx[a[0:maxTestCase]]]\n",
    "    test = repairs[mask][['Chassis\\nReference\\nNumber','Model Vehicle','ATA3','ATA6','ATA9','Repair Cost','Rpr_Dt','snapshot Qty b4 RepairDt']].sort_values('ATA9')\n",
    "    train = repairs[~mask][['Chassis\\nReference\\nNumber','Model Vehicle','ATA3','ATA6','ATA9','Repair Cost','Rpr_Dt','snapshot Qty b4 RepairDt']].sort_values('ATA9')\n",
    "    \n",
    "    #print([test, train])\n",
    "    return [test, train]"
   ]
  },
  {
   "cell_type": "code",
   "execution_count": 4,
   "metadata": {
    "collapsed": false
   },
   "outputs": [],
   "source": [
    "ATA6_codes = selected_repairs['ATA6'].unique()\n"
   ]
  },
  {
   "cell_type": "code",
   "execution_count": null,
   "metadata": {
    "collapsed": true
   },
   "outputs": [],
   "source": [
    "ATA3_43_repairs = selected_repairs[selected_repairs['ATA6']==43]\n",
    "print('ATA3\\t#Repairs')\n",
    "[ATA3_43_test, ATA3_43_train] = split_test_train(ATA3_43_repairs)"
   ]
  }
 ],
 "metadata": {
  "kernelspec": {
   "display_name": "Python 3",
   "language": "python",
   "name": "python3"
  },
  "language_info": {
   "codemirror_mode": {
    "name": "ipython",
    "version": 3
   },
   "file_extension": ".py",
   "mimetype": "text/x-python",
   "name": "python",
   "nbconvert_exporter": "python",
   "pygments_lexer": "ipython3",
   "version": "3.5.2"
  }
 },
 "nbformat": 4,
 "nbformat_minor": 0
}
