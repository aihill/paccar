{
 "cells": [
  {
   "cell_type": "code",
   "execution_count": 1,
   "metadata": {
    "collapsed": false
   },
   "outputs": [],
   "source": [
    "import numpy as np\n",
    "import pandas\n",
    "import math\n",
    "from hmmlearn import hmm\n",
    "import numpy as np\n",
    "import warnings\n",
    "warnings.filterwarnings('ignore')\n",
    "\n",
    "from create_train_test_val_maps import *"
   ]
  },
  {
   "cell_type": "code",
   "execution_count": 60,
   "metadata": {
    "collapsed": false
   },
   "outputs": [],
   "source": [
    "#train_map_revived = open_map('/home/cs231n/data/train')\n",
    "#val_map_revived = open_map('/home/cs231n/data/val')\n",
    "#test_map_revived = open_map('/home/cs231n/data/test')\n",
    "\n",
    "\n",
    "val_map_deser_ok = open_ok_map('/home/cs231n/data/valOK')\n",
    "train_map_deser_ok = open_ok_map('/home/cs231n/data/trainOK')\n",
    "test_map_deser_ok = open_ok_map('/home/cs231n/data/testOK')\n",
    "val_map_deser = open_map('/home/cs231n/data/val')\n",
    "train_map_deser = open_map('/home/cs231n/data/train')\n",
    "test_map_deser = open_map('/home/cs231n/data/test')\n",
    "val_combined = {**val_map_deser, **val_map_deser_ok}\n",
    "train_combined = {**train_map_deser, **train_map_deser_ok}\n",
    "test_combined = {**test_map_deser, **test_map_deser_ok}\n",
    "\n",
    "pc_vec = pandas.read_pickle('pc_vec.pkl')\n",
    "pc_vec2 = np.array(pc_vec['prob']).reshape((7,1))\n",
    "\n",
    "cost_prob = np.genfromtxt('cost_prob.csv',delimiter=',')\n",
    "cost_prob = cost_prob.T\n",
    "\n",
    "\n",
    "selected_codes = [0,45021, 44004, 43004, 45008, 45002, 45007] # first code is the ok\n",
    "selected_codes = list(np.sort(selected_codes))\n",
    "num_codes = len(selected_codes)"
   ]
  },
  {
   "cell_type": "code",
   "execution_count": 114,
   "metadata": {
    "collapsed": true
   },
   "outputs": [],
   "source": [
    "selected_repairs = pandas.read_pickle('cleaned_selected_repairs.pkl')\n",
    "veh_repair_cost_map = {}\n",
    "\n",
    "for idx, row in selected_repairs.iterrows():\n",
    "    veh_id = row['Chassis\\nReference\\nNumber']\n",
    "    if veh_id not in veh_repair_cost_map:\n",
    "        veh_repair_cost_map[veh_id] = {}\n",
    "    cost_str = row['Repair Cost']\n",
    "    cost = 0\n",
    "    if cost_str == 'very low':\n",
    "        cost = 1\n",
    "    elif cost_str == 'low':\n",
    "        cost = 2\n",
    "    elif cost_str == 'medium':\n",
    "        cost = 3\n",
    "    elif cost_str == 'high ':\n",
    "        cost = 4\n",
    "    elif cost_str == 'very high':\n",
    "        cost = 5\n",
    "    if cost==0:\n",
    "        print(\"error: {}\".format(veh_id))\n",
    "    veh_repair_cost_map[veh_id][row['ATA6']] = cost"
   ]
  },
  {
   "cell_type": "code",
   "execution_count": 61,
   "metadata": {
    "collapsed": false
   },
   "outputs": [
    {
     "data": {
      "text/plain": [
       "(7, 6)"
      ]
     },
     "execution_count": 61,
     "metadata": {},
     "output_type": "execute_result"
    }
   ],
   "source": [
    "cost_prob.shape"
   ]
  },
  {
   "cell_type": "code",
   "execution_count": 14,
   "metadata": {
    "collapsed": true
   },
   "outputs": [],
   "source": [
    "selected_repairs = pandas.read_pickle('cleaned_selected_repairs.pkl')\n",
    "veh_repair_map = {}\n",
    "for veh_id, repairs in selected_repairs.groupby(['Chassis\\nReference\\nNumber']):\n",
    "    veh_repair_map[veh_id] = repairs['ATA6'].values"
   ]
  },
  {
   "cell_type": "code",
   "execution_count": 15,
   "metadata": {
    "collapsed": true
   },
   "outputs": [],
   "source": [
    "# get global index from (row, col) index\n",
    "def sub2ind(array_shape, row, col):\n",
    "    ind = row*array_shape[1] + col\n",
    "    if row < 0 or row >= array_shape[0]:\n",
    "        ind = -1\n",
    "    if col < 0 or col >= array_shape[1]:\n",
    "        ind = -1\n",
    "    return ind\n",
    "\n",
    "# get (row, col) index from global index\n",
    "def ind2sub(array_shape, ind):\n",
    "    row = int(ind) / array_shape[1]\n",
    "    col = ind % array_shape[1]\n",
    "    if ind < 0:\n",
    "        row = -1\n",
    "        col = -1\n",
    "    if ind >=  array_shape[0]*array_shape[1]:\n",
    "        row = -1\n",
    "        col = -1\n",
    "    return (row, col)\n",
    "\n",
    "def softmax(x):\n",
    "    \"\"\"\n",
    "    Compute softmax function for input. \n",
    "    Use tricks from previous assignment to avoid overflow\n",
    "    \"\"\"\n",
    "    ### YOUR CODE HERE\n",
    "    xshift = np.max(x, axis = 1)\n",
    "    xshift = xshift.reshape((x.shape[0],1))\n",
    "    x = x - xshift\n",
    "    s = np.exp(x) / np.sum(np.exp(x),axis = 1).reshape((x.shape[0],1))\n",
    "    ### END YOUR CODE\n",
    "    return s"
   ]
  },
  {
   "cell_type": "code",
   "execution_count": 16,
   "metadata": {
    "collapsed": false
   },
   "outputs": [],
   "source": [
    "def start_train(selected_codes, train_map_revived, num_iter, num_states):\n",
    "    models = {}\n",
    "    codes = []\n",
    "    code_window_map = {}\n",
    "    for vehicleID in train_map_revived.keys():\n",
    "        for ATA6code in train_map_revived[vehicleID].keys():\n",
    "            if ATA6code not in selected_codes:\n",
    "                continue\n",
    "            if ATA6code not in code_window_map:\n",
    "                code_window_map[ATA6code] = {}\n",
    "            for time_window in train_map_revived[vehicleID][ATA6code].keys():\n",
    "                if time_window not in code_window_map[ATA6code]:\n",
    "                    code_window_map[ATA6code][time_window] = []\n",
    "                for sequence_of_snapshots in train_map_revived[vehicleID][ATA6code][time_window]:\n",
    "                    code_window_map[ATA6code][time_window].append(sequence_of_snapshots)\n",
    "\n",
    "    for ATA6code in code_window_map.keys():\n",
    "        for time_window in code_window_map[ATA6code].keys():\n",
    "            lengths = []\n",
    "            listofsequences = code_window_map[ATA6code][time_window]\n",
    "            X = pandas.concat(listofsequences).as_matrix()\n",
    "            for sequence in listofsequences:\n",
    "                lengths.append(sequence.shape[0]) \n",
    "            models[(ATA6code, time_window)] = hmm.GaussianHMM(n_components=num_states, n_iter=num_iter).fit(X.astype(float),lengths)\n",
    "    return models"
   ]
  },
  {
   "cell_type": "code",
   "execution_count": 17,
   "metadata": {
    "collapsed": false
   },
   "outputs": [],
   "source": [
    "# TRAIN\n",
    "num_states = 2\n",
    "num_time_windows = 10\n",
    "num_iter = 100\n",
    "models = start_train(selected_codes, train_combined, num_iter, num_states)"
   ]
  },
  {
   "cell_type": "code",
   "execution_count": 123,
   "metadata": {
    "collapsed": false
   },
   "outputs": [],
   "source": [
    "def get_results(alpha,selected_codes,val_map_revived,veh_repair_map,num_time_windows, code_probs, cost_prob, vehicle_repair_cost_map):    \n",
    "    # VALIDATION ACCURACY\n",
    "    num_codes = len(selected_codes)\n",
    "    lengths = []\n",
    "    for vehicleID in val_map_revived.keys():\n",
    "        for ATA6code in val_map_revived[vehicleID].keys():\n",
    "            if ATA6code not in selected_codes:\n",
    "                continue\n",
    "            for time_window in val_map_revived[vehicleID][ATA6code].keys():\n",
    "                lengths.append(len(val_map_revived[vehicleID][ATA6code][time_window]))\n",
    "    num_val = sum(lengths)\n",
    "    #print(num_val)\n",
    "\n",
    "    sample = 0\n",
    "    labels = []\n",
    "    \n",
    "    # mse scores\n",
    "    code_scores_mse = np.ones(num_val)\n",
    "    window_scores_mse = np.ones(num_val)\n",
    "    cost_scores_mse = np.ones(num_val)\n",
    "    \n",
    "    # accuracy scores\n",
    "    code_scores_acc = np.zeros(num_val)\n",
    "    window_scores_acc = np.zeros(num_val)\n",
    "    cost_scores_acc = np.zeros(num_val)\n",
    "    \n",
    "    log_likelihoods = np.zeros((num_val, num_codes, num_time_windows))\n",
    "    probabilities = np.zeros((num_val, num_codes, num_time_windows))\n",
    "    for vehicleID in val_map_revived.keys():\n",
    "        for ATA6code in val_map_revived[vehicleID].keys():\n",
    "            if ATA6code not in selected_codes:\n",
    "                continue\n",
    "            for time_window in val_map_revived[vehicleID][ATA6code].keys():\n",
    "                for sequence_of_snapshots in val_map_revived[vehicleID][ATA6code][time_window]:\n",
    "                    labels.append([selected_codes.index(ATA6code),time_window])\n",
    "                    x = sequence_of_snapshots.as_matrix() \n",
    "                    for pair in models.keys():\n",
    "                        c = selected_codes.index(pair[0])\n",
    "                        w = pair[1]\n",
    "                        if c == 0 & w == 0:\n",
    "            \n",
    "                            #continue\n",
    "                            #print(x.shape)\n",
    "                            temp_score = models[pair].score(x.astype(float))\n",
    "                            for i in range(len(log_likelihoods[sample,c,:])):\n",
    "                                log_likelihoods[sample,c,i] = temp_score\n",
    "                        else:\n",
    "                            #print(x.shape)\n",
    "                            log_likelihoods[sample,c,w] = models[pair].score(x.astype(float))\n",
    "                    \n",
    "                    # Compute Softmax Prob Matrix\n",
    "                    probabilities_temp = softmax(log_likelihoods[sample].reshape(1,num_codes*num_time_windows))\n",
    "                    probabilities[sample] = probabilities_temp.reshape(num_codes, num_time_windows) \n",
    "                    posterior_code_probs = np.sum(probabilities[sample]*code_probs,axis=1).reshape(1,7)\n",
    "                    #print(posterior_code_probs.shape)\n",
    "                    #print(cost_prob.shape)\n",
    "                    expected_cost = np.dot(np.dot(posterior_code_probs,cost_prob),np.arange(6).reshape(6,1))\n",
    "                    # Get marginal max \n",
    "                    argmax_window = np.argmax(np.dot(probabilities[sample].T,code_probs))\n",
    "                    argmax_code = np.argmax(np.sum(probabilities[sample]*code_probs,axis=1))\n",
    "                    #max_index = np.unravel_index(probabilities[sample].argmax(), probabilities[sample].shape)\n",
    "\n",
    "                    # MSE\n",
    "                    #----------\n",
    "                    # code\n",
    "                    if  argmax_code == selected_codes.index(ATA6code):\n",
    "                        code_scores_mse[sample] = 0\n",
    "                    elif vehicleID in veh_repair_map and selected_codes[argmax_code] in veh_repair_map[vehicleID]:\n",
    "                        code_scores_mse[sample] = 1-alpha\n",
    "                    # window\n",
    "                    window_scores_mse[sample] = math.pow(argmax_window - time_window,2)\n",
    "                    # cost\n",
    "                    if vehicleID in vehicle_repair_cost_map and ATA6code in vehicle_repair_cost_map[vehicleID]:\n",
    "                        cost_scores_mse[sample] = math.pow(expected_cost - vehicle_repair_cost_map[vehicleID][ATA6code],2)\n",
    "                    else:\n",
    "                        cost_scores_mse[sample] = math.pow(expected_cost - 0,2)\n",
    "                    \n",
    "                    # Accuracy\n",
    "                    #----------\n",
    "                    # code\n",
    "                    #print('argmax_code: ', argmax_code)\n",
    "                    #print('vehicleID: ', vehicleID)\n",
    "                    if  argmax_code == selected_codes.index(ATA6code):\n",
    "                        code_scores_acc[sample] = 1\n",
    "                    elif vehicleID in veh_repair_map and selected_codes[argmax_code] in veh_repair_map[vehicleID]:\n",
    "                        code_scores_acc[sample] = alpha\n",
    "                    # window\n",
    "                    window_scores_acc[sample] = 1.0/(1.0 + math.pow(argmax_window - time_window,2))\n",
    "                    # cost\n",
    "                    if vehicleID in vehicle_repair_cost_map and ATA6code in vehicle_repair_cost_map[vehicleID]:\n",
    "                        cost_scores_acc[sample] = 1.0/(1.0 + math.pow(expected_cost - vehicle_repair_cost_map[vehicleID][ATA6code],2))\n",
    "                    else:\n",
    "                        cost_scores_acc[sample] = 1.0/(1.0 + math.pow(expected_cost - 0,2))\n",
    "                    sample = sample+1        \n",
    "    \n",
    "    #print(code_scores_acc)\n",
    "    labels = np.asarray(labels)\n",
    "    code_error = np.mean(code_scores_mse)\n",
    "    window_error = np.mean(window_scores_mse) \n",
    "    cost_error = np.mean(cost_scores_mse)\n",
    "    code_accuracy = np.mean(code_scores_acc)\n",
    "    window_accuracy = np.mean(window_scores_acc)\n",
    "    cost_accuracy = np.mean(cost_scores_acc)\n",
    "    \n",
    "    return code_error, window_error, cost_error, code_accuracy, window_accuracy, cost_accuracy"
   ]
  },
  {
   "cell_type": "code",
   "execution_count": 124,
   "metadata": {
    "collapsed": false
   },
   "outputs": [
    {
     "name": "stdout",
     "output_type": "stream",
     "text": [
      "ATA6 Code Error:  0.564207650273\n",
      "ATA6 Code Accuracy:  0.435792349727\n",
      "Window Error:  21.2759562842\n",
      "Window Accuracy:  0.363338268133\n",
      "Cost Error:  1.4055536304\n",
      "Cost Accuracy:  0.766069413941\n"
     ]
    }
   ],
   "source": [
    "# VALIDATE\n",
    "alpha = 0.5\n",
    "code_probs = np.ones((num_codes,1))\n",
    "code_error, window_error, cost_error, code_accuracy, window_accuracy, cost_accuracy = get_results(alpha,selected_codes,test_combined,veh_repair_map,num_time_windows, pc_vec2, cost_prob, veh_repair_cost_map)\n",
    "print('ATA6 Code Error: ', code_error)\n",
    "print('ATA6 Code Accuracy: ', code_accuracy)\n",
    "print('Window Error: ', window_error)\n",
    "print('Window Accuracy: ', window_accuracy)\n",
    "print('Cost Error: ', cost_error)\n",
    "print('Cost Accuracy: ', cost_accuracy)"
   ]
  }
 ],
 "metadata": {
  "kernelspec": {
   "display_name": "Python 3",
   "language": "python",
   "name": "python3"
  },
  "language_info": {
   "codemirror_mode": {
    "name": "ipython",
    "version": 3
   },
   "file_extension": ".py",
   "mimetype": "text/x-python",
   "name": "python",
   "nbconvert_exporter": "python",
   "pygments_lexer": "ipython3",
   "version": "3.5.2"
  }
 },
 "nbformat": 4,
 "nbformat_minor": 0
}
