{
 "cells": [
  {
   "cell_type": "code",
   "execution_count": 47,
   "metadata": {
    "collapsed": false
   },
   "outputs": [
    {
     "name": "stdout",
     "output_type": "stream",
     "text": [
      "The autoreload extension is already loaded. To reload it, use:\n",
      "  %reload_ext autoreload\n"
     ]
    }
   ],
   "source": [
    "import pandas\n",
    "from create_train_test_val_maps import *\n",
    "\n",
    "%load_ext autoreload\n",
    "%autoreload 2"
   ]
  },
  {
   "cell_type": "code",
   "execution_count": 2,
   "metadata": {
    "collapsed": true
   },
   "outputs": [],
   "source": [
    "s_to_date = lambda x: pandas.to_datetime(x, format='%m/%d/%Y %H:%M:%S')\n",
    "snapshots = pandas.read_csv('/home/cs231n/data/selected_snapshots_full_deduped_backfilled_whitened.csv', converters={'Event DateTime':s_to_date})\n",
    "\n",
    "s_to_date = lambda x: pandas.to_datetime(x, format='%Y/%m/%d %H:%M:%S')\n",
    "ok_snapshots = pandas.read_csv('/home/cs231n/data/selected_snapshots_ok_deduped_backfilled_whitened.csv', converters={'Event DateTime':s_to_date})"
   ]
  },
  {
   "cell_type": "code",
   "execution_count": 65,
   "metadata": {
    "collapsed": false
   },
   "outputs": [
    {
     "name": "stdout",
     "output_type": "stream",
     "text": [
      "\n",
      "\n",
      "\n",
      "\n",
      "\n"
     ]
    }
   ],
   "source": [
    "ata6_train_repairs = pandas.read_csv('ATA6_train.csv')\n",
    "ata6_val_repairs = pandas.read_csv('ATA6_val.csv')\n",
    "ata6_test_repairs = pandas.read_csv('ATA6_test.csv')\n",
    "\n",
    "category_var = ['Veh Ref ID','Event Type Description','Brake Switch','Clutch Switch','Cruise Status','Dpf Regen Inhibit Sw', \n",
    "                'Dpf Thermal Mngmnt','Eng Coolant Level','DTCID']\n",
    "for cat in category_var:\n",
    "    snapshots[cat] = snapshots[cat].astype('category').cat.codes\n",
    "    ok_snapshots[cat] = ok_snapshots[cat].astype('category').cat.codes\n",
    "\n",
    "try:\n",
    "    snapshots = snapshots.drop(['DTC'],1)\n",
    "except:\n",
    "    print('')\n",
    "try:\n",
    "    snapshots = snapshots.drop(['Unnamed: 0'],1)\n",
    "except:\n",
    "    print('')\n",
    "try:\n",
    "    snapshots = snapshots.drop(['Ignition Cycle Counter'],1)\n",
    "except:\n",
    "    print('')\n",
    "    \n",
    "try:\n",
    "    ok_snapshots = ok_snapshots.drop(['DTC'],1)\n",
    "except:\n",
    "    print('')\n",
    "try:\n",
    "    ok_snapshots = ok_snapshots.drop(['Unnamed: 0'],1)\n",
    "except:\n",
    "    print('')\n",
    "try:\n",
    "    ok_snapshots = ok_snapshots.drop(['Ignition Cycle Counter'],1)\n",
    "except:\n",
    "    print('')\n",
    "\n",
    "train_veh_ids = ata6_train_repairs['Chassis Reference Number'].unique().astype(int)\n",
    "val_veh_ids = ata6_val_repairs['Chassis Reference Number'].unique().astype(int)\n",
    "test_veh_ids = ata6_test_repairs['Chassis Reference Number'].unique().astype(int)\n",
    "\n",
    "all_veh_ids = ok_snapshots['Veh Ref ID'].unique().astype(int)\n",
    "train_ok_ids = all_veh_ids[0:100]\n",
    "val_ok_ids = all_veh_ids[100:120]\n",
    "test_ok_ids = all_veh_ids[120:144]\n",
    "\n",
    "ids_tuple = (train_veh_ids, val_veh_ids, test_veh_ids)\n",
    "ids_ok_tuple = (train_ok_ids, val_ok_ids, test_ok_ids)\n",
    "repairs_tuple = (ata6_train_repairs, ata6_val_repairs, ata6_test_repairs)"
   ]
  },
  {
   "cell_type": "code",
   "execution_count": 66,
   "metadata": {
    "collapsed": false
   },
   "outputs": [],
   "source": [
    "create_maps(10, 10, snapshots, ok_snapshots, ids_tuple, ids_ok_tuple, repairs_tuple)"
   ]
  },
  {
   "cell_type": "code",
   "execution_count": 72,
   "metadata": {
    "collapsed": false
   },
   "outputs": [
    {
     "name": "stdout",
     "output_type": "stream",
     "text": [
      "Creating num windows 10 with size 10\n",
      "Creating num windows 10 with size 20\n",
      "Creating num windows 10 with size 30\n",
      "Creating num windows 10 with size 40\n",
      "Creating num windows 10 with size 50\n",
      "Creating num windows 10 with size 60\n",
      "Creating num windows 10 with size 70\n",
      "Creating num windows 10 with size 80\n",
      "Creating num windows 10 with size 90\n",
      "Creating num windows 20 with size 10\n",
      "Creating num windows 20 with size 20\n",
      "Creating num windows 20 with size 30\n",
      "Creating num windows 20 with size 40\n",
      "Creating num windows 20 with size 50\n",
      "Creating num windows 20 with size 60\n",
      "Creating num windows 20 with size 70\n",
      "Creating num windows 20 with size 80\n",
      "Creating num windows 20 with size 90\n",
      "Creating num windows 30 with size 10\n",
      "Creating num windows 30 with size 20\n",
      "Creating num windows 30 with size 30\n",
      "Creating num windows 30 with size 40\n",
      "Creating num windows 30 with size 50\n",
      "Creating num windows 30 with size 60\n",
      "Creating num windows 30 with size 70\n",
      "Creating num windows 30 with size 80\n",
      "Creating num windows 30 with size 90\n",
      "Creating num windows 40 with size 10\n",
      "Creating num windows 40 with size 20\n",
      "Creating num windows 40 with size 30\n",
      "Creating num windows 40 with size 40\n",
      "Creating num windows 40 with size 50\n",
      "Creating num windows 40 with size 60\n",
      "Creating num windows 40 with size 70\n",
      "Creating num windows 40 with size 80\n",
      "Creating num windows 40 with size 90\n",
      "Creating num windows 50 with size 10\n",
      "Creating num windows 50 with size 20\n",
      "Creating num windows 50 with size 30\n",
      "Creating num windows 50 with size 40\n",
      "Creating num windows 50 with size 50\n",
      "Creating num windows 50 with size 60\n",
      "Creating num windows 50 with size 70\n",
      "Creating num windows 50 with size 80\n",
      "Creating num windows 50 with size 90\n",
      "Creating num windows 60 with size 10\n",
      "Creating num windows 60 with size 20\n",
      "Creating num windows 60 with size 30\n",
      "Creating num windows 60 with size 40\n",
      "Creating num windows 60 with size 50\n",
      "Creating num windows 60 with size 60\n",
      "Creating num windows 60 with size 70\n",
      "Creating num windows 60 with size 80\n",
      "Creating num windows 60 with size 90\n",
      "Creating num windows 70 with size 10\n",
      "Creating num windows 70 with size 20\n",
      "Creating num windows 70 with size 30\n",
      "Creating num windows 70 with size 40\n",
      "Creating num windows 70 with size 50\n",
      "Creating num windows 70 with size 60\n",
      "Creating num windows 70 with size 70\n",
      "Creating num windows 70 with size 80\n",
      "Creating num windows 70 with size 90\n",
      "Creating num windows 80 with size 10\n",
      "Creating num windows 80 with size 20\n",
      "Creating num windows 80 with size 30\n",
      "Creating num windows 80 with size 40\n",
      "Creating num windows 80 with size 50\n",
      "Creating num windows 80 with size 60\n",
      "Creating num windows 80 with size 70\n",
      "Creating num windows 80 with size 80\n",
      "Creating num windows 80 with size 90\n",
      "Creating num windows 90 with size 10\n",
      "Creating num windows 90 with size 20\n",
      "Creating num windows 90 with size 30\n",
      "Creating num windows 90 with size 40\n",
      "Creating num windows 90 with size 50\n",
      "Creating num windows 90 with size 60\n",
      "Creating num windows 90 with size 70\n",
      "Creating num windows 90 with size 80\n",
      "Creating num windows 90 with size 90\n"
     ]
    }
   ],
   "source": [
    "for nwin in range(10,100,10):\n",
    "    for wsize in range(10,100,10):\n",
    "        print(\"Creating num windows {} with size {}\".format(nwin, wsize))\n",
    "        create_maps(nwin, wsize, snapshots, ok_snapshots, ids_tuple, ids_ok_tuple, repairs_tuple)"
   ]
  },
  {
   "cell_type": "code",
   "execution_count": 67,
   "metadata": {
    "collapsed": true
   },
   "outputs": [],
   "source": [
    "train_combined, val_combined, test_combined = load_maps(10, 10)"
   ]
  },
  {
   "cell_type": "code",
   "execution_count": 68,
   "metadata": {
    "collapsed": false
   },
   "outputs": [
    {
     "data": {
      "text/plain": [
       "dict_keys([0, 1, 2, 3, 4, 517, 6, 7, 520, 9, 10, 11, 12, 13, 14, 15, 16, 529, 530, 19, 20, 21, 22, 535, 24, 537, 26, 539, 540, 427, 30, 31, 544, 33, 18, 35, 36, 37, 38, 39, 40, 41, 42, 43, 556, 45, 558, 559, 560, 8, 50, 51, 564, 565, 54, 567, 568, 57, 58, 571, 60, 61, 62, 63, 64, 65, 66, 523, 580, 69, 70, 583, 584, 73, 586, 75, 76, 77, 78, 79, 80, 81, 514, 598, 88, 72, 602, 91, 92, 93, 606, 101, 608, 97, 610, 612, 613, 102, 17, 616, 617, 106, 619, 108, 621, 623, 112, 113, 114, 627, 628, 118, 105, 120, 633, 122, 124, 618, 126, 127, 128, 129, 130, 131, 132, 645, 134, 136, 137, 138, 23, 140, 141, 142, 27, 90, 150, 25, 111, 5, 160, 161, 163, 165, 166, 168, 28, 170, 174, 29, 177, 178, 179, 180, 542, 183, 184, 116, 187, 189, 190, 191, 192, 193, 203, 200, 631, 34, 206, 209, 212, 213, 121, 218, 220, 222, 604, 225, 226, 227, 230, 231, 232, 235, 236, 237, 242, 56, 247, 251, 252, 253, 254, 255, 257, 258, 259, 260, 44, 268, 277, 281, 47, 284, 285, 95, 48, 49, 297, 298, 303, 304, 563, 310, 52, 53, 224, 139, 329, 55, 335, 336, 337, 340, 342, 343, 345, 346, 143, 349, 350, 351, 352, 353, 354, 59, 356, 357, 360, 361, 365, 366, 367, 368, 369, 370, 372, 373, 376, 377, 382, 384, 115, 388, 67, 404, 68, 410, 82, 424, 426, 71, 428, 429, 430, 431, 432, 433, 436, 437, 438, 440, 441, 74, 446, 448, 450, 451, 453, 32, 457, 458, 459, 462, 464, 465, 467, 468, 469, 472, 474, 475, 476, 477, 478, 479, 480, 481, 483, 488, 489, 490, 491, 594, 494, 497, 498, 499, 500, 502, 503, 504, 505, 506, 119, 508, 510])"
      ]
     },
     "execution_count": 68,
     "metadata": {},
     "output_type": "execute_result"
    }
   ],
   "source": [
    "train_combined.keys()"
   ]
  },
  {
   "cell_type": "code",
   "execution_count": 69,
   "metadata": {
    "collapsed": false
   },
   "outputs": [
    {
     "data": {
      "text/plain": [
       "61"
      ]
     },
     "execution_count": 69,
     "metadata": {},
     "output_type": "execute_result"
    }
   ],
   "source": [
    "len(list(train_combined[232][43007][0][0]))"
   ]
  },
  {
   "cell_type": "code",
   "execution_count": 70,
   "metadata": {
    "collapsed": false
   },
   "outputs": [
    {
     "data": {
      "text/plain": [
       "61"
      ]
     },
     "execution_count": 70,
     "metadata": {},
     "output_type": "execute_result"
    }
   ],
   "source": [
    "len(list(train_combined[115][0][0][0]))"
   ]
  },
  {
   "cell_type": "code",
   "execution_count": null,
   "metadata": {
    "collapsed": true
   },
   "outputs": [],
   "source": []
  }
 ],
 "metadata": {
  "kernelspec": {
   "display_name": "Python 3",
   "language": "python",
   "name": "python3"
  },
  "language_info": {
   "codemirror_mode": {
    "name": "ipython",
    "version": 3
   },
   "file_extension": ".py",
   "mimetype": "text/x-python",
   "name": "python",
   "nbconvert_exporter": "python",
   "pygments_lexer": "ipython3",
   "version": "3.5.2"
  }
 },
 "nbformat": 4,
 "nbformat_minor": 0
}
