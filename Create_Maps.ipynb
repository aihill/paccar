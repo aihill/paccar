{
 "cells": [
  {
   "cell_type": "code",
   "execution_count": 1,
   "metadata": {
    "collapsed": false
   },
   "outputs": [],
   "source": [
    "import pandas\n",
    "from create_train_test_val_maps import *\n",
    "\n",
    "%load_ext autoreload\n",
    "%autoreload 2"
   ]
  },
  {
   "cell_type": "code",
   "execution_count": 2,
   "metadata": {
    "collapsed": true
   },
   "outputs": [],
   "source": [
    "s_to_date = lambda x: pandas.to_datetime(x, format='%m/%d/%Y %H:%M:%S')\n",
    "snapshots = pandas.read_csv('/home/cs231n/data/selected_snapshots_full_deduped_backfilled_whitened.csv', converters={'Event DateTime':s_to_date})\n",
    "\n",
    "s_to_date = lambda x: pandas.to_datetime(x, format='%Y/%m/%d %H:%M:%S')\n",
    "ok_snapshots = pandas.read_csv('/home/cs231n/data/selected_snapshots_ok_deduped_backfilled_whitened.csv', converters={'Event DateTime':s_to_date})"
   ]
  },
  {
   "cell_type": "code",
   "execution_count": 3,
   "metadata": {
    "collapsed": false
   },
   "outputs": [],
   "source": [
    "ata6_train_repairs = pandas.read_csv('ATA6_train.csv')\n",
    "ata6_val_repairs = pandas.read_csv('ATA6_val.csv')\n",
    "ata6_test_repairs = pandas.read_csv('ATA6_test.csv')\n",
    "\n",
    "category_var = ['Event Type Description','Brake Switch','Clutch Switch','Cruise Status','Dpf Regen Inhibit Sw', \n",
    "                'Dpf Thermal Mngmnt','Eng Coolant Level','DTCID']\n",
    "for cat in category_var:\n",
    "    snapshots[cat] = snapshots[cat].astype('category').cat.codes\n",
    "    ok_snapshots[cat] = ok_snapshots[cat].astype('category').cat.codes\n",
    "\n",
    "try:\n",
    "    snapshots = snapshots.drop(['DTC'],1)\n",
    "except:\n",
    "    pass\n",
    "try:\n",
    "    snapshots = snapshots.drop(['Unnamed: 0'],1)\n",
    "except:\n",
    "    pass\n",
    "try:\n",
    "    snapshots = snapshots.drop(['Ignition Cycle Counter'],1)\n",
    "except:\n",
    "    pass\n",
    "    \n",
    "try:\n",
    "    ok_snapshots = ok_snapshots.drop(['DTC'],1)\n",
    "except:\n",
    "    pass\n",
    "try:\n",
    "    ok_snapshots = ok_snapshots.drop(['Unnamed: 0'],1)\n",
    "except:\n",
    "    pass\n",
    "try:\n",
    "    ok_snapshots = ok_snapshots.drop(['Ignition Cycle Counter'],1)\n",
    "except:\n",
    "    pass\n",
    "\n",
    "train_veh_ids = ata6_train_repairs['Chassis Reference Number'].unique().astype(int)\n",
    "val_veh_ids = ata6_val_repairs['Chassis Reference Number'].unique().astype(int)\n",
    "test_veh_ids = ata6_test_repairs['Chassis Reference Number'].unique().astype(int)\n",
    "\n",
    "all_ok_veh_ids = ok_snapshots['Veh Ref ID'].unique().astype(int)\n",
    "# these are carefully tuned proportions to match lowest frequency code in each group\n",
    "train_ok_ids = all_ok_veh_ids[0:5]\n",
    "val_ok_ids = all_ok_veh_ids[5:8]\n",
    "test_ok_ids = all_ok_veh_ids[8:11]\n",
    "\n",
    "ids_tuple = (train_veh_ids, val_veh_ids, test_veh_ids)\n",
    "ids_ok_tuple = (train_ok_ids, val_ok_ids, test_ok_ids)\n",
    "repairs_tuple = (ata6_train_repairs, ata6_val_repairs, ata6_test_repairs)"
   ]
  },
  {
   "cell_type": "code",
   "execution_count": null,
   "metadata": {
    "collapsed": true
   },
   "outputs": [],
   "source": [
    "# run this first in your terminal to clear out previous maps\n",
    "# > cd /home/cs231n/data; sudo find . -name \"train*\" -delete; sudo find . -name \"val*\" -delete; sudo find . -name \"test*\" -delete;"
   ]
  },
  {
   "cell_type": "code",
   "execution_count": 26,
   "metadata": {
    "collapsed": false
   },
   "outputs": [],
   "source": [
    "hyper_tuples = [(1,500), (2,250), (5,100), (10, 50)]\n",
    "\n",
    "for num_windows, window_size in hyper_tuples:\n",
    "    create_maps(num_windows, window_size, snapshots, ok_snapshots, ids_tuple, ids_ok_tuple, repairs_tuple, incomplete_windows=True)"
   ]
  },
  {
   "cell_type": "code",
   "execution_count": null,
   "metadata": {
    "collapsed": true
   },
   "outputs": [],
   "source": [
    "train_combined, val_combined, test_combined = load_maps(10,50)"
   ]
  },
  {
   "cell_type": "code",
   "execution_count": null,
   "metadata": {
    "collapsed": true
   },
   "outputs": [],
   "source": [
    "# only run this if you are readjusting the proportions\n",
    "# num_windows, window_size = (5,100)\n",
    "# ok_slices = get_ok_slices_map(train_ok_ids, ok_snapshots, 1, window_size, ignore_past=True)\n",
    "# print(sum([len(ok_slices[i][0][0][0]) for i in ok_slices.keys()]))\n",
    "# repair_slices = get_repair_slices_map(train_veh_ids, snapshots, ata6_train_repairs, num_windows, window_size, code='ATA6', ignore_past=True)\n",
    "# print(sum([len(repair_slices[i][45008][0][0]) for i in repair_slices.keys() if 45008 in repair_slices[i]]))\n",
    "\n",
    "# num_windows, window_size = (10,10)\n",
    "# ok_slices = get_ok_slices_map(val_ok_ids, ok_snapshots, 1, window_size, ignore_past=True)\n",
    "# print(sum([len(ok_slices[i][0][0][0]) for i in ok_slices.keys()]))\n",
    "# repair_slices = get_repair_slices_map(val_veh_ids, snapshots, ata6_val_repairs, num_windows, window_size, code='ATA6', ignore_past=True)\n",
    "# print(sum([len(repair_slices[i][45007][0][0]) for i in repair_slices.keys() if 45007 in repair_slices[i]]))\n",
    "\n",
    "# num_windows, window_size = (10,10)\n",
    "# ok_slices = get_ok_slices_map(test_ok_ids, ok_snapshots, 1, window_size, ignore_past=True)\n",
    "# print(sum([len(ok_slices[i][0][0][0]) for i in ok_slices.keys()]))\n",
    "# repair_slices = get_repair_slices_map(test_veh_ids, snapshots, ata6_test_repairs, num_windows, window_size, code='ATA6', ignore_past=True)\n",
    "# print(sum([len(repair_slices[i][43004][0][0]) for i in repair_slices.keys() if 43004 in repair_slices[i]]))"
   ]
  },
  {
   "cell_type": "code",
   "execution_count": null,
   "metadata": {
    "collapsed": true
   },
   "outputs": [],
   "source": []
  }
 ],
 "metadata": {
  "kernelspec": {
   "display_name": "Python 3",
   "language": "python",
   "name": "python3"
  },
  "language_info": {
   "codemirror_mode": {
    "name": "ipython",
    "version": 3
   },
   "file_extension": ".py",
   "mimetype": "text/x-python",
   "name": "python",
   "nbconvert_exporter": "python",
   "pygments_lexer": "ipython3",
   "version": "3.5.2"
  }
 },
 "nbformat": 4,
 "nbformat_minor": 0
}
