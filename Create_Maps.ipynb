{
 "cells": [
  {
   "cell_type": "code",
   "execution_count": 18,
   "metadata": {
    "collapsed": false
   },
   "outputs": [
    {
     "name": "stdout",
     "output_type": "stream",
     "text": [
      "The autoreload extension is already loaded. To reload it, use:\n",
      "  %reload_ext autoreload\n"
     ]
    }
   ],
   "source": [
    "import pandas\n",
    "from create_train_test_val_maps import *\n",
    "\n",
    "%load_ext autoreload\n",
    "%autoreload 2"
   ]
  },
  {
   "cell_type": "code",
   "execution_count": 12,
   "metadata": {
    "collapsed": true
   },
   "outputs": [],
   "source": [
    "s_to_date = lambda x: pandas.to_datetime(x, format='%m/%d/%Y %H:%M:%S')\n",
    "snapshots = pandas.read_csv('/home/cs231n/data/selected_snapshots_full_deduped_backfilled_whitened.csv', converters={'Event DateTime':s_to_date})\n",
    "\n",
    "s_to_date = lambda x: pandas.to_datetime(x, format='%Y/%m/%d %H:%M:%S')\n",
    "ok_snapshots = pandas.read_csv('/home/cs231n/data/selected_snapshots_ok_deduped_backfilled_whitened.csv', converters={'Event DateTime':s_to_date})"
   ]
  },
  {
   "cell_type": "code",
   "execution_count": 13,
   "metadata": {
    "collapsed": false
   },
   "outputs": [
    {
     "name": "stdout",
     "output_type": "stream",
     "text": [
      "\n",
      "\n"
     ]
    }
   ],
   "source": [
    "ata6_train_repairs = pandas.read_csv('ATA6_train.csv')\n",
    "ata6_val_repairs = pandas.read_csv('ATA6_val.csv')\n",
    "ata6_test_repairs = pandas.read_csv('ATA6_test.csv')\n",
    "\n",
    "category_var = ['Event Type Description','Brake Switch','Clutch Switch','Cruise Status','Dpf Regen Inhibit Sw', \n",
    "                'Dpf Thermal Mngmnt','Eng Coolant Level','DTCID']\n",
    "for cat in category_var:\n",
    "    snapshots[cat] = snapshots[cat].astype('category').cat.codes\n",
    "    ok_snapshots[cat] = ok_snapshots[cat].astype('category').cat.codes\n",
    "\n",
    "try:\n",
    "    snapshots = snapshots.drop(['DTC'],1)\n",
    "except:\n",
    "    print('')\n",
    "try:\n",
    "    snapshots = snapshots.drop(['Unnamed: 0'],1)\n",
    "except:\n",
    "    print('')\n",
    "try:\n",
    "    snapshots = snapshots.drop(['Ignition Cycle Counter'],1)\n",
    "except:\n",
    "    print('')\n",
    "    \n",
    "try:\n",
    "    ok_snapshots = ok_snapshots.drop(['DTC'],1)\n",
    "except:\n",
    "    print('')\n",
    "try:\n",
    "    ok_snapshots = ok_snapshots.drop(['Unnamed: 0'],1)\n",
    "except:\n",
    "    print('')\n",
    "try:\n",
    "    ok_snapshots = ok_snapshots.drop(['Ignition Cycle Counter'],1)\n",
    "except:\n",
    "    print('')\n",
    "\n",
    "train_veh_ids = ata6_train_repairs['Chassis Reference Number'].unique().astype(int)\n",
    "val_veh_ids = ata6_val_repairs['Chassis Reference Number'].unique().astype(int)\n",
    "test_veh_ids = ata6_test_repairs['Chassis Reference Number'].unique().astype(int)\n",
    "\n",
    "all_veh_ids = ok_snapshots['Veh Ref ID'].unique().astype(int)\n",
    "train_ok_ids = all_veh_ids[0:100]\n",
    "val_ok_ids = all_veh_ids[100:120]\n",
    "test_ok_ids = all_veh_ids[120:144]\n",
    "\n",
    "ids_tuple = (train_veh_ids, val_veh_ids, test_veh_ids)\n",
    "ids_ok_tuple = (train_ok_ids, val_ok_ids, test_ok_ids)\n",
    "repairs_tuple = (ata6_train_repairs, ata6_val_repairs, ata6_test_repairs)"
   ]
  },
  {
   "cell_type": "code",
   "execution_count": null,
   "metadata": {
    "collapsed": true
   },
   "outputs": [],
   "source": [
    "# run this first in your terminal to clear out previous maps\n",
    "# > rm /home/cs231n/data/train*; rm /home/cs231n/data/val*; rm /home/cs231n/data/test*;"
   ]
  },
  {
   "cell_type": "code",
   "execution_count": 76,
   "metadata": {
    "collapsed": false
   },
   "outputs": [],
   "source": [
    "ok_size_dist = (24, 30, 17) # do not change this\n",
    "\n",
    "hyper_tuples = [(1,500), (5,20), (5,50), (2,250), (5,100), (5,250), (10, 10), (10, 100)]\n",
    "\n",
    "for num_windows, window_size in hyper_tuples:\n",
    "    create_maps(num_windows, window_size, snapshots, ok_snapshots, ids_tuple, ids_ok_tuple, repairs_tuple, ok_size_dist)"
   ]
  },
  {
   "cell_type": "code",
   "execution_count": 77,
   "metadata": {
    "collapsed": true
   },
   "outputs": [],
   "source": [
    "train_combined, val_combined, test_combined = load_maps(10, 10)"
   ]
  },
  {
   "cell_type": "code",
   "execution_count": null,
   "metadata": {
    "collapsed": true
   },
   "outputs": [],
   "source": []
  }
 ],
 "metadata": {
  "kernelspec": {
   "display_name": "Python 3",
   "language": "python",
   "name": "python3"
  },
  "language_info": {
   "codemirror_mode": {
    "name": "ipython",
    "version": 3
   },
   "file_extension": ".py",
   "mimetype": "text/x-python",
   "name": "python",
   "nbconvert_exporter": "python",
   "pygments_lexer": "ipython3",
   "version": "3.5.2"
  }
 },
 "nbformat": 4,
 "nbformat_minor": 0
}
