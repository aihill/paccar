{
 "cells": [
  {
   "cell_type": "code",
   "execution_count": 1,
   "metadata": {
    "collapsed": true
   },
   "outputs": [],
   "source": [
    "import matplotlib.pyplot as plt\n",
    "%matplotlib inline\n",
    "import numpy as np\n",
    "import pandas\n",
    "import math\n",
    "from hmmlearn import hmm\n",
    "from sklearn import mixture\n",
    "from sklearn.mixture import BayesianGaussianMixture\n",
    "import numpy as np\n",
    "import warnings\n",
    "warnings.filterwarnings('ignore')\n",
    "\n",
    "from create_train_test_val_maps import *"
   ]
  },
  {
   "cell_type": "code",
   "execution_count": 2,
   "metadata": {
    "collapsed": true
   },
   "outputs": [],
   "source": [
    "pc_vec = pandas.read_pickle('pc_vec.pkl')\n",
    "pc_vec2 = np.array(pc_vec['prob']).reshape((7,1))\n",
    "\n",
    "cost_prob = np.genfromtxt('cost_prob.csv',delimiter=',')\n",
    "cost_prob = cost_prob.T\n",
    "\n",
    "selected_codes = [0,45021, 44004, 43004, 45008, 45002, 45007] # first code is the ok\n",
    "selected_codes = list(np.sort(selected_codes))\n",
    "num_codes = len(selected_codes)"
   ]
  },
  {
   "cell_type": "code",
   "execution_count": 3,
   "metadata": {
    "collapsed": true
   },
   "outputs": [],
   "source": [
    "selected_repairs = pandas.read_pickle('cleaned_selected_repairs.pkl')\n",
    "veh_repair_cost_map = {}\n",
    "\n",
    "for idx, row in selected_repairs.iterrows():\n",
    "    veh_id = row['Chassis\\nReference\\nNumber']\n",
    "    if veh_id not in veh_repair_cost_map:\n",
    "        veh_repair_cost_map[veh_id] = {}\n",
    "    cost_str = row['Repair Cost']\n",
    "    cost = 0\n",
    "    if cost_str == 'very low':\n",
    "        cost = 1\n",
    "    elif cost_str == 'low':\n",
    "        cost = 2\n",
    "    elif cost_str == 'medium':\n",
    "        cost = 3\n",
    "    elif cost_str == 'high ':\n",
    "        cost = 4\n",
    "    elif cost_str == 'very high':\n",
    "        cost = 5\n",
    "    if cost==0:\n",
    "        print(\"error: {}\".format(veh_id))\n",
    "    veh_repair_cost_map[veh_id][row['ATA6']] = cost"
   ]
  },
  {
   "cell_type": "code",
   "execution_count": 4,
   "metadata": {
    "collapsed": true
   },
   "outputs": [],
   "source": [
    "selected_repairs = pandas.read_pickle('cleaned_selected_repairs.pkl')\n",
    "veh_repair_map = {}\n",
    "for veh_id, repairs in selected_repairs.groupby(['Chassis\\nReference\\nNumber']):\n",
    "    veh_repair_map[veh_id] = repairs['ATA6'].values"
   ]
  },
  {
   "cell_type": "code",
   "execution_count": 5,
   "metadata": {
    "collapsed": true
   },
   "outputs": [],
   "source": [
    "# Source: Julio's helper functions for HMM in AA228 project\n",
    "# get global index from (row, col) index\n",
    "def sub2ind(array_shape, row, col):\n",
    "    ind = row*array_shape[1] + col\n",
    "    if row < 0 or row >= array_shape[0]:\n",
    "        ind = -1\n",
    "    if col < 0 or col >= array_shape[1]:\n",
    "        ind = -1\n",
    "    return ind\n",
    "\n",
    "# get (row, col) index from global index\n",
    "def ind2sub(array_shape, ind):\n",
    "    row = int(ind) / array_shape[1]\n",
    "    col = ind % array_shape[1]\n",
    "    if ind < 0:\n",
    "        row = -1\n",
    "        col = -1\n",
    "    if ind >=  array_shape[0]*array_shape[1]:\n",
    "        row = -1\n",
    "        col = -1\n",
    "    return (row, col)\n",
    "\n",
    "def softmax(x):\n",
    "    \"\"\"\n",
    "    Compute softmax function for input. \n",
    "    Use tricks from previous assignment to avoid overflow\n",
    "    \"\"\"\n",
    "    ### YOUR CODE HERE\n",
    "    xshift = np.max(x, axis = 1)\n",
    "    xshift = xshift.reshape((x.shape[0],1))\n",
    "    x = x - xshift\n",
    "    s = np.exp(x) / np.sum(np.exp(x),axis = 1).reshape((x.shape[0],1))\n",
    "    ### END YOUR CODE\n",
    "    return s"
   ]
  },
  {
   "cell_type": "code",
   "execution_count": 21,
   "metadata": {
    "collapsed": true
   },
   "outputs": [],
   "source": [
    "def gen_code_window_map(selected_codes, train_map_revived, num_iter, num_states, num_inits):   \n",
    "    code_window_map = {}\n",
    "    for vehicleID in train_map_revived.keys():\n",
    "        for ATA6code in train_map_revived[vehicleID].keys():\n",
    "            if ATA6code not in selected_codes:\n",
    "                continue\n",
    "            if ATA6code not in code_window_map:\n",
    "                code_window_map[ATA6code] = {}\n",
    "            for time_window in train_map_revived[vehicleID][ATA6code].keys():\n",
    "                if time_window not in code_window_map[ATA6code]:\n",
    "                    code_window_map[ATA6code][time_window] = []\n",
    "                for sequence_of_snapshots in train_map_revived[vehicleID][ATA6code][time_window]:\n",
    "                    code_window_map[ATA6code][time_window].append(sequence_of_snapshots)\n",
    "    \n",
    "    return code_window_map   "
   ]
  },
  {
   "cell_type": "code",
   "execution_count": 20,
   "metadata": {
    "collapsed": true
   },
   "outputs": [],
   "source": [
    "def train_gmm(code_window_map, num_iter, num_states, num_inits):\n",
    "    models_code = {}\n",
    "    models = {}\n",
    "    #cat_col = [0, 4, 8, 10, 11, 12, 16, 47]\n",
    "    #hmm_setting = hmm.GaussianHMM(n_components=num_states, n_iter=num_iter)\n",
    "    gmm = mixture.GaussianMixture(n_components=num_states, covariance_type='full', max_iter=num_iter, n_init=num_inits)\n",
    "    #dpgmm = mixture.BayesianGaussianMixture(n_components=num_states, covariance_type='full')\n",
    "    \n",
    "    for ATA6code in code_window_map.keys():\n",
    "        Xcode = []\n",
    "        lengths_code = []\n",
    "        for time_window in code_window_map[ATA6code].keys():\n",
    "            lengths = []\n",
    "            listofsequences = code_window_map[ATA6code][time_window]\n",
    "            X = pandas.concat(listofsequences).as_matrix()\n",
    "            Xcode = pandas.concat(Xcode, X)\n",
    "            #Xnum = np.delete(X,cat_col,axis=1)\n",
    "            for sequence in listofsequences:\n",
    "                lengths.append(sequence.shape[0])\n",
    "                lengths_code.append(sequence.shape[0])\n",
    "            #models[(ATA6code, time_window)] = hmm_setting.fit(X.astype(float),lengths)\n",
    "            models[(ATA6code, time_window)] = gmm.fit(X.astype(float))\n",
    "            #models[(ATA6code, time_window)] = gmm.fit(Xnum.astype(float))\n",
    "            #models[(ATA6code, time_window)] = dpgmm.fit(X.astype(float))\n",
    "        models_code[(ATA6code)] = gmm.fit(Xcode.astype(float))\n",
    "        \n",
    "    return models_code, models"
   ]
  },
  {
   "cell_type": "code",
   "execution_count": null,
   "metadata": {
    "collapsed": true
   },
   "outputs": [],
   "source": [
    "def predict_code(models_code, )"
   ]
  },
  {
   "cell_type": "code",
   "execution_count": null,
   "metadata": {
    "collapsed": true
   },
   "outputs": [],
   "source": [
    "num_states = 2\n",
    "num_iter = 100\n",
    "alpha = 0.5\n",
    "\n",
    "num_win = [1,2,5,10]\n",
    "win_size = [500,250,100,50]"
   ]
  },
  {
   "cell_type": "code",
   "execution_count": 12,
   "metadata": {
    "collapsed": true
   },
   "outputs": [],
   "source": [
    "# Julio's code written for training HMM in AA228 project\n",
    "# Made a slight amendment to fit gmm instead of hmm\n",
    "def start_train_gmm(selected_codes, train_map_revived, num_iter, num_states, num_inits):    \n",
    "    models = {}\n",
    "    codes = []\n",
    "    code_window_map = {}\n",
    "    cat_col = [0, 4, 8, 10, 11, 12, 16, 47]\n",
    "    for vehicleID in train_map_revived.keys():\n",
    "        for ATA6code in train_map_revived[vehicleID].keys():\n",
    "            if ATA6code not in selected_codes:\n",
    "                continue\n",
    "            if ATA6code not in code_window_map:\n",
    "                code_window_map[ATA6code] = {}\n",
    "            for time_window in train_map_revived[vehicleID][ATA6code].keys():\n",
    "                if time_window not in code_window_map[ATA6code]:\n",
    "                    code_window_map[ATA6code][time_window] = []\n",
    "                for sequence_of_snapshots in train_map_revived[vehicleID][ATA6code][time_window]:\n",
    "                    code_window_map[ATA6code][time_window].append(sequence_of_snapshots)\n",
    "\n",
    "    for ATA6code in code_window_map.keys():\n",
    "        for time_window in code_window_map[ATA6code].keys():\n",
    "            lengths = []\n",
    "            listofsequences = code_window_map[ATA6code][time_window]\n",
    "            X = pandas.concat(listofsequences).as_matrix()\n",
    "            Xnum = np.delete(X,cat_col,axis=1)\n",
    "            for sequence in listofsequences:\n",
    "                lengths.append(sequence.shape[0]) \n",
    "            #models[(ATA6code, time_window)] = hmm.GaussianHMM(n_components=num_states, n_iter=num_iter).fit(X.astype(float),lengths)\n",
    "            gmm = mixture.GaussianMixture(n_components=num_states, covariance_type='full', max_iter=num_iter, n_init=num_inits)\n",
    "            #dpgmm = mixture.BayesianGaussianMixture(n_components=num_states, covariance_type='full')\n",
    "            models[(ATA6code, time_window)] = gmm.fit(X.astype(float))\n",
    "            #models[(ATA6code, time_window)] = gmm.fit(Xnum.astype(float))\n",
    "            #models[(ATA6code, time_window)] = dpgmm.fit(X.astype(float))\n",
    "    return models"
   ]
  },
  {
   "cell_type": "code",
   "execution_count": 15,
   "metadata": {
    "collapsed": true
   },
   "outputs": [],
   "source": [
    "# Julio's code written for evaluating HMM in AA228's project\n",
    "# Made a slight amendment to calculate & output #true positives, #actual positives, #predicted positives\n",
    "def get_results(alpha,selected_codes,val_map_revived,veh_repair_map,num_time_windows, code_probs, cost_prob, vehicle_repair_cost_map):    \n",
    "    # VALIDATION ACCURACY\n",
    "    num_codes = len(selected_codes)\n",
    "    \n",
    "    # Arrays to store true positive, actual positive, predicted positive\n",
    "    trueP_code = {}\n",
    "    actualP_code = {}\n",
    "    predP_code = {}\n",
    "    trueP_win = {}\n",
    "    actualP_win = {}\n",
    "    predP_win = {}\n",
    "    for i in selected_codes:\n",
    "        trueP_code[i]=0\n",
    "        actualP_code[i]=0\n",
    "        predP_code[i]=0\n",
    "    for i in range(num_time_windows):\n",
    "        trueP_win[i]=0\n",
    "        actualP_win[i]=0\n",
    "        predP_win[i]=0        \n",
    "    \n",
    "    lengths = []\n",
    "    for vehicleID in val_map_revived.keys():\n",
    "        for ATA6code in val_map_revived[vehicleID].keys():\n",
    "            if ATA6code not in selected_codes:\n",
    "                continue\n",
    "            for time_window in val_map_revived[vehicleID][ATA6code].keys():\n",
    "                # append #sequences for (vehicleID,ATA6code,time_window)\n",
    "                lengths.append(len(val_map_revived[vehicleID][ATA6code][time_window]))\n",
    "    # total number of sequences\n",
    "    num_val = sum(lengths)\n",
    "    #print(lengths)\n",
    "\n",
    "    sample = 0\n",
    "    labels = []\n",
    "    \n",
    "    \n",
    "    # mse scores\n",
    "    code_scores_mse = np.ones(num_val)\n",
    "    window_scores_mse = np.ones(num_val)\n",
    "    cost_scores_mse = np.ones(num_val)\n",
    "    \n",
    "    # accuracy scores\n",
    "    code_scores_acc = np.zeros(num_val)\n",
    "    window_scores_acc = np.zeros(num_val)\n",
    "    cost_scores_acc = np.zeros(num_val)\n",
    "    \n",
    "    log_likelihoods = np.zeros((num_val, num_codes, num_time_windows))\n",
    "    probabilities = np.zeros((num_val, num_codes, num_time_windows))\n",
    "    for vehicleID in val_map_revived.keys():\n",
    "        for ATA6code in val_map_revived[vehicleID].keys():\n",
    "            if ATA6code not in selected_codes:\n",
    "                continue\n",
    "            for time_window in val_map_revived[vehicleID][ATA6code].keys():\n",
    "                for sequence_of_snapshots in val_map_revived[vehicleID][ATA6code][time_window]:\n",
    "                    labels.append([selected_codes.index(ATA6code),time_window])\n",
    "                    x = sequence_of_snapshots.as_matrix() \n",
    "                    for pair in models.keys():\n",
    "                        c = selected_codes.index(pair[0])\n",
    "                        w = pair[1]\n",
    "                        if c == 0 & w == 0:\n",
    "            \n",
    "                            #continue\n",
    "                            #print(x.shape)\n",
    "                            temp_score = models[pair].score(x.astype(float))\n",
    "                            for i in range(len(log_likelihoods[sample,c,:])):\n",
    "                                log_likelihoods[sample,c,i] = temp_score\n",
    "                        else:\n",
    "                            #print(x.shape)\n",
    "                            log_likelihoods[sample,c,w] = models[pair].score(x.astype(float))\n",
    "                    \n",
    "                    # Compute Softmax Prob Matrix\n",
    "                    probabilities_temp = softmax(log_likelihoods[sample].reshape(1,num_codes*num_time_windows))\n",
    "                    probabilities[sample] = probabilities_temp.reshape(num_codes, num_time_windows) \n",
    "                    posterior_code_probs = np.sum(probabilities[sample]*code_probs,axis=1).reshape(1,7)\n",
    "                    #print(posterior_code_probs.shape)\n",
    "                    #print(cost_prob.shape)\n",
    "                    predicted_cost = np.argmax(np.dot(posterior_code_probs,cost_prob))\n",
    "                    # Get marginal max \n",
    "                    #argmax_window = np.argmax(np.dot(probabilities[sample].T,code_probs))\n",
    "                    #argmax_code = np.argmax(np.sum(probabilities[sample]*code_probs,axis=1))\n",
    "                    argmax_window = np.argmax(np.sum(probabilities[sample],axis=0))\n",
    "                    argmax_code = np.argmax(np.sum(probabilities[sample],axis=1))\n",
    "                    #max_index = np.unravel_index(probabilities[sample].argmax(), probabilities[sample].shape)\n",
    "\n",
    "                    # MSE\n",
    "                    #----------\n",
    "                    # code\n",
    "                    actualP_code[ATA6code] += 1  # update actual code freq\n",
    "                    predP_code[selected_codes[argmax_code]] += 1  # update predicted code freq\n",
    "                    if  argmax_code == selected_codes.index(ATA6code):\n",
    "                        code_scores_mse[sample] = 0\n",
    "                        trueP_code[ATA6code]+=1  # update true positive freq                        \n",
    "                    elif vehicleID in veh_repair_map and selected_codes[argmax_code] in veh_repair_map[vehicleID]:\n",
    "                        code_scores_mse[sample] = 1-alpha\n",
    "                        \n",
    "                    \n",
    "                    # window\n",
    "                    actualP_win[time_window] += 1  # update actual window freq\n",
    "                    predP_win[argmax_window] += 1  # update predicted window freq\n",
    "                    if argmax_window == time_window:\n",
    "                        trueP_win[time_window] += 1\n",
    "                    window_scores_mse[sample] = math.pow(argmax_window - time_window,2)\n",
    "                    #window_scores_mse[sample] = argmax_window - time_window\n",
    "                    \n",
    "                    \n",
    "                    # cost\n",
    "                    if vehicleID in vehicle_repair_cost_map and ATA6code in vehicle_repair_cost_map[vehicleID]:\n",
    "                        cost_scores_mse[sample] = math.pow(predicted_cost - vehicle_repair_cost_map[vehicleID][ATA6code],2)\n",
    "                    else:\n",
    "                        cost_scores_mse[sample] = math.pow(predicted_cost - 0,2)\n",
    "                    \n",
    "                    # Accuracy\n",
    "                    #----------\n",
    "                    # code\n",
    "                    #print('argmax_code: ', argmax_code)\n",
    "                    #print('vehicleID: ', vehicleID)\n",
    "                    if  argmax_code == selected_codes.index(ATA6code):\n",
    "                        code_scores_acc[sample] = 1\n",
    "                    elif vehicleID in veh_repair_map and selected_codes[argmax_code] in veh_repair_map[vehicleID]:\n",
    "                        code_scores_acc[sample] = alpha\n",
    "                    # window\n",
    "                    window_scores_acc[sample] = 1.0/(1.0 + math.pow(argmax_window - time_window,2))\n",
    "                    # cost\n",
    "                    if vehicleID in vehicle_repair_cost_map and ATA6code in vehicle_repair_cost_map[vehicleID]:\n",
    "                        cost_scores_acc[sample] = (predicted_cost == vehicle_repair_cost_map[vehicleID][ATA6code])\n",
    "                    else:\n",
    "                        cost_scores_acc[sample] = (predicted_cost == 0.0)\n",
    "                    sample = sample+1        \n",
    "    \n",
    "    #print(code_scores_acc)\n",
    "    labels = np.asarray(labels)\n",
    "    code_error = np.mean(code_scores_mse)\n",
    "    window_error = window_scores_mse #np.mean(window_scores_mse) \n",
    "    cost_error = np.mean(cost_scores_mse)\n",
    "    code_accuracy = np.mean(code_scores_acc)\n",
    "    window_accuracy = np.mean(window_scores_acc)\n",
    "    cost_accuracy = np.mean(cost_scores_acc)\n",
    "    \n",
    "    return code_error, window_error, cost_error, code_accuracy, window_accuracy, cost_accuracy, trueP_code, trueP_win, actualP_code, actualP_win, predP_code, predP_win"
   ]
  },
  {
   "cell_type": "code",
   "execution_count": 14,
   "metadata": {
    "collapsed": true
   },
   "outputs": [],
   "source": [
    "def confusion_metrics(categories, trueP, actualP, predP):\n",
    "#===================\n",
    "# Inputs: \n",
    "# categories: classification categories\n",
    "# trueP: dictionary: key = category, value = #true positive counts for that category\n",
    "# actualP: dictionary: key = category, value = #actual positive counts for that category\n",
    "# predP: dictionary: key = category, value = #predicted positive counts for that category\n",
    "# Outputs:\n",
    "# precision = #true positives/#predicted positives for each category (=nan if denominator is zero)\n",
    "# recall = #true positives/#actual positives for each category\n",
    "# f1 score = 2*(recall*precision)/(recall + precision) for each category\n",
    "#===================\n",
    "    accuracy = sum(trueP.values())/sum(actualP.values())\n",
    "    precision = {}\n",
    "    recall = {}\n",
    "    f1 = {}\n",
    "    \n",
    "    for i in categories:        \n",
    "        if predP[i] > 0:\n",
    "            precision[i] = float(trueP[i])/predP[i]\n",
    "        else:\n",
    "            precision[i] = np.nan\n",
    "        \n",
    "        if actualP[i] > 0:\n",
    "            recall[i] = float(trueP[i])/actualP[i]\n",
    "        else:\n",
    "            recall[i] = np.nan\n",
    "        \n",
    "        if (trueP[i] > 0):\n",
    "            f1[i] = 2*(recall[i]*precision[i])/(recall[i] + precision[i])\n",
    "        else:\n",
    "            f1[i] = np.nan\n",
    "    \n",
    "    return accuracy, precision, recall, f1"
   ]
  },
  {
   "cell_type": "code",
   "execution_count": 16,
   "metadata": {
    "collapsed": true
   },
   "outputs": [],
   "source": [
    "def get_plots(Y, x, z_labels, title, xlabel, ylabel):\n",
    "    for i in range(len(z_labels)):\n",
    "        plot_label = z_labels[i]\n",
    "        plt.plot(x,Y[i,:],label=plot_label)\n",
    "\n",
    "    ax = plt.gca() # grab the current axis\n",
    "    ax.set_xticks(x) # choose which x locations to have ticks\n",
    "    ax.set_xticklabels(x) # set the labels to display at those ticks\n",
    "    plt.xlabel(xlabel)\n",
    "    plt.ylabel(ylabel)\n",
    "    plt.suptitle(\"\")\n",
    "    plt.title(title)\n",
    "    #mylegend = plt.legend(loc=\"upper right\",bbox_to_anchor=(1,1), title=\"(#Windows,WindowSize)\")\n",
    "    mylegend = plt.legend(loc=\"right corner\",bbox_to_anchor=(1,1), title=\"(#Inits)\")\n",
    "    plt.rcParams[\"figure.figsize\"] = [6,5]\n",
    "    plt.savefig(title.replace(\" \", \"_\"), bbox_extra_artists=(mylegend,), bbox_inches=\"tight\")\n",
    "    plt.show()"
   ]
  },
  {
   "cell_type": "code",
   "execution_count": 25,
   "metadata": {
    "collapsed": false
   },
   "outputs": [],
   "source": []
  },
  {
   "cell_type": "code",
   "execution_count": 19,
   "metadata": {
    "collapsed": false
   },
   "outputs": [
    {
     "name": "stdout",
     "output_type": "stream",
     "text": [
      "\n",
      "getting maps for: num_windows = 1, window_size = 500, num_states = 2, num_inits = 1\n",
      "training...\n",
      "validating and getting results...\n",
      "ATA6 Code Accuracy:  0.3125\n",
      "Window Error: mean = 0.00, S.D. = 0.00\n",
      "ATA6 Code Recall: mean = nan, S.D. = nan\n",
      "Precision, Recall, F1:\n",
      "0: nan, 0.00, nan\n",
      "43004: nan, nan, nan\n",
      "44004: nan, 0.00, nan\n",
      "45002: nan, 0.00, nan\n",
      "45007: nan, 0.00, nan\n",
      "45008: nan, 0.00, nan\n",
      "45021: 0.25, 1.00, 0.40\n",
      "\n",
      "getting maps for: num_windows = 2, window_size = 250, num_states = 2, num_inits = 1\n",
      "training...\n",
      "validating and getting results...\n",
      "ATA6 Code Accuracy:  0.15\n",
      "Window Error: mean = 0.30, S.D. = 0.46\n",
      "ATA6 Code Recall: mean = 0.10, S.D. = 0.23\n",
      "Precision, Recall, F1:\n",
      "0: nan, 0.00, nan\n",
      "43004: 0.00, 0.00, nan\n",
      "44004: 0.18, 0.67, 0.29\n",
      "45002: 0.00, 0.00, nan\n",
      "45007: nan, 0.00, nan\n",
      "45008: nan, 0.00, nan\n",
      "45021: 0.00, 0.00, nan\n",
      "\n",
      "getting maps for: num_windows = 5, window_size = 100, num_states = 2, num_inits = 1\n",
      "training...\n",
      "validating and getting results...\n",
      "ATA6 Code Accuracy:  0.31746031746\n",
      "Window Error: mean = 2.37, S.D. = 3.49\n",
      "ATA6 Code Recall: mean = 0.17, S.D. = 0.30\n",
      "Precision, Recall, F1:\n",
      "0: nan, 0.00, nan\n",
      "43004: nan, 0.00, nan\n",
      "44004: 0.30, 0.85, 0.44\n",
      "45002: 0.00, 0.00, nan\n",
      "45007: nan, 0.00, nan\n",
      "45008: nan, 0.00, nan\n",
      "45021: 0.29, 0.32, 0.30\n",
      "\n",
      "getting maps for: num_windows = 10, window_size = 50, num_states = 2, num_inits = 1\n",
      "training...\n",
      "validating and getting results...\n",
      "ATA6 Code Accuracy:  0.334558823529\n",
      "Window Error: mean = 15.22, S.D. = 21.53\n",
      "ATA6 Code Recall: mean = 0.17, S.D. = 0.29\n",
      "Precision, Recall, F1:\n",
      "0: nan, 0.00, nan\n",
      "43004: nan, 0.00, nan\n",
      "44004: 0.32, 0.79, 0.46\n",
      "45002: 0.00, 0.00, nan\n",
      "45007: nan, 0.00, nan\n",
      "45008: nan, 0.00, nan\n",
      "45021: 0.26, 0.36, 0.30\n"
     ]
    }
   ],
   "source": [
    "code_errors ={}\n",
    "window_errors = {}\n",
    "cost_errors = {}\n",
    "code_accuracies = {}\n",
    "code_accuracies_sd = {}\n",
    "window_accuracies = {}\n",
    "cost_accuracies = {}\n",
    "code_precisions = {}\n",
    "win_precisions = {}\n",
    "code_recalls = {}\n",
    "win_recalls = {}\n",
    "code_f1_scores = {}\n",
    "win_f1_scores = {}\n",
    "\n",
    "num_states = 2\n",
    "num_iter = 100\n",
    "alpha = 0.5\n",
    "\n",
    "#hyper_tuples = [(1,500), (5,20), (5,50), (2,250), (5,100), (5,250), (10, 10), (10, 100)]\n",
    "#num_win = [1,10,5,5,1,2,5,10,20]\n",
    "#win_size = [50,10,20,50,500,250,100,50,25]\n",
    "#num_win = [1,5,5,2,5,5,10,10]\n",
    "#win_size = [500,20,50,250,100,250,10,100]\n",
    "num_win = [1,2,5,10]\n",
    "win_size = [500,250,100,50]\n",
    "\n",
    "for i in range(len(num_win)):\n",
    "#for num_windows in [10]:\n",
    "    for num_states in range(2,3):\n",
    "        num_windows = num_win[i]\n",
    "        window_size = win_size[i]\n",
    "        num_inits = 1\n",
    "        print('\\ngetting maps for: num_windows = %d, window_size = %d, num_states = %d, num_inits = %d' % (num_windows,window_size,num_states,num_inits))\n",
    "        train_combined, val_combined, test_combined = load_maps(num_windows, window_size)\n",
    "        print('training...')\n",
    "        models = start_train_gmm(selected_codes, train_combined, num_iter, num_states, num_inits)\n",
    "        print('validating and getting results...')\n",
    "        data = test_combined\n",
    "        code_error, window_error, cost_error, code_accuracy, window_accuracy, cost_accuracy, trueP_code, trueP_win, actualP_code, actualP_win, predP_code, predP_win = get_results(alpha,selected_codes,data,veh_repair_map,num_windows, pc_vec2, cost_prob, veh_repair_cost_map)\n",
    "        #print('ATA6 Code Error: ', code_error)\n",
    "        print('ATA6 Code Accuracy: ', code_accuracy)\n",
    "        print('Window Error: mean = %.2f, S.D. = %.2f' % (np.mean(window_error), np.std(window_error)))\n",
    "        #print('Window Accuracy: ', window_accuracy)\n",
    "        #print('Cost Error: ', cost_error)\n",
    "        #print('Cost Accuracy: ', cost_accuracy)\n",
    "        code_errors[(i,num_states)] = code_error\n",
    "        window_errors[(i,num_states)] = window_error\n",
    "        cost_errors[(i,num_states)] = window_error\n",
    "        code_accuracies[(i,num_states)] = code_accuracy\n",
    "        window_accuracies[(i,num_states)] = window_accuracy\n",
    "        cost_accuracies[(i,num_states)] = cost_accuracy\n",
    "        \n",
    "        acc_code, precision_code, recall_code, f1_code = confusion_metrics(selected_codes, trueP_code, actualP_code, predP_code)\n",
    "        acc_win, precision_win, recall_win, f1_win = confusion_metrics(range(num_windows), trueP_win, actualP_win, predP_win)\n",
    "        \n",
    "        temp = []\n",
    "        for j in selected_codes:\n",
    "            code_precisions[(i,num_states,j)] = precision_code[j]\n",
    "            code_recalls[(i,num_states,j)] = recall_code[j]\n",
    "            code_f1_scores[(i,num_states,j)] = f1_code[j]\n",
    "            temp.append(recall_code[j])\n",
    "        code_accuracies[(i,num_states)] = np.mean(temp)\n",
    "        code_accuracies_sd[(i,num_states)] = np.std(temp)\n",
    "        print('ATA6 Code Recall: mean = %.2f, S.D. = %.2f' % (np.mean(temp), np.std(temp)))\n",
    "        print('Precision, Recall, F1:')\n",
    "        for j in selected_codes:\n",
    "            print('%d: %.2f, %.2f, %.2f' % (j,precision_code[j], recall_code[j], f1_code[j]))\n",
    "\n",
    "        #print('\\nWindow Accuracy = %.2f' % acc_win)\n",
    "        #print('Precision, Recall, F1:')\n",
    "        #for j in range(num_windows):\n",
    "        #    print('%d: %.2f, %.2f, %.2f' % (j,precision_win[j], recall_win[j], f1_win[j]))\n",
    "        #    win_precisions[(i,num_states,j)] = precision_win[j]\n",
    "        #    win_recalls[(i,num_states,j)] = recall_win[j]\n",
    "        #    win_f1_scores[(i,num_states,j)] = f1_win[j]\n",
    "        \n",
    "        "
   ]
  },
  {
   "cell_type": "code",
   "execution_count": 11,
   "metadata": {
    "collapsed": false
   },
   "outputs": [
    {
     "ename": "KeyError",
     "evalue": "(0, 3)",
     "output_type": "error",
     "traceback": [
      "\u001b[1;31m---------------------------------------------------------------------------\u001b[0m",
      "\u001b[1;31mKeyError\u001b[0m                                  Traceback (most recent call last)",
      "\u001b[1;32m<ipython-input-11-33a481a2b2a0>\u001b[0m in \u001b[0;36m<module>\u001b[1;34m()\u001b[0m\n\u001b[0;32m      9\u001b[0m \u001b[1;32mfor\u001b[0m \u001b[0mi\u001b[0m \u001b[1;32min\u001b[0m \u001b[0mrange\u001b[0m\u001b[1;33m(\u001b[0m\u001b[0mlen\u001b[0m\u001b[1;33m(\u001b[0m\u001b[0mnum_win\u001b[0m\u001b[1;33m)\u001b[0m\u001b[1;33m)\u001b[0m\u001b[1;33m:\u001b[0m\u001b[1;33m\u001b[0m\u001b[0m\n\u001b[0;32m     10\u001b[0m     \u001b[1;32mfor\u001b[0m \u001b[0mnum_states\u001b[0m \u001b[1;32min\u001b[0m \u001b[0mrange\u001b[0m\u001b[1;33m(\u001b[0m\u001b[1;36m2\u001b[0m\u001b[1;33m,\u001b[0m\u001b[1;36m11\u001b[0m\u001b[1;33m)\u001b[0m\u001b[1;33m:\u001b[0m\u001b[1;33m\u001b[0m\u001b[0m\n\u001b[1;32m---> 11\u001b[1;33m         \u001b[0mcode_metric_array\u001b[0m\u001b[1;33m[\u001b[0m\u001b[0mi\u001b[0m\u001b[1;33m,\u001b[0m\u001b[0mnum_states\u001b[0m\u001b[1;33m]\u001b[0m \u001b[1;33m=\u001b[0m \u001b[0mcode_accuracies\u001b[0m\u001b[1;33m[\u001b[0m\u001b[1;33m(\u001b[0m\u001b[0mi\u001b[0m\u001b[1;33m,\u001b[0m\u001b[0mnum_states\u001b[0m\u001b[1;33m)\u001b[0m\u001b[1;33m]\u001b[0m\u001b[1;33m/\u001b[0m\u001b[0mcode_accuracies_sd\u001b[0m\u001b[1;33m[\u001b[0m\u001b[1;33m(\u001b[0m\u001b[0mi\u001b[0m\u001b[1;33m,\u001b[0m\u001b[0mnum_states\u001b[0m\u001b[1;33m)\u001b[0m\u001b[1;33m]\u001b[0m\u001b[1;33m\u001b[0m\u001b[0m\n\u001b[0m\u001b[0;32m     12\u001b[0m         \u001b[0mwindow_mean_array\u001b[0m\u001b[1;33m[\u001b[0m\u001b[0mi\u001b[0m\u001b[1;33m,\u001b[0m\u001b[0mnum_states\u001b[0m\u001b[1;33m]\u001b[0m \u001b[1;33m=\u001b[0m \u001b[0mnp\u001b[0m\u001b[1;33m.\u001b[0m\u001b[0mmean\u001b[0m\u001b[1;33m(\u001b[0m\u001b[0mwindow_errors\u001b[0m\u001b[1;33m[\u001b[0m\u001b[1;33m(\u001b[0m\u001b[0mi\u001b[0m\u001b[1;33m,\u001b[0m\u001b[0mnum_states\u001b[0m\u001b[1;33m)\u001b[0m\u001b[1;33m]\u001b[0m\u001b[1;33m)\u001b[0m\u001b[1;33m\u001b[0m\u001b[0m\n\u001b[0;32m     13\u001b[0m         \u001b[0mwindow_sd_array\u001b[0m\u001b[1;33m[\u001b[0m\u001b[0mi\u001b[0m\u001b[1;33m,\u001b[0m\u001b[0mnum_states\u001b[0m\u001b[1;33m]\u001b[0m \u001b[1;33m=\u001b[0m \u001b[0mnp\u001b[0m\u001b[1;33m.\u001b[0m\u001b[0mstd\u001b[0m\u001b[1;33m(\u001b[0m\u001b[0mwindow_errors\u001b[0m\u001b[1;33m[\u001b[0m\u001b[1;33m(\u001b[0m\u001b[0mi\u001b[0m\u001b[1;33m,\u001b[0m\u001b[0mnum_states\u001b[0m\u001b[1;33m)\u001b[0m\u001b[1;33m]\u001b[0m\u001b[1;33m)\u001b[0m\u001b[1;33m\u001b[0m\u001b[0m\n",
      "\u001b[1;31mKeyError\u001b[0m: (0, 3)"
     ]
    }
   ],
   "source": [
    "# reporting\n",
    "num_win = [1,2,5,10]\n",
    "win_size = [500,250,100,50]\n",
    "code_metric_array = np.zeros((len(num_win),len(range(2,11))))\n",
    "window_mean_array = np.zeros((len(num_win),len(range(2,11))))\n",
    "window_sd_array = np.zeros((len(num_win),len(range(2,11))))\n",
    "window_metric_array = np.zeros((len(num_win),len(range(2,11))))\n",
    "                           \n",
    "for i in range(len(num_win)):\n",
    "    print('(' + num_win[i] + win_size[i] + ')')\n",
    "    for num_states in range(2,11):\n",
    "        print('num hidden states = %d' % num_states)\n",
    "        for k in selected_codes:\n",
    "            tup = (i,num_states,k)\n",
    "            recall = code_recalls[(tup)]\n",
    "            precision = code_precisions[(tup)]\n",
    "            f1 = recall*precision\n",
    "            print('%d: %.2f %.2f %.2f' % (k, code_recalls[(tup)], code_precisions[(tup)], code_f1_scores(tup))\n",
    "        code_metric_array[i,num_states] = code_accuracies[(i,num_states)]/code_accuracies_sd[(i,num_states)]\n",
    "        window_mean_array[i,num_states] = np.mean(window_errors[(i,num_states)])\n",
    "        window_sd_array[i,num_states] = np.std(window_errors[(i,num_states)])\n",
    "        window_metric_array[i,num_states] = window_mean_array[i,num_states] / window_sd_array[i,num_states]\n"
   ]
  },
  {
   "cell_type": "code",
   "execution_count": 12,
   "metadata": {
    "collapsed": true
   },
   "outputs": [],
   "source": [
    "code_precisions = pandas.read_pickle('code_precisions.pkl')\n",
    "code_recalls = pandas.read_pickle('code_recalls.pkl')"
   ]
  },
  {
   "cell_type": "code",
   "execution_count": 16,
   "metadata": {
    "collapsed": false
   },
   "outputs": [
    {
     "ename": "TypeError",
     "evalue": "'dict' object is not callable",
     "output_type": "error",
     "traceback": [
      "\u001b[1;31m---------------------------------------------------------------------------\u001b[0m",
      "\u001b[1;31mTypeError\u001b[0m                                 Traceback (most recent call last)",
      "\u001b[1;32m<ipython-input-16-bab863d4f443>\u001b[0m in \u001b[0;36m<module>\u001b[1;34m()\u001b[0m\n\u001b[1;32m----> 1\u001b[1;33m \u001b[0mcode_recalls\u001b[0m\u001b[1;33m(\u001b[0m\u001b[1;36m0\u001b[0m\u001b[1;33m,\u001b[0m\u001b[1;36m2\u001b[0m\u001b[1;33m,\u001b[0m\u001b[1;36m45021\u001b[0m\u001b[1;33m)\u001b[0m\u001b[1;33m\u001b[0m\u001b[0m\n\u001b[0m",
      "\u001b[1;31mTypeError\u001b[0m: 'dict' object is not callable"
     ]
    }
   ],
   "source": [
    "code_recalls(0,2,45021)"
   ]
  },
  {
   "cell_type": "code",
   "execution_count": 30,
   "metadata": {
    "collapsed": false
   },
   "outputs": [],
   "source": [
    "#num_win = [1,10,5,5,5]\n",
    "#win_size = [50,10,20,50,100]\n",
    "#num_win = [1,10,5,5,1,2,5,10,20]\n",
    "#win_size = [50,10,20,50,500,250,100,50,25]\n",
    "num_win = [1,2,5,10]\n",
    "win_size = [500,250,100,50]\n",
    "\n",
    "n = len(num_win)\n",
    "s = len(range(2,11))\n",
    "num_codes = len(selected_codes)\n",
    "\n",
    "#code_errors_list= np.zeros((n,s))\n",
    "code_accuracies_list_mean= np.zeros((n,s))\n",
    "code_accuracies_list_sd= np.zeros((n,s))\n",
    "code_precisions_list = np.zeros((n,s,num_codes))\n",
    "code_recalls_list = np.zeros((n,s,num_codes))\n",
    "code_f1_list = np.zeros((n,s,num_codes))\n",
    "window_errors_list_mean= np.zeros((n,s))\n",
    "window_errors_list_sd= np.zeros((n,s))\n",
    "#window_accuracies_list= np.zeros((n,s))\n",
    "#cost_errors_list= np.zeros((n,s))\n",
    "#cost_accuracies_list = np.zeros((n,s))\n",
    "code_metrics_list= np.zeros((n,s))\n",
    "window_metrics_list= np.zeros((n,s))\n",
    "\n",
    "for i in range(len(num_win)):\n",
    "    j = 0\n",
    "    for num_states in range(2,11):                                \n",
    "        #code_errors_list[i,j] = code_errors[(i, num_states)]\n",
    "        code_accuracies_list_mean[i,j] =code_accuracies[(i, num_states)]\n",
    "        window_errors_list_mean[i,j] = np.mean(window_errors[(i, num_states)])\n",
    "        window_errors_list_sd[i,j] = np.std(window_errors[(i, num_states)])\n",
    "        #window_accuracies_list[i,j] = window_accuracies[(i, num_states)]\n",
    "        #cost_errors_list[i,j] = cost_errors[(i, num_states)]\n",
    "        #cost_accuracies_list[i,j] = cost_accuracies[(i, num_states)]\n",
    "        k=0\n",
    "        temp_recall = []\n",
    "        for code in selected_codes:\n",
    "            temp_recall.append(code_recalls[(i,num_states,code)])\n",
    "            code_precisions_list[i,j,k] = code_precisions[(i,num_states,code)]\n",
    "            code_recalls_list[i,j,k] = code_recalls[(i,num_states,code)]\n",
    "            code_f1_list[i,j,k] =code_f1_scores[(i,num_states,code)]            \n",
    "            k = k+1\n",
    "        code_accuracies_list_mean[i,j] = np.mean(temp_recall)\n",
    "        code_accuracies_list_sd[i,j] = np.std(temp_recall)\n",
    "        code_metrics_list[i,j] = np.mean(temp_recall)/np.std(temp_recall)\n",
    "        window_metrics_list[i,j] = window_errors_list_mean[i,j] / window_errors_list_sd[i,j]\n",
    "        j = j+1"
   ]
  },
  {
   "cell_type": "code",
   "execution_count": 28,
   "metadata": {
    "collapsed": false
   },
   "outputs": [
    {
     "data": {
      "text/plain": [
       "{(0, 2, 0): nan,\n",
       " (0, 2, 43004): nan,\n",
       " (0, 2, 44004): nan,\n",
       " (0, 2, 45002): nan,\n",
       " (0, 2, 45007): nan,\n",
       " (0, 2, 45008): nan,\n",
       " (0, 2, 45021): 0.6,\n",
       " (0, 3, 0): nan,\n",
       " (0, 3, 43004): nan,\n",
       " (0, 3, 44004): nan,\n",
       " (0, 3, 45002): nan,\n",
       " (0, 3, 45007): nan,\n",
       " (0, 3, 45008): nan,\n",
       " (0, 3, 45021): 0.6,\n",
       " (0, 4, 0): nan,\n",
       " (0, 4, 43004): nan,\n",
       " (0, 4, 44004): nan,\n",
       " (0, 4, 45002): nan,\n",
       " (0, 4, 45007): nan,\n",
       " (0, 4, 45008): nan,\n",
       " (0, 4, 45021): 0.6,\n",
       " (0, 5, 0): nan,\n",
       " (0, 5, 43004): nan,\n",
       " (0, 5, 44004): nan,\n",
       " (0, 5, 45002): nan,\n",
       " (0, 5, 45007): nan,\n",
       " (0, 5, 45008): nan,\n",
       " (0, 5, 45021): 0.6,\n",
       " (0, 6, 0): nan,\n",
       " (0, 6, 43004): nan,\n",
       " (0, 6, 44004): nan,\n",
       " (0, 6, 45002): nan,\n",
       " (0, 6, 45007): nan,\n",
       " (0, 6, 45008): nan,\n",
       " (0, 6, 45021): 0.6,\n",
       " (0, 7, 0): nan,\n",
       " (0, 7, 43004): nan,\n",
       " (0, 7, 44004): nan,\n",
       " (0, 7, 45002): nan,\n",
       " (0, 7, 45007): nan,\n",
       " (0, 7, 45008): nan,\n",
       " (0, 7, 45021): 0.6,\n",
       " (0, 8, 0): nan,\n",
       " (0, 8, 43004): nan,\n",
       " (0, 8, 44004): nan,\n",
       " (0, 8, 45002): nan,\n",
       " (0, 8, 45007): nan,\n",
       " (0, 8, 45008): nan,\n",
       " (0, 8, 45021): 0.6,\n",
       " (0, 9, 0): nan,\n",
       " (0, 9, 43004): nan,\n",
       " (0, 9, 44004): nan,\n",
       " (0, 9, 45002): nan,\n",
       " (0, 9, 45007): nan,\n",
       " (0, 9, 45008): nan,\n",
       " (0, 9, 45021): 0.6,\n",
       " (0, 10, 0): nan,\n",
       " (0, 10, 43004): nan,\n",
       " (0, 10, 44004): nan,\n",
       " (0, 10, 45002): nan,\n",
       " (0, 10, 45007): nan,\n",
       " (0, 10, 45008): nan,\n",
       " (0, 10, 45021): 0.6,\n",
       " (1, 2, 0): nan,\n",
       " (1, 2, 43004): nan,\n",
       " (1, 2, 44004): 0.26666666666666666,\n",
       " (1, 2, 45002): nan,\n",
       " (1, 2, 45007): nan,\n",
       " (1, 2, 45008): nan,\n",
       " (1, 2, 45021): 0.6086956521739131,\n",
       " (1, 3, 0): nan,\n",
       " (1, 3, 43004): nan,\n",
       " (1, 3, 44004): 0.16666666666666666,\n",
       " (1, 3, 45002): nan,\n",
       " (1, 3, 45007): nan,\n",
       " (1, 3, 45008): nan,\n",
       " (1, 3, 45021): 0.65625,\n",
       " (1, 4, 0): nan,\n",
       " (1, 4, 43004): nan,\n",
       " (1, 4, 44004): nan,\n",
       " (1, 4, 45002): nan,\n",
       " (1, 4, 45007): nan,\n",
       " (1, 4, 45008): nan,\n",
       " (1, 4, 45021): 0.6666666666666666,\n",
       " (1, 5, 0): nan,\n",
       " (1, 5, 43004): nan,\n",
       " (1, 5, 44004): 0.15384615384615383,\n",
       " (1, 5, 45002): nan,\n",
       " (1, 5, 45007): nan,\n",
       " (1, 5, 45008): nan,\n",
       " (1, 5, 45021): 0.6666666666666667,\n",
       " (1, 6, 0): nan,\n",
       " (1, 6, 43004): nan,\n",
       " (1, 6, 44004): 0.25,\n",
       " (1, 6, 45002): nan,\n",
       " (1, 6, 45007): nan,\n",
       " (1, 6, 45008): nan,\n",
       " (1, 6, 45021): 0.6666666666666666,\n",
       " (1, 7, 0): nan,\n",
       " (1, 7, 43004): nan,\n",
       " (1, 7, 44004): 0.1818181818181818,\n",
       " (1, 7, 45002): nan,\n",
       " (1, 7, 45007): nan,\n",
       " (1, 7, 45008): nan,\n",
       " (1, 7, 45021): 0.676923076923077,\n",
       " (1, 8, 0): nan,\n",
       " (1, 8, 43004): nan,\n",
       " (1, 8, 44004): 0.28571428571428575,\n",
       " (1, 8, 45002): nan,\n",
       " (1, 8, 45007): nan,\n",
       " (1, 8, 45008): nan,\n",
       " (1, 8, 45021): 0.7272727272727273,\n",
       " (1, 9, 0): nan,\n",
       " (1, 9, 43004): nan,\n",
       " (1, 9, 44004): nan,\n",
       " (1, 9, 45002): nan,\n",
       " (1, 9, 45007): nan,\n",
       " (1, 9, 45008): nan,\n",
       " (1, 9, 45021): 0.6666666666666666,\n",
       " (1, 10, 0): nan,\n",
       " (1, 10, 43004): nan,\n",
       " (1, 10, 44004): nan,\n",
       " (1, 10, 45002): nan,\n",
       " (1, 10, 45007): nan,\n",
       " (1, 10, 45008): nan,\n",
       " (1, 10, 45021): 0.6666666666666666,\n",
       " (2, 2, 0): nan,\n",
       " (2, 2, 43004): nan,\n",
       " (2, 2, 44004): 0.2702702702702703,\n",
       " (2, 2, 45002): nan,\n",
       " (2, 2, 45007): nan,\n",
       " (2, 2, 45008): nan,\n",
       " (2, 2, 45021): 0.5846153846153846,\n",
       " (2, 3, 0): nan,\n",
       " (2, 3, 43004): nan,\n",
       " (2, 3, 44004): 0.2545454545454545,\n",
       " (2, 3, 45002): nan,\n",
       " (2, 3, 45007): nan,\n",
       " (2, 3, 45008): nan,\n",
       " (2, 3, 45021): 0.6979865771812079,\n",
       " (2, 4, 0): nan,\n",
       " (2, 4, 43004): nan,\n",
       " (2, 4, 44004): nan,\n",
       " (2, 4, 45002): nan,\n",
       " (2, 4, 45007): nan,\n",
       " (2, 4, 45008): nan,\n",
       " (2, 4, 45021): 0.6704545454545454,\n",
       " (2, 5, 0): nan,\n",
       " (2, 5, 43004): nan,\n",
       " (2, 5, 44004): nan,\n",
       " (2, 5, 45002): nan,\n",
       " (2, 5, 45007): nan,\n",
       " (2, 5, 45008): nan,\n",
       " (2, 5, 45021): 0.6703910614525139,\n",
       " (2, 6, 0): nan,\n",
       " (2, 6, 43004): nan,\n",
       " (2, 6, 44004): nan,\n",
       " (2, 6, 45002): nan,\n",
       " (2, 6, 45007): nan,\n",
       " (2, 6, 45008): nan,\n",
       " (2, 6, 45021): 0.6629213483146067,\n",
       " (2, 7, 0): nan,\n",
       " (2, 7, 43004): nan,\n",
       " (2, 7, 44004): nan,\n",
       " (2, 7, 45002): nan,\n",
       " (2, 7, 45007): nan,\n",
       " (2, 7, 45008): nan,\n",
       " (2, 7, 45021): 0.6704545454545454,\n",
       " (2, 8, 0): nan,\n",
       " (2, 8, 43004): nan,\n",
       " (2, 8, 44004): nan,\n",
       " (2, 8, 45002): nan,\n",
       " (2, 8, 45007): nan,\n",
       " (2, 8, 45008): nan,\n",
       " (2, 8, 45021): 0.6779661016949152,\n",
       " (2, 9, 0): nan,\n",
       " (2, 9, 43004): nan,\n",
       " (2, 9, 44004): nan,\n",
       " (2, 9, 45002): nan,\n",
       " (2, 9, 45007): nan,\n",
       " (2, 9, 45008): nan,\n",
       " (2, 9, 45021): 0.6779661016949152,\n",
       " (2, 10, 0): nan,\n",
       " (2, 10, 43004): nan,\n",
       " (2, 10, 44004): nan,\n",
       " (2, 10, 45002): nan,\n",
       " (2, 10, 45007): nan,\n",
       " (2, 10, 45008): nan,\n",
       " (2, 10, 45021): 0.6779661016949152,\n",
       " (3, 2, 0): nan,\n",
       " (3, 2, 43004): nan,\n",
       " (3, 2, 44004): 0.27586206896551724,\n",
       " (3, 2, 45002): nan,\n",
       " (3, 2, 45007): nan,\n",
       " (3, 2, 45008): nan,\n",
       " (3, 2, 45021): 0.6000000000000001,\n",
       " (3, 3, 0): nan,\n",
       " (3, 3, 43004): nan,\n",
       " (3, 3, 44004): 0.20833333333333331,\n",
       " (3, 3, 45002): nan,\n",
       " (3, 3, 45007): nan,\n",
       " (3, 3, 45008): nan,\n",
       " (3, 3, 45021): 0.6565349544072949,\n",
       " (3, 4, 0): nan,\n",
       " (3, 4, 43004): nan,\n",
       " (3, 4, 44004): 0.029411764705882353,\n",
       " (3, 4, 45002): nan,\n",
       " (3, 4, 45007): nan,\n",
       " (3, 4, 45008): nan,\n",
       " (3, 4, 45021): 0.6834733893557422,\n",
       " (3, 5, 0): nan,\n",
       " (3, 5, 43004): nan,\n",
       " (3, 5, 44004): 0.0634920634920635,\n",
       " (3, 5, 45002): nan,\n",
       " (3, 5, 45007): nan,\n",
       " (3, 5, 45008): nan,\n",
       " (3, 5, 45021): 0.6850828729281768,\n",
       " (3, 6, 0): nan,\n",
       " (3, 6, 43004): nan,\n",
       " (3, 6, 44004): 0.14492753623188406,\n",
       " (3, 6, 45002): nan,\n",
       " (3, 6, 45007): nan,\n",
       " (3, 6, 45008): nan,\n",
       " (3, 6, 45021): 0.6910112359550562,\n",
       " (3, 7, 0): nan,\n",
       " (3, 7, 43004): nan,\n",
       " (3, 7, 44004): 0.03125,\n",
       " (3, 7, 45002): nan,\n",
       " (3, 7, 45007): nan,\n",
       " (3, 7, 45008): nan,\n",
       " (3, 7, 45021): 0.703601108033241,\n",
       " (3, 8, 0): nan,\n",
       " (3, 8, 43004): nan,\n",
       " (3, 8, 44004): 0.0634920634920635,\n",
       " (3, 8, 45002): nan,\n",
       " (3, 8, 45007): nan,\n",
       " (3, 8, 45008): nan,\n",
       " (3, 8, 45021): 0.7016574585635359,\n",
       " (3, 9, 0): nan,\n",
       " (3, 9, 43004): nan,\n",
       " (3, 9, 44004): 0.06451612903225806,\n",
       " (3, 9, 45002): nan,\n",
       " (3, 9, 45007): nan,\n",
       " (3, 9, 45008): nan,\n",
       " (3, 9, 45021): 0.699724517906336,\n",
       " (3, 10, 0): nan,\n",
       " (3, 10, 43004): nan,\n",
       " (3, 10, 44004): 0.03389830508474577,\n",
       " (3, 10, 45002): nan,\n",
       " (3, 10, 45007): nan,\n",
       " (3, 10, 45008): nan,\n",
       " (3, 10, 45021): 0.6939890710382514}"
      ]
     },
     "execution_count": 28,
     "metadata": {},
     "output_type": "execute_result"
    }
   ],
   "source": [
    "code_f1_scores"
   ]
  },
  {
   "cell_type": "code",
   "execution_count": 18,
   "metadata": {
    "collapsed": false
   },
   "outputs": [],
   "source": [
    "#np.savetxt('code_errors_list.csv', code_errors_list, delimiter=',')\n",
    "np.savetxt('code_accuracies_list.csv', code_accuracies_list, delimiter=',')\n",
    "np.savetxt('window_errors_list_mean.csv', window_errors_list_mean, delimiter=',')\n",
    "np.savetxt('window_errors_list_sd.csv', window_errors_list_sd, delimiter=',')\n",
    "#np.savetxt('window_accuracies_list.csv', window_accuracies_list, delimiter=',')\n",
    "#np.savetxt('cost_errors_list.csv', cost_errors_list, delimiter=',')\n",
    "#np.savetxt('cost_accuracies_list.csv', cost_accuracies_list, delimiter=',')"
   ]
  },
  {
   "cell_type": "code",
   "execution_count": 8,
   "metadata": {
    "collapsed": true
   },
   "outputs": [],
   "source": [
    "code_errors_list = np.genfromtxt('code_errors_list.csv', delimiter=',')\n",
    "code_accuracies_list = np.genfromtxt('code_accuracies_list.csv', delimiter=',')\n",
    "window_errors_list_mean = np.genfromtxt('window_errors_list_mean.csv', delimiter=',')\n",
    "window_errors_list_sd = np.genfromtxt('window_errors_list_sd.csv', delimiter=',')\n",
    "#window_accuracies_list = np.genfromtxt('window_accuracies_list.csv', delimiter=',')\n",
    "cost_errors_list = np.genfromtxt('cost_errors_list.csv', delimiter=',')\n",
    "cost_accuracies_list = np.genfromtxt('cost_accuracies_list.csv', delimiter=',')"
   ]
  },
  {
   "cell_type": "code",
   "execution_count": 19,
   "metadata": {
    "collapsed": false
   },
   "outputs": [],
   "source": [
    "import pickle\n",
    "f = open(\"code_precisions.pkl\",\"wb\")\n",
    "pickle.dump(code_precisions,f)\n",
    "f.close()\n",
    "\n",
    "#f = open(\"win_precisions.pkl\",\"wb\")\n",
    "#pickle.dump(code_precisions,f)\n",
    "#f.close()\n",
    "\n",
    "f = open(\"code_recalls.pkl\",\"wb\")\n",
    "pickle.dump(code_recalls,f)\n",
    "f.close()\n",
    "\n",
    "#f = open(\"win_recalls.pkl\",\"wb\")\n",
    "#pickle.dump(win_recalls,f)\n",
    "#f.close()\n",
    "\n",
    "f = open(\"code_f1_scores.pkl\",\"wb\")\n",
    "pickle.dump(code_f1_scores,f)\n",
    "f.close()\n",
    "\n",
    "#f = open(\"win_f1_scores.pkl\",\"wb\")\n",
    "#pickle.dump(win_f1_scores,f)\n",
    "#f.close()"
   ]
  },
  {
   "cell_type": "code",
   "execution_count": 10,
   "metadata": {
    "collapsed": false
   },
   "outputs": [
    {
     "ename": "NameError",
     "evalue": "name 'code_precisions' is not defined",
     "output_type": "error",
     "traceback": [
      "\u001b[1;31m---------------------------------------------------------------------------\u001b[0m",
      "\u001b[1;31mNameError\u001b[0m                                 Traceback (most recent call last)",
      "\u001b[1;32m<ipython-input-10-c76f174dfb69>\u001b[0m in \u001b[0;36m<module>\u001b[1;34m()\u001b[0m\n\u001b[1;32m----> 1\u001b[1;33m \u001b[0mcode_precisions\u001b[0m \u001b[1;33m=\u001b[0m \u001b[0mpandas\u001b[0m\u001b[1;33m.\u001b[0m\u001b[0mread_pickle\u001b[0m\u001b[1;33m(\u001b[0m\u001b[0mcode_precisions\u001b[0m\u001b[1;33m.\u001b[0m\u001b[0mpkl\u001b[0m\u001b[1;33m)\u001b[0m\u001b[1;33m\u001b[0m\u001b[0m\n\u001b[0m\u001b[0;32m      2\u001b[0m \u001b[0mcode_recalls\u001b[0m \u001b[1;33m=\u001b[0m \u001b[0mpandas\u001b[0m\u001b[1;33m.\u001b[0m\u001b[0mread_pickle\u001b[0m\u001b[1;33m(\u001b[0m\u001b[0mcode_recalls\u001b[0m\u001b[1;33m.\u001b[0m\u001b[0mpkl\u001b[0m\u001b[1;33m)\u001b[0m\u001b[1;33m\u001b[0m\u001b[0m\n",
      "\u001b[1;31mNameError\u001b[0m: name 'code_precisions' is not defined"
     ]
    }
   ],
   "source": []
  },
  {
   "cell_type": "code",
   "execution_count": 25,
   "metadata": {
    "collapsed": false
   },
   "outputs": [
    {
     "data": {
      "image/png": "[encoded data removed]",
      "text/plain": [
       "<matplotlib.figure.Figure at 0x7f6689af0e80>"
      ]
     },
     "metadata": {},
     "output_type": "display_data"
    },
    {
     "data": {
      "image/png": "[encoded data removed]",
      "text/plain": [
       "<matplotlib.figure.Figure at 0x7f6685409470>"
      ]
     },
     "metadata": {},
     "output_type": "display_data"
    },
    {
     "data": {
      "image/png": "[encoded data removed]",
      "text/plain": [
       "<matplotlib.figure.Figure at 0x7f66832b64a8>"
      ]
     },
     "metadata": {},
     "output_type": "display_data"
    },
    {
     "data": {
      "image/png": "[encoded data removed]",
      "text/plain": [
       "<matplotlib.figure.Figure at 0x7f668321ae80>"
      ]
     },
     "metadata": {},
     "output_type": "display_data"
    },
    {
     "data": {
      "image/png": "[encoded data removed]",
      "text/plain": [
       "<matplotlib.figure.Figure at 0x7f668510dda0>"
      ]
     },
     "metadata": {},
     "output_type": "display_data"
    },
    {
     "data": {
      "image/png": "[encoded data removed]",
      "text/plain": [
       "<matplotlib.figure.Figure at 0x7f66832123c8>"
      ]
     },
     "metadata": {},
     "output_type": "display_data"
    }
   ],
   "source": [
    "#num_windows = [10,5,2]\n",
    "#num_windows = [20,10,5]#[1,10,5,5,5]#[1,10,20] #this is num_inits\n",
    "#num_windows = [1,10,5,5,1,2,5,10,20]\n",
    "#win_size = [50,10,20,50,500,250,100,50,25]\n",
    "num_windows = [1,2,5,10]\n",
    "win_size = [500,250,100,50]\n",
    "num_states = range(2,11)\n",
    "\n",
    "x_coord = num_states\n",
    "\n",
    "z_labels = []\n",
    "for i in range(len(num_windows)):\n",
    "    temp = '(' + str(num_windows[i]) + ',' + str(win_size[i]) + ')'\n",
    "    z_labels.append(temp)\n",
    "\n",
    "#plt.figure()\n",
    "#get_plots(code_errors_list, x_coord, z_labels, \"ATA6 Code MSE\", \"Num. Hidden States\", \"Error\")\n",
    "#plt.savefig('ATA6_Code_MSE')\n",
    "\n",
    "plt.figure()\n",
    "get_plots(code_metrics_list, x_coord, z_labels, \"ATA6 Code Accuracy Metric\", \"Num. Hidden States\", \"Mean/S.D.\")\n",
    "#plt.savefig('ATA6_Code_Accuracy_Metric.png')\n",
    "\n",
    "plt.figure()\n",
    "get_plots(window_metrics_list, x_coord, z_labels, \"Window Error Metric\", \"Num. Hidden States\", \"Mean/S.D.\")\n",
    "#plt.savefig('Window_Error_Metric.png')\n",
    "\n",
    "plt.figure()\n",
    "get_plots(code_accuracies_list_mean, x_coord, z_labels, \"ATA6 Code Accuracy - Mean\", \"Num. Hidden States\", \"Mean(Recall)\")\n",
    "#plt.savefig('ATA6_Code_Accuracy_Mean.png')\n",
    "\n",
    "plt.figure()\n",
    "get_plots(code_accuracies_list_sd, x_coord, z_labels, \"ATA6 Code Accuracy - Std Dev\", \"Num. Hidden States\", \"S.D.(Recall)\")\n",
    "#plt.savefig('ATA6_Code_Accuracy_SD.png')\n",
    "\n",
    "#plt.figure()\n",
    "#get_plots(code_accuracies_list_sd, x_coord, z_labels, \"ATA6 Code Accuracy\", \"Num. Hidden States\", \"Accuracy\")\n",
    "\n",
    "plt.figure()\n",
    "get_plots(window_errors_list_mean, x_coord, z_labels, \"Window Error - Mean\", \"Num. Hidden States\", \"Error\")\n",
    "#plt.savefig('Window_Error_Mean.png')\n",
    "\n",
    "plt.figure()\n",
    "get_plots(window_errors_list_sd, x_coord, z_labels, \"Window Error - Std Dev\", \"Num. Hidden States\", \"Error\")\n",
    "#plt.savefig('Window_Error_SD.png')\n",
    "\n",
    "#plt.figure()\n",
    "#get_plots(cost_errors_list, x_coord, z_labels, \"Cost MSE\", \"Num. Hidden States\", \"Error\")\n",
    "#plt.savefig('Cost MSE')\n",
    "\n",
    "#plt.figure()\n",
    "#get_plots(cost_accuracies_list, x_coord, z_labels, \"Cost Accuracy\", \"Num. Hidden States\", \"Accuracy\")\n",
    "#plt.savefig('Cost Accuracy')\n",
    "\n"
   ]
  },
  {
   "cell_type": "code",
   "execution_count": 164,
   "metadata": {
    "collapsed": false
   },
   "outputs": [],
   "source": [
    "np.savez('acc_5_20_gmm20inits.mat',code_accuracies_list, window_accuracies_list, cost_accuracies_list, code_errors_list, window_errors_list, cost_errors_list)"
   ]
  },
  {
   "cell_type": "code",
   "execution_count": 31,
   "metadata": {
    "collapsed": false
   },
   "outputs": [
    {
     "ename": "NameError",
     "evalue": "name 'Xnum' is not defined",
     "output_type": "error",
     "traceback": [
      "\u001b[1;31m---------------------------------------------------------------------------\u001b[0m",
      "\u001b[1;31mNameError\u001b[0m                                 Traceback (most recent call last)",
      "\u001b[1;32m<ipython-input-31-0532ace513a3>\u001b[0m in \u001b[0;36m<module>\u001b[1;34m()\u001b[0m\n\u001b[0;32m      1\u001b[0m \u001b[0mn_components\u001b[0m \u001b[1;33m=\u001b[0m \u001b[0mnp\u001b[0m\u001b[1;33m.\u001b[0m\u001b[0marange\u001b[0m\u001b[1;33m(\u001b[0m\u001b[1;36m1\u001b[0m\u001b[1;33m,\u001b[0m \u001b[1;36m21\u001b[0m\u001b[1;33m)\u001b[0m\u001b[1;33m\u001b[0m\u001b[0m\n\u001b[0;32m      2\u001b[0m models = [mixture.GaussianMixture(n, covariance_type='full', random_state=0).fit(Xnum)\n\u001b[1;32m----> 3\u001b[1;33m           for n in n_components]\n\u001b[0m\u001b[0;32m      4\u001b[0m \u001b[1;33m\u001b[0m\u001b[0m\n\u001b[0;32m      5\u001b[0m \u001b[0mbic_score\u001b[0m \u001b[1;33m=\u001b[0m \u001b[1;33m[\u001b[0m\u001b[1;33m]\u001b[0m\u001b[1;33m\u001b[0m\u001b[0m\n",
      "\u001b[1;32m<ipython-input-31-0532ace513a3>\u001b[0m in \u001b[0;36m<listcomp>\u001b[1;34m(.0)\u001b[0m\n\u001b[0;32m      1\u001b[0m \u001b[0mn_components\u001b[0m \u001b[1;33m=\u001b[0m \u001b[0mnp\u001b[0m\u001b[1;33m.\u001b[0m\u001b[0marange\u001b[0m\u001b[1;33m(\u001b[0m\u001b[1;36m1\u001b[0m\u001b[1;33m,\u001b[0m \u001b[1;36m21\u001b[0m\u001b[1;33m)\u001b[0m\u001b[1;33m\u001b[0m\u001b[0m\n\u001b[0;32m      2\u001b[0m models = [mixture.GaussianMixture(n, covariance_type='full', random_state=0).fit(Xnum)\n\u001b[1;32m----> 3\u001b[1;33m           for n in n_components]\n\u001b[0m\u001b[0;32m      4\u001b[0m \u001b[1;33m\u001b[0m\u001b[0m\n\u001b[0;32m      5\u001b[0m \u001b[0mbic_score\u001b[0m \u001b[1;33m=\u001b[0m \u001b[1;33m[\u001b[0m\u001b[1;33m]\u001b[0m\u001b[1;33m\u001b[0m\u001b[0m\n",
      "\u001b[1;31mNameError\u001b[0m: name 'Xnum' is not defined"
     ]
    }
   ],
   "source": [
    "n_components = np.arange(1, 21)\n",
    "models = [mixture.GaussianMixture(n, covariance_type='full', random_state=0).fit(Xnum)\n",
    "          for n in n_components]\n",
    "\n",
    "bic_score = []\n",
    "aic_score = []\n",
    "for m in models:\n",
    "    bic_score.append(m.bic(Xnum))"
   ]
  },
  {
   "cell_type": "code",
   "execution_count": 29,
   "metadata": {
    "collapsed": false
   },
   "outputs": [
    {
     "name": "stdout",
     "output_type": "stream",
     "text": [
      "\n",
      "getting maps for:  2 250\n",
      "training...\n",
      "validating and getting results...\n",
      "ATA6 Code Error:  0.588888888889\n",
      "ATA6 Code Accuracy:  0.411111111111\n",
      "Window Error: mean = -0.27, s.d. = 0.57\n",
      "Window Accuracy  0.8\n",
      "Cost Error:  3.15555555556\n",
      "Cost Accuracy:  0.333333333333\n"
     ]
    }
   ],
   "source": [
    "num_states = 2\n",
    "num_iter = 100\n",
    "alpha = 0.5\n",
    "num_inits = 1\n",
    "num_windows = 2\n",
    "window_size = 250\n",
    "print('\\ngetting maps for: ',num_windows, window_size)\n",
    "train_combined, val_combined, test_combined = load_maps(num_windows, window_size)\n",
    "print('training...')\n",
    "models = start_train_gmm(selected_codes, train_combined, num_iter, num_states, num_inits)\n",
    "print('validating and getting results...')\n",
    "data = test_combined\n",
    "#code_error, window_error, cost_error, code_accuracy, window_accuracy, cost_accuracy = get_results(alpha,selected_codes,data,veh_repair_map,num_windows, pc_vec2, cost_prob, veh_repair_cost_map)\n",
    "code_error, window_error, cost_error, code_accuracy, window_accuracy, cost_accuracy, trueP_code, trueP_win, actualP_code, actualP_win, predP_code, predP_win = get_results(alpha,selected_codes,val_combined,veh_repair_map,num_windows, pc_vec2, cost_prob, veh_repair_cost_map)\n",
    "print('ATA6 Code Error: ', code_error)\n",
    "print('ATA6 Code Accuracy: ', code_accuracy)\n",
    "#print('ATA6 Code Accuracy: ', np.mean(code_scores_acc))\n",
    "print('Window Error: mean = %.2f, s.d. = %.2f' % (np.mean(window_error), np.std(window_error)))\n",
    "print('Window Accuracy ', window_accuracy)\n",
    "#print('Window Accuracy: ', np.mean(window_scores_acc))\n",
    "print('Cost Error: ', cost_error)\n",
    "print('Cost Accuracy: ', cost_accuracy)\n",
    "#print('Cost Accuracy: ', np.mean(cost_scores_acc))"
   ]
  },
  {
   "cell_type": "code",
   "execution_count": 36,
   "metadata": {
    "collapsed": false
   },
   "outputs": [
    {
     "name": "stdout",
     "output_type": "stream",
     "text": [
      "Percentile: Window Error\n",
      "10: -3\n",
      "20: -2\n",
      "30: -2\n",
      "40: -1\n",
      "50: -1\n",
      "60: 0\n",
      "70: 0\n",
      "80: 1\n",
      "90: 1\n",
      "100: 3\n"
     ]
    },
    {
     "data": {
      "text/plain": [
       "<Container object of 10 artists>"
      ]
     },
     "execution_count": 36,
     "metadata": {},
     "output_type": "execute_result"
    },
    {
     "data": {
      "image/png": "[encoded data removed]",
      "text/plain": [
       "<matplotlib.figure.Figure at 0x7f0f85cb2a90>"
      ]
     },
     "metadata": {},
     "output_type": "display_data"
    }
   ],
   "source": [
    "# plot histogram of window error\n",
    "temp = np.sort(window_error)\n",
    "print('Percentile: Window Error')\n",
    "for i in range(10,110,10):\n",
    "    sorted_index = round(i * len(temp)/100)    \n",
    "    print('%d: %d' % (i,max(temp[0:sorted_index])))\n",
    "\n",
    "(heights, bin_edges) = np.histogram(window_error)\n",
    "bars = []\n",
    "for i in range(len(heights)):\n",
    "    bars.append(float(bin_edges[i] + bin_edges[i+1])/2.0)\n",
    "numbars = len(bars)\n",
    "plt.xticks(range(numbars), bars)\n",
    "plt.bar(range(numbars), heights, align='center',color='skyblue')"
   ]
  },
  {
   "cell_type": "code",
   "execution_count": 87,
   "metadata": {
    "collapsed": false
   },
   "outputs": [
    {
     "name": "stdout",
     "output_type": "stream",
     "text": [
      "ATA6 Code Accuracy = 0.42\n",
      "Precision, Recall, F1:\n",
      "0: nan, 0.00, nan\n",
      "43004: nan, 0.00, nan\n",
      "44004: 0.21, 0.40, 0.28\n",
      "45002: nan, 0.00, nan\n",
      "45007: nan, 0.00, nan\n",
      "45008: nan, 0.00, nan\n",
      "45021: 0.56, 0.67, 0.61\n",
      "\n",
      "Window Accuracy = 0.24\n",
      "Precision, Recall, F1:\n",
      "0: 0.32, 0.47, 0.38\n",
      "1: 0.19, 0.27, 0.22\n",
      "2: 0.20, 0.25, 0.22\n",
      "3: 0.00, 0.00, nan\n",
      "4: 0.50, 0.06, 0.10\n"
     ]
    }
   ],
   "source": [
    "acc_code, precision_code, recall_code, f1_code = confusion_metrics(selected_codes, trueP_code, actualP_code, predP_code)\n",
    "acc_win, precision_win, recall_win, f1_win = confusion_metrics(range(num_windows), trueP_win, actualP_win, predP_win)\n",
    "print('ATA6 Code Accuracy = %.2f' % acc_code)\n",
    "print('Precision, Recall, F1:')\n",
    "for i in selected_codes:\n",
    "    print('%d: %.2f, %.2f, %.2f' % (i,precision_code[i], recall_code[i], f1_code[i]))\n",
    "\n",
    "print('\\nWindow Accuracy = %.2f' % acc_win)\n",
    "print('Precision, Recall, F1:')\n",
    "for i in range(num_windows):\n",
    "    print('%d: %.2f, %.2f, %.2f' % (i,precision_win[i], recall_win[i], f1_win[i]))\n"
   ]
  },
  {
   "cell_type": "code",
   "execution_count": 156,
   "metadata": {
    "collapsed": false
   },
   "outputs": [
    {
     "name": "stdout",
     "output_type": "stream",
     "text": [
      "ATA6 Code Error:  0.192307692308\n",
      "ATA6 Code Accuracy:  0.807692307692\n",
      "Window Error:  0.0\n",
      "Window Accuracy:  1.0\n",
      "Cost Error:  1.46153846154\n",
      "Cost Accuracy:  0.769230769231\n"
     ]
    }
   ],
   "source": [
    "data = test_combined\n",
    "#code_error, window_error, cost_error, code_accuracy, window_accuracy, cost_accuracy = get_results(alpha,selected_codes,data,veh_repair_map,num_windows, pc_vec2, cost_prob, veh_repair_cost_map)\n",
    "code_error, window_error, cost_error, code_scores_acc, window_scores_acc, cost_scores_acc = get_results(alpha,selected_codes,data,veh_repair_map,num_windows, pc_vec2, cost_prob, veh_repair_cost_map)\n",
    "print('ATA6 Code Error: ', code_error)\n",
    "#print('ATA6 Code Accuracy: ', code_accuracy)\n",
    "print('ATA6 Code Accuracy: ', np.mean(code_scores_acc))\n",
    "print('Window Error: ', window_error)\n",
    "#print('Window Accuracy: ', window_accuracy)\n",
    "print('Window Accuracy: ', np.mean(window_scores_acc))\n",
    "print('Cost Error: ', cost_error)\n",
    "#print('Cost Accuracy: ', cost_accuracy)\n",
    "print('Cost Accuracy: ', np.mean(cost_scores_acc))"
   ]
  },
  {
   "cell_type": "code",
   "execution_count": 157,
   "metadata": {
    "collapsed": false
   },
   "outputs": [
    {
     "name": "stdout",
     "output_type": "stream",
     "text": [
      "132, 0, 0: Sequence 0, #Snapshots = 500\n",
      "504, 45008, 0: Sequence 0, #Snapshots = 500\n",
      "86, 45021, 0: Sequence 0, #Snapshots = 500\n",
      "111, 0, 0: Sequence 0, #Snapshots = 500\n",
      "92, 0, 0: Sequence 0, #Snapshots = 500\n",
      "93, 0, 0: Sequence 0, #Snapshots = 500\n",
      "113, 0, 0: Sequence 0, #Snapshots = 500\n",
      "105, 0, 0: Sequence 0, #Snapshots = 500\n",
      "106, 0, 0: Sequence 0, #Snapshots = 500\n",
      "135, 0, 0: Sequence 0, #Snapshots = 500\n",
      "120, 0, 0: Sequence 0, #Snapshots = 500\n",
      "124, 0, 0: Sequence 0, #Snapshots = 500\n",
      "125, 0, 0: Sequence 0, #Snapshots = 500\n"
     ]
    }
   ],
   "source": [
    "#data = val_combined\n",
    "length = []\n",
    "data_ATA6 = []\n",
    "for vehicleID in data.keys():\n",
    "    for ATA6code in data[vehicleID].keys():\n",
    "        if ATA6code not in selected_codes:\n",
    "            continue\n",
    "        for time_window in data[vehicleID][ATA6code].keys():\n",
    "            # append #sequences for (vehicleID,ATA6code,time_window)\n",
    "            num_sequence = len(data[vehicleID][ATA6code][time_window])\n",
    "            num_snapshots = np.zeros(num_sequence)            \n",
    "            i = 0\n",
    "            for sequence in data[vehicleID][ATA6code][time_window]:\n",
    "                data_ATA6.append(ATA6code)\n",
    "                num_snapshots[i] = (len(sequence))\n",
    "                print('%d, %d, %d: Sequence %d, #Snapshots = %d' % (vehicleID,ATA6code,time_window,i,len(sequence)))\n",
    "                #print('Sequence %d: %d snapshots' % (i,len(sequence)))\n",
    "                i = i+1\n",
    "            length.append(num_sequence)\n",
    "            \n"
   ]
  },
  {
   "cell_type": "code",
   "execution_count": 109,
   "metadata": {
    "collapsed": false
   },
   "outputs": [],
   "source": [
    "def get_learning_curve_models(selected_codes, train_map_revived, num_iter, num_states):\n",
    "    models = {}\n",
    "    codes = []\n",
    "    code_window_map = {}\n",
    "    for vehicleID in train_map_revived.keys():\n",
    "        for ATA6code in train_map_revived[vehicleID].keys():\n",
    "            if ATA6code not in selected_codes:\n",
    "                continue\n",
    "            if ATA6code not in code_window_map:\n",
    "                code_window_map[ATA6code] = {}\n",
    "            for time_window in train_map_revived[vehicleID][ATA6code].keys():\n",
    "                if time_window not in code_window_map[ATA6code]:\n",
    "                    code_window_map[ATA6code][time_window] = []\n",
    "                for sequence_of_snapshots in train_map_revived[vehicleID][ATA6code][time_window]:\n",
    "                    code_window_map[ATA6code][time_window].append(sequence_of_snapshots)\n",
    "\n",
    "    for ATA6code in code_window_map.keys():\n",
    "        for time_window in code_window_map[ATA6code].keys():\n",
    "            listofsequences = code_window_map[ATA6code][time_window]\n",
    "            if (ATA6code == 0):\n",
    "                i = 0\n",
    "                lengths = []\n",
    "                X = pandas.concat(listofsequences.as_matrix())\n",
    "                for sequence in listofsequences:\n",
    "                    lengths.append(sequence.shape[0])\n",
    "                    gmm = mixture.GaussianMixture(n_components=num_states, covariance_type='full', max_iter=num_iter, n_init=1)\n",
    "                    models[(ATA6code, time_window, i)] = gmm.fit(X.astype(float))\n",
    "            else:                      \n",
    "                for i in range(len(listofsequences)):\n",
    "                    lengths = []\n",
    "                    X = pandas.concat(listofsequences[0:(i+1)]).as_matrix()\n",
    "                    for sequence in listofsequences[0:(i+1)]:\n",
    "                        lengths.append(sequence.shape[0]) \n",
    "                    #models[(ATA6code, time_window)] = hmm.GaussianHMM(n_components=num_states, n_iter=num_iter).fit(X.astype(float),lengths)\n",
    "                    gmm = mixture.GaussianMixture(n_components=num_states, covariance_type='full', max_iter=num_iter, n_init=1)\n",
    "                    models[(ATA6code, time_window, i)] = gmm.fit(X.astype(float))\n",
    "    return models"
   ]
  },
  {
   "cell_type": "code",
   "execution_count": 97,
   "metadata": {
    "collapsed": false
   },
   "outputs": [],
   "source": [
    "ATA6code = 45021\n",
    "time_window = 2\n",
    "listofsequences = code_window_map[ATA6code][time_window]\n",
    "for i in range(maxSequences[1]):\n",
    "    if (i >= len(listofsequences)):\n",
    "        break\n",
    "        \n",
    "    X = pandas.concat(listofsequences[0:(i+1)]).as_matrix()\n",
    "    for sequence in listofsequences[0:(i+1)]:\n",
    "        lengths.append(sequence.shape[0]) \n",
    "    #models[(ATA6code, time_window)] = hmm.GaussianHMM(n_components=num_states, n_iter=num_iter).fit(X.astype(float),lengths)\n",
    "    gmm = mixture.GaussianMixture(n_components=num_states, covariance_type='full', max_iter=num_iter, n_init=1)\n",
    "    models[(ATA6code, time_window, i)] = gmm.fit(X.astype(float))   \n",
    "    \n",
    "        \n"
   ]
  },
  {
   "cell_type": "code",
   "execution_count": null,
   "metadata": {
    "collapsed": true
   },
   "outputs": [],
   "source": []
  },
  {
   "cell_type": "code",
   "execution_count": null,
   "metadata": {
    "collapsed": false
   },
   "outputs": [],
   "source": []
  },
  {
   "cell_type": "code",
   "execution_count": 93,
   "metadata": {
    "collapsed": false
   },
   "outputs": [
    {
     "ename": "NameError",
     "evalue": "name 'numSequences' is not defined",
     "output_type": "error",
     "traceback": [
      "\u001b[1;31m---------------------------------------------------------------------------\u001b[0m",
      "\u001b[1;31mNameError\u001b[0m                                 Traceback (most recent call last)",
      "\u001b[1;32m<ipython-input-93-beac4edc09a3>\u001b[0m in \u001b[0;36m<module>\u001b[1;34m()\u001b[0m\n\u001b[1;32m----> 1\u001b[1;33m \u001b[0mnumSequences\u001b[0m\u001b[1;33m\u001b[0m\u001b[0m\n\u001b[0m",
      "\u001b[1;31mNameError\u001b[0m: name 'numSequences' is not defined"
     ]
    }
   ],
   "source": []
  },
  {
   "cell_type": "code",
   "execution_count": null,
   "metadata": {
    "collapsed": false
   },
   "outputs": [],
   "source": []
  },
  {
   "cell_type": "code",
   "execution_count": null,
   "metadata": {
    "collapsed": true
   },
   "outputs": [],
   "source": []
  }
 ],
 "metadata": {
  "kernelspec": {
   "display_name": "Python 3",
   "language": "python",
   "name": "python3"
  },
  "language_info": {
   "codemirror_mode": {
    "name": "ipython",
    "version": 3
   },
   "file_extension": ".py",
   "mimetype": "text/x-python",
   "name": "python",
   "nbconvert_exporter": "python",
   "pygments_lexer": "ipython3",
   "version": "3.5.2"
  }
 },
 "nbformat": 4,
 "nbformat_minor": 0
}
