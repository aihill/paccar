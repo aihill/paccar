{
 "cells": [
  {
   "cell_type": "code",
   "execution_count": 1,
   "metadata": {
    "collapsed": false
   },
   "outputs": [],
   "source": [
    "from __future__ import print_function, division\n",
    "import time, os\n",
    "import numpy as np\n",
    "import matplotlib.pyplot as plt\n",
    "import sys\n",
    "import networkx as nx\n",
    "import pandas\n",
    "\n",
    "%matplotlib inline\n",
    "plt.rcParams['figure.figsize'] = (10.0, 8.0) # set default size of plots\n",
    "plt.rcParams['image.interpolation'] = 'nearest'\n",
    "plt.rcParams['image.cmap'] = 'gray'\n",
    "\n",
    "# for auto-reloading external modules\n",
    "# see http://stackoverflow.com/questions/1907993/autoreload-of-modules-in-ipython\n",
    "%load_ext autoreload\n",
    "%autoreload 2"
   ]
  },
  {
   "cell_type": "code",
   "execution_count": 2,
   "metadata": {
    "collapsed": true
   },
   "outputs": [],
   "source": [
    "snapshots_df_full = pandas.read_csv('/home/cs231n/data/Field_Snaps_With_warranty.txt')\n",
    "selected_snapshots_full = snapshots_df_full[['Veh Ref ID',\n",
    " 'Event DateTime',\n",
    " 'Event Type Description',\n",
    " 'Acc Pedal Position',\n",
    " 'Ambient Air Temp',\n",
    " 'Barometric Press',\n",
    " 'Brake Switch',\n",
    " 'Bus Utilization',\n",
    " 'Cat Intake Gas Temp',\n",
    " 'Cat Outlet Gas Temp',\n",
    " 'Clutch Switch',\n",
    " 'Cmd Eng Fuel Press',\n",
    " 'Cruise Status',\n",
    " 'Dpf Regen Inhibit Sw',\n",
    " 'Dpf Thermal Mngmnt',\n",
    " 'Drvr Demand Torque',\n",
    " 'Eng Air Flow Rate',\n",
    " 'Eng Avg Fuel Econ',\n",
    " 'Eng Coolant Level',\n",
    " 'Eng Coolant Temp',\n",
    " 'Eng Demand Torque',\n",
    " 'Eng DPF Intake Press',\n",
    " 'Eng Egr Valve Pos',\n",
    " 'Eng Exhaust Gas Temp',\n",
    " 'Eng Fuel Del Press',\n",
    " 'EngFuelTemp1',\n",
    " 'Engine Speed',\n",
    " 'Eng Man Abs Pressure',\n",
    " 'Eng Oil Pressure',\n",
    " 'EngInjRail1Press',\n",
    " 'EngIntakeMan1Temp',\n",
    " 'EngOilTemp1',\n",
    " 'Eng Percent Torque',\n",
    " 'EngTurbo1Boost',\n",
    " 'EngTurbo1Pos',\n",
    " 'EngTurbo1Speed',\n",
    " 'Event - All Lamps On Time Hr',\n",
    " 'Event - Amber Lamp Time Hr',\n",
    " 'Event - Mil Lamp Time Hr',\n",
    " 'Event - Red Lamp Time Hr',\n",
    " 'Exhaust Tank Level',\n",
    " 'Exhaust Tank Temp',\n",
    " 'Fan Speed',\n",
    " 'Keyswitch Bat Pot',\n",
    " 'Part Trap Diff Press',\n",
    " 'Part Trap Out Temp',\n",
    " 'Scr Intake Gas Temp',\n",
    " 'Scr Outlet Gas Temp',\n",
    " 'Vehicle Speed',\n",
    " 'Population',\n",
    " 'DTCID',\n",
    " 'Trip Distance',\n",
    " 'Trip Idle Time',\n",
    " 'Trip Run Time',\n",
    " 'Altitude',\n",
    " 'Engine Start Ambient',\n",
    " 'Engine Start Coolant',\n",
    " 'Latitude',\n",
    " 'Longitude',\n",
    " 'Lifetime Idle Hours',\n",
    " 'Lifetime Idle Fuel',\n",
    " 'Lifetime Fuel',\n",
    " 'Lifetime Distance',\n",
    " 'Lifetime Engine Hours']]\n",
    "selected_repairs_full = pandas.read_csv('/home/cs231n/data/repairs.csv')[[\n",
    " 'Chassis\\nReference\\nNumber',\n",
    " 'Model Vehicle',\n",
    " 'Build_Dt',\n",
    " 'Dlvry_Dt',\n",
    " 'In Service Date',\n",
    " 'Miles',\n",
    " 'Rpr_Dt',\n",
    " 'ATA3',\n",
    " 'ATA3Desc',\n",
    " 'ATA6',\n",
    " 'ATA6Desc',\n",
    " 'ATA9',\n",
    " 'ATA9Desc',\n",
    " 'Fail Type',\n",
    " 'Repair Cost']]\n",
    "selected_repairs_full = selected_repairs_full[selected_repairs_full['Chassis\\nReference\\nNumber'].notnull()] "
   ]
  },
  {
   "cell_type": "code",
   "execution_count": 4,
   "metadata": {
    "collapsed": false
   },
   "outputs": [],
   "source": [
    "# don't include repairs before delivery\n",
    "selected_repairs = selected_repairs_full[selected_repairs_full['Miles']>0]"
   ]
  },
  {
   "cell_type": "code",
   "execution_count": 5,
   "metadata": {
    "collapsed": false
   },
   "outputs": [],
   "source": [
    "#selected_repairs = selected_repairs_full[selected_repairs_full['Repair Cost'].isin(['medium', 'high ', 'very high'])]\n",
    "veh_ids = selected_repairs['Chassis\\nReference\\nNumber'].unique()\n",
    "selected_snapshots = selected_snapshots_full[selected_snapshots_full['Veh Ref ID'].isin(veh_ids)]"
   ]
  },
  {
   "cell_type": "code",
   "execution_count": 10,
   "metadata": {
    "collapsed": true
   },
   "outputs": [],
   "source": [
    "selected_snapshots = selected_snapshots.fillna(method='bfill')\n",
    "selected_repairs = selected_repairs.fillna(method='bfill')"
   ]
  },
  {
   "cell_type": "code",
   "execution_count": 11,
   "metadata": {
    "collapsed": true
   },
   "outputs": [],
   "source": [
    "selected_snapshots.to_csv('/home/cs231n/data/snapshots_full_cleaned.csv')\n",
    "selected_repairs.to_csv('/home/cs231n/data/repairs_full_cleaned.csv')"
   ]
  },
  {
   "cell_type": "code",
   "execution_count": 12,
   "metadata": {
    "collapsed": false
   },
   "outputs": [],
   "source": [
    "# 6/14/2016 20:17:07\n",
    "s_to_date = lambda x: pandas.to_datetime(x, format='%m/%d/%Y %H:%M:%S')\n",
    "snapshots_df = pandas.read_csv('/home/cs231n/data/snapshots_full_cleaned.csv', converters={'Event DateTime':s_to_date})"
   ]
  },
  {
   "cell_type": "code",
   "execution_count": 14,
   "metadata": {
    "collapsed": false
   },
   "outputs": [],
   "source": [
    "# 2/3/2016\n",
    "r_to_date = lambda x: pandas.to_datetime(x, format='%m/%d/%Y')\n",
    "repairs_df = pandas.read_csv('/home/cs231n/data/repairs_full_cleaned.csv', converters={'Rpr_Dt':r_to_date})"
   ]
  },
  {
   "cell_type": "code",
   "execution_count": 28,
   "metadata": {
    "collapsed": false
   },
   "outputs": [],
   "source": [
    "snapshots_df = snapshots_df.drop(['Unnamed: 0'],1)"
   ]
  },
  {
   "cell_type": "code",
   "execution_count": 30,
   "metadata": {
    "collapsed": false
   },
   "outputs": [],
   "source": [
    "repairs_df = repairs_df.drop(['Unnamed: 0'],1)"
   ]
  },
  {
   "cell_type": "code",
   "execution_count": 31,
   "metadata": {
    "collapsed": false
   },
   "outputs": [],
   "source": [
    "snapshots_df.to_csv('/home/cs231n/data/snapshots_cleaned_formatted.csv')\n",
    "repairs_df.to_csv('/home/cs231n/data/repairs_cleaned_formatted.csv')"
   ]
  },
  {
   "cell_type": "code",
   "execution_count": 23,
   "metadata": {
    "collapsed": true
   },
   "outputs": [],
   "source": [
    "## k is number of intervals\n",
    "## spacing is distance between intervals\n",
    "## end_date is when the repair occurred which ends the sequence\n",
    "def get_k_dates(k, spacing, end_date):\n",
    "    end = pandas.to_datetime(end_date)\n",
    "    # p1 so the last date is included\n",
    "    return [end + pandas.DateOffset(days=-i*spacing) for i in range(0, k+1)]"
   ]
  },
  {
   "cell_type": "code",
   "execution_count": 33,
   "metadata": {
    "collapsed": true
   },
   "outputs": [],
   "source": [
    "s_veh_key = 'Veh Ref ID'\n",
    "r_veh_key = 'Chassis\\nReference\\nNumber'\n",
    "s_time_key = 'Event DateTime'\n",
    "r_time_key = 'Rpr_Dt'"
   ]
  },
  {
   "cell_type": "code",
   "execution_count": 53,
   "metadata": {
    "collapsed": false
   },
   "outputs": [
    {
     "data": {
      "text/html": [
       "<div>\n",
       "<style scoped>\n",
       "    .dataframe tbody tr th:only-of-type {\n",
       "        vertical-align: middle;\n",
       "    }\n",
       "\n",
       "    .dataframe tbody tr th {\n",
       "        vertical-align: top;\n",
       "    }\n",
       "\n",
       "    .dataframe thead th {\n",
       "        text-align: right;\n",
       "    }\n",
       "</style>\n",
       "<table border=\"1\" class=\"dataframe\">\n",
       "  <thead>\n",
       "    <tr style=\"text-align: right;\">\n",
       "      <th></th>\n",
       "      <th>Veh Ref ID</th>\n",
       "      <th>Event DateTime</th>\n",
       "      <th>Event Type Description</th>\n",
       "      <th>Acc Pedal Position</th>\n",
       "      <th>Ambient Air Temp</th>\n",
       "      <th>Barometric Press</th>\n",
       "      <th>Brake Switch</th>\n",
       "      <th>Bus Utilization</th>\n",
       "      <th>Cat Intake Gas Temp</th>\n",
       "      <th>Cat Outlet Gas Temp</th>\n",
       "      <th>...</th>\n",
       "      <th>Altitude</th>\n",
       "      <th>Engine Start Ambient</th>\n",
       "      <th>Engine Start Coolant</th>\n",
       "      <th>Latitude</th>\n",
       "      <th>Longitude</th>\n",
       "      <th>Lifetime Idle Hours</th>\n",
       "      <th>Lifetime Idle Fuel</th>\n",
       "      <th>Lifetime Fuel</th>\n",
       "      <th>Lifetime Distance</th>\n",
       "      <th>Lifetime Engine Hours</th>\n",
       "    </tr>\n",
       "  </thead>\n",
       "  <tbody>\n",
       "    <tr>\n",
       "      <th>0</th>\n",
       "      <td>254.0</td>\n",
       "      <td>2016-04-03 18:00:44</td>\n",
       "      <td>trip_start</td>\n",
       "      <td>0.0</td>\n",
       "      <td>38.59</td>\n",
       "      <td>101.5</td>\n",
       "      <td>0.0</td>\n",
       "      <td>49.0</td>\n",
       "      <td>211.78</td>\n",
       "      <td>214.28</td>\n",
       "      <td>...</td>\n",
       "      <td>48.0</td>\n",
       "      <td>37.77</td>\n",
       "      <td>86.66</td>\n",
       "      <td>37.5</td>\n",
       "      <td>-121.01</td>\n",
       "      <td>43.35</td>\n",
       "      <td>210.56</td>\n",
       "      <td>267.87</td>\n",
       "      <td>138.59</td>\n",
       "      <td>55.75</td>\n",
       "    </tr>\n",
       "    <tr>\n",
       "      <th>1</th>\n",
       "      <td>254.0</td>\n",
       "      <td>2016-04-03 17:59:00</td>\n",
       "      <td>trip_end</td>\n",
       "      <td>0.0</td>\n",
       "      <td>38.37</td>\n",
       "      <td>101.5</td>\n",
       "      <td>0.0</td>\n",
       "      <td>48.0</td>\n",
       "      <td>206.09</td>\n",
       "      <td>211.68</td>\n",
       "      <td>...</td>\n",
       "      <td>50.0</td>\n",
       "      <td>10.55</td>\n",
       "      <td>25.55</td>\n",
       "      <td>37.5</td>\n",
       "      <td>-121.01</td>\n",
       "      <td>43.30</td>\n",
       "      <td>210.56</td>\n",
       "      <td>267.87</td>\n",
       "      <td>138.59</td>\n",
       "      <td>55.75</td>\n",
       "    </tr>\n",
       "    <tr>\n",
       "      <th>2</th>\n",
       "      <td>254.0</td>\n",
       "      <td>2016-04-25 17:58:26</td>\n",
       "      <td>trip_periodic</td>\n",
       "      <td>0.0</td>\n",
       "      <td>38.00</td>\n",
       "      <td>101.5</td>\n",
       "      <td>0.0</td>\n",
       "      <td>49.0</td>\n",
       "      <td>312.68</td>\n",
       "      <td>312.37</td>\n",
       "      <td>...</td>\n",
       "      <td>49.0</td>\n",
       "      <td>23.88</td>\n",
       "      <td>92.77</td>\n",
       "      <td>37.5</td>\n",
       "      <td>-121.01</td>\n",
       "      <td>215.45</td>\n",
       "      <td>1132.35</td>\n",
       "      <td>1335.88</td>\n",
       "      <td>388.09</td>\n",
       "      <td>264.50</td>\n",
       "    </tr>\n",
       "  </tbody>\n",
       "</table>\n",
       "<p>3 rows × 64 columns</p>\n",
       "</div>"
      ],
      "text/plain": [
       "   Veh Ref ID      Event DateTime Event Type Description  Acc Pedal Position  \\\n",
       "0       254.0 2016-04-03 18:00:44             trip_start                 0.0   \n",
       "1       254.0 2016-04-03 17:59:00               trip_end                 0.0   \n",
       "2       254.0 2016-04-25 17:58:26          trip_periodic                 0.0   \n",
       "\n",
       "   Ambient Air Temp  Barometric Press  Brake Switch  Bus Utilization  \\\n",
       "0             38.59             101.5           0.0             49.0   \n",
       "1             38.37             101.5           0.0             48.0   \n",
       "2             38.00             101.5           0.0             49.0   \n",
       "\n",
       "   Cat Intake Gas Temp  Cat Outlet Gas Temp          ...            Altitude  \\\n",
       "0               211.78               214.28          ...                48.0   \n",
       "1               206.09               211.68          ...                50.0   \n",
       "2               312.68               312.37          ...                49.0   \n",
       "\n",
       "   Engine Start Ambient  Engine Start Coolant  Latitude  Longitude  \\\n",
       "0                 37.77                 86.66      37.5    -121.01   \n",
       "1                 10.55                 25.55      37.5    -121.01   \n",
       "2                 23.88                 92.77      37.5    -121.01   \n",
       "\n",
       "   Lifetime Idle Hours  Lifetime Idle Fuel  Lifetime Fuel  Lifetime Distance  \\\n",
       "0                43.35              210.56         267.87             138.59   \n",
       "1                43.30              210.56         267.87             138.59   \n",
       "2               215.45             1132.35        1335.88             388.09   \n",
       "\n",
       "   Lifetime Engine Hours  \n",
       "0                  55.75  \n",
       "1                  55.75  \n",
       "2                 264.50  \n",
       "\n",
       "[3 rows x 64 columns]"
      ]
     },
     "execution_count": 53,
     "metadata": {},
     "output_type": "execute_result"
    }
   ],
   "source": [
    "snapshots_df[0:3]"
   ]
  },
  {
   "cell_type": "code",
   "execution_count": 74,
   "metadata": {
    "collapsed": true
   },
   "outputs": [],
   "source": [
    "def get_slices(k, spacing, num_slices, snapshots):\n",
    "    slices = []\n",
    "    for i in range(k):\n",
    "        start = num_slices - (i+1)*spacing\n",
    "        end = num_slices - i*spacing\n",
    "        \n",
    "        if i == k-1 and num_slices - start > 0: # last iter\n",
    "            start = 0\n",
    "            \n",
    "        if start >=0 and end >=0:\n",
    "            slices.append((i, snapshots[start : end]))\n",
    "        else:\n",
    "            break\n",
    "            \n",
    "    return slices"
   ]
  },
  {
   "cell_type": "code",
   "execution_count": 82,
   "metadata": {
    "collapsed": true
   },
   "outputs": [],
   "source": [
    "def get_repair_slices_map(veh_ids, snapshots, repairs, k=10, spacing=10, code='ATA9'):\n",
    "    repair_slices = {}\n",
    "    for veh_id in veh_ids:\n",
    "        v_snapshots = snapshots[snapshots[s_veh_key] == veh_id].sort_values(by=s_time_key)\n",
    "        v_repairs = repairs[repairs[r_veh_key] == veh_id].sort_values(by=r_time_key)\n",
    "\n",
    "        start_date = pandas.to_datetime('1/1/2000') ## in past so first snapshot is captured\n",
    "\n",
    "        repair_slices[veh_id] = {}\n",
    "        veh_slices = repair_slices[veh_id]\n",
    "\n",
    "        ## Best indicator of repair type is the ATA9 code\n",
    "        ## Iterate over each repair type and append slices\n",
    "        for repair_type, repair_group in v_repairs.groupby([code]):\n",
    "            start = start_date\n",
    "\n",
    "            ## for each repair type, grab slices of snapshots\n",
    "            veh_slices_repair = {}\n",
    "            for end in repair_group[r_time_key]:\n",
    "                range_mask = (v_snapshots[s_time_key] >= start) & (v_snapshots[s_time_key] <= end)\n",
    "                num_slices = len(v_snapshots[range_mask])\n",
    "                \n",
    "                for i,slices in get_slices(k, spacing, num_slices, v_snapshots):\n",
    "                    if len(slices) > 0:\n",
    "                        if i not in veh_slices_repair:\n",
    "                            veh_slices_repair[i] = []\n",
    "                        veh_slices_repair[i].append(slices)\n",
    "\n",
    "                ## reset start to end for next iteration\n",
    "                start = end\n",
    "            \n",
    "            #if len(veh_slices_repair[0]) > 0 or len(veh_slices_repair[1]) > 0 or len(veh_slices_repair[2]) > 0:\n",
    "            veh_slices[repair_type] = veh_slices_repair\n",
    "\n",
    "    return repair_slices"
   ]
  },
  {
   "cell_type": "code",
   "execution_count": 83,
   "metadata": {
    "collapsed": true
   },
   "outputs": [],
   "source": [
    "def get_train_val_test(repair_slices_map, train_ids, val_ids, test_ids):\n",
    "    return (repair_slices_map[train_ids], repair_slices_map[val_ids], repair_slices_map[test_ids])"
   ]
  },
  {
   "cell_type": "code",
   "execution_count": 35,
   "metadata": {
    "collapsed": true
   },
   "outputs": [],
   "source": [
    "## need to remove veh ids\n",
    "## need to divide by test, train, val"
   ]
  },
  {
   "cell_type": "code",
   "execution_count": 78,
   "metadata": {
    "collapsed": false
   },
   "outputs": [],
   "source": [
    "repair_slices_all = get_repair_slices_map(veh_ids, snapshots_df, repairs_df)"
   ]
  },
  {
   "cell_type": "code",
   "execution_count": 81,
   "metadata": {
    "collapsed": false
   },
   "outputs": [
    {
     "data": {
      "text/plain": [
       "1"
      ]
     },
     "execution_count": 81,
     "metadata": {},
     "output_type": "execute_result"
    }
   ],
   "source": [
    "len(repair_slices_all[259][44004001][2])"
   ]
  },
  {
   "cell_type": "code",
   "execution_count": null,
   "metadata": {
    "collapsed": true
   },
   "outputs": [],
   "source": [
    "get_train_val_test(repair_slices_map, train_ids, val_ids, test_ids)"
   ]
  }
 ],
 "metadata": {
  "kernelspec": {
   "display_name": "Python 3",
   "language": "python",
   "name": "python3"
  },
  "language_info": {
   "codemirror_mode": {
    "name": "ipython",
    "version": 3
   },
   "file_extension": ".py",
   "mimetype": "text/x-python",
   "name": "python",
   "nbconvert_exporter": "python",
   "pygments_lexer": "ipython3",
   "version": "3.5.2"
  }
 },
 "nbformat": 4,
 "nbformat_minor": 0
}
