{
 "cells": [
  {
   "cell_type": "code",
   "execution_count": 21,
   "metadata": {
    "collapsed": false
   },
   "outputs": [
    {
     "name": "stdout",
     "output_type": "stream",
     "text": [
      "The autoreload extension is already loaded. To reload it, use:\n",
      "  %reload_ext autoreload\n"
     ]
    }
   ],
   "source": [
    "from __future__ import print_function, division\n",
    "import time, os\n",
    "import numpy as np\n",
    "import matplotlib.pyplot as plt\n",
    "import sys\n",
    "import pandas\n",
    "import glob\n",
    "from sklearn import preprocessings\n",
    "\n",
    "%matplotlib inline\n",
    "plt.rcParams['figure.figsize'] = (10.0, 8.0) # set default size of plots\n",
    "plt.rcParams['image.interpolation'] = 'nearest'\n",
    "plt.rcParams['image.cmap'] = 'gray'\n",
    "\n",
    "# for auto-reloading external modules\n",
    "# see http://stackoverflow.com/questions/1907993/autoreload-of-modules-in-ipython\n",
    "%load_ext autoreload\n",
    "%autoreload 2"
   ]
  },
  {
   "cell_type": "code",
   "execution_count": 10,
   "metadata": {
    "collapsed": true
   },
   "outputs": [],
   "source": [
    "snapshots_df_full = pandas.read_csv('/home/cs231n/data/Field_Snaps_With_warranty.txt')\n",
    "selected_snapshots_full = snapshots_df_full[['Veh Ref ID',\n",
    " 'Event DateTime',\n",
    " 'Event Type Description',\n",
    " 'Acc Pedal Position',\n",
    " 'Ambient Air Temp',\n",
    " 'Barometric Press',\n",
    " 'Brake Switch',\n",
    " 'Bus Utilization',\n",
    " 'Cat Intake Gas Temp',\n",
    " 'Cat Outlet Gas Temp',\n",
    " 'Clutch Switch',\n",
    " 'Cmd Eng Fuel Press',\n",
    " 'Cruise Status',\n",
    " 'Dpf Regen Inhibit Sw',\n",
    " 'Dpf Thermal Mngmnt',\n",
    " 'Drvr Demand Torque',\n",
    " 'Eng Air Flow Rate',\n",
    " 'Eng Avg Fuel Econ',\n",
    " 'Eng Coolant Level',\n",
    " 'Eng Coolant Temp',\n",
    " 'Eng Demand Torque',\n",
    " 'Eng DPF Intake Press',\n",
    " 'Eng Egr Valve Pos',\n",
    " 'Eng Exhaust Gas Temp',\n",
    " 'Eng Fuel Del Press',\n",
    " 'EngFuelTemp1',\n",
    " 'Engine Speed',\n",
    " 'Eng Man Abs Pressure',\n",
    " 'Eng Oil Pressure',\n",
    " 'EngInjRail1Press',\n",
    " 'EngIntakeMan1Temp',\n",
    " 'EngOilTemp1',\n",
    " 'Eng Percent Torque',\n",
    " 'EngTurbo1Boost',\n",
    " 'EngTurbo1Pos',\n",
    " 'EngTurbo1Speed',\n",
    " 'Event - All Lamps On Time Hr',\n",
    " 'Event - Amber Lamp Time Hr',\n",
    " 'Event - Mil Lamp Time Hr',\n",
    " 'Event - Red Lamp Time Hr',\n",
    " 'Exhaust Tank Level',\n",
    " 'Exhaust Tank Temp',\n",
    " 'Fan Speed',\n",
    " 'Keyswitch Bat Pot',\n",
    " 'Part Trap Diff Press',\n",
    " 'Part Trap Out Temp',\n",
    " 'Scr Intake Gas Temp',\n",
    " 'Scr Outlet Gas Temp',\n",
    " 'Vehicle Speed',\n",
    " 'DTCID',\n",
    " 'Trip Distance',\n",
    " 'Trip Idle Time',\n",
    " 'Trip Run Time',\n",
    " 'Altitude',\n",
    " 'Engine Start Ambient',\n",
    " 'Engine Start Coolant',\n",
    " 'Latitude',\n",
    " 'Longitude',\n",
    " 'Lifetime Idle Hours',\n",
    " 'Lifetime Idle Fuel',\n",
    " 'Lifetime Fuel',\n",
    " 'Lifetime Distance',\n",
    " 'Lifetime Engine Hours']]"
   ]
  },
  {
   "cell_type": "code",
   "execution_count": 11,
   "metadata": {
    "collapsed": false
   },
   "outputs": [
    {
     "data": {
      "text/plain": [
       "1581892"
      ]
     },
     "execution_count": 11,
     "metadata": {},
     "output_type": "execute_result"
    }
   ],
   "source": [
    "len(snapshots_df_full)"
   ]
  },
  {
   "cell_type": "code",
   "execution_count": 12,
   "metadata": {
    "collapsed": true
   },
   "outputs": [],
   "source": [
    "snapshots_full_deduped = snapshots_df_full.drop_duplicates()"
   ]
  },
  {
   "cell_type": "code",
   "execution_count": 13,
   "metadata": {
    "collapsed": false
   },
   "outputs": [
    {
     "data": {
      "text/plain": [
       "1015071"
      ]
     },
     "execution_count": 13,
     "metadata": {},
     "output_type": "execute_result"
    }
   ],
   "source": [
    "len(snapshots_full_deduped)"
   ]
  },
  {
   "cell_type": "code",
   "execution_count": 14,
   "metadata": {
    "collapsed": true
   },
   "outputs": [],
   "source": [
    "selected_repairs_full = pandas.read_csv('/home/cs231n/data/repairs.csv')[[\n",
    " 'Chassis\\nReference\\nNumber',\n",
    " 'Model Vehicle',\n",
    " 'Build_Dt',\n",
    " 'Dlvry_Dt',\n",
    " 'In Service Date',\n",
    " 'Miles',\n",
    " 'Rpr_Dt',\n",
    " 'ATA3',\n",
    " 'ATA3Desc',\n",
    " 'ATA6',\n",
    " 'ATA6Desc',\n",
    " 'ATA9',\n",
    " 'ATA9Desc',\n",
    " 'Fail Type',\n",
    " 'Repair Cost']]\n",
    "selected_repairs_full = selected_repairs_full[selected_repairs_full['Chassis\\nReference\\nNumber'].notnull()] "
   ]
  },
  {
   "cell_type": "code",
   "execution_count": null,
   "metadata": {
    "collapsed": true
   },
   "outputs": [],
   "source": []
  },
  {
   "cell_type": "code",
   "execution_count": 15,
   "metadata": {
    "collapsed": false
   },
   "outputs": [],
   "source": [
    "# don't include repairs before delivery\n",
    "selected_repairs = selected_repairs_full[selected_repairs_full['Miles']>0]"
   ]
  },
  {
   "cell_type": "code",
   "execution_count": 5,
   "metadata": {
    "collapsed": false
   },
   "outputs": [],
   "source": [
    "#selected_repairs = selected_repairs_full[selected_repairs_full['Repair Cost'].isin(['medium', 'high ', 'very high'])]\n",
    "veh_ids = selected_repairs['Chassis\\nReference\\nNumber'].unique()\n",
    "selected_snapshots = selected_snapshots_full[selected_snapshots_full['Veh Ref ID'].isin(veh_ids)]"
   ]
  },
  {
   "cell_type": "code",
   "execution_count": 16,
   "metadata": {
    "collapsed": true
   },
   "outputs": [],
   "source": [
    "veh_ids = selected_repairs['Chassis\\nReference\\nNumber'].unique()\n",
    "selected_snapshots_full_deduped = snapshots_full_deduped[snapshots_full_deduped['Veh Ref ID'].isin(veh_ids)]"
   ]
  },
  {
   "cell_type": "code",
   "execution_count": 17,
   "metadata": {
    "collapsed": false
   },
   "outputs": [
    {
     "data": {
      "text/plain": [
       "851333"
      ]
     },
     "execution_count": 17,
     "metadata": {},
     "output_type": "execute_result"
    }
   ],
   "source": [
    "len(selected_snapshots_full_deduped)"
   ]
  },
  {
   "cell_type": "code",
   "execution_count": 18,
   "metadata": {
    "collapsed": true
   },
   "outputs": [],
   "source": [
    "selected_snapshots_full_deduped_backfilled = selected_snapshots_full_deduped.fillna(method='bfill')"
   ]
  },
  {
   "cell_type": "code",
   "execution_count": 19,
   "metadata": {
    "collapsed": true
   },
   "outputs": [],
   "source": [
    "selected_snapshots_full_deduped_backfilled.to_csv('/home/cs231n/data/selected_snapshots_full_deduped_backfilled.csv')"
   ]
  },
  {
   "cell_type": "code",
   "execution_count": 38,
   "metadata": {
    "collapsed": true
   },
   "outputs": [],
   "source": [
    "to_whiten = [\n",
    " 'Ambient Air Temp',\n",
    " 'Barometric Press',\n",
    " 'Bus Utilization',\n",
    " 'Cat Intake Gas Temp',\n",
    " 'Cat Outlet Gas Temp',\n",
    " 'Cmd Eng Fuel Press',\n",
    " 'Drvr Demand Torque',\n",
    " 'Eng Air Flow Rate',\n",
    " 'Eng Avg Fuel Econ',\n",
    " 'Eng Coolant Temp',\n",
    " 'Eng Demand Torque',\n",
    " 'Eng DPF Intake Press',\n",
    " 'Eng Egr Valve Pos',\n",
    " 'Eng Exhaust Gas Temp',\n",
    " 'Eng Fuel Del Press',\n",
    " 'EngFuelTemp1',\n",
    " 'Engine Speed',\n",
    " 'Eng Man Abs Pressure',\n",
    " 'Eng Oil Pressure',\n",
    " 'EngInjRail1Press',\n",
    " 'EngIntakeMan1Temp',\n",
    " 'EngOilTemp1',\n",
    " 'Eng Percent Torque',\n",
    " 'EngTurbo1Boost',\n",
    " 'EngTurbo1Pos',\n",
    " 'EngTurbo1Speed',\n",
    " 'Event - All Lamps On Time Hr',\n",
    " 'Event - Amber Lamp Time Hr',\n",
    " 'Event - Mil Lamp Time Hr',\n",
    " 'Event - Red Lamp Time Hr',\n",
    " 'Exhaust Tank Level',\n",
    " 'Exhaust Tank Temp',\n",
    " 'Fan Speed',\n",
    " 'Keyswitch Bat Pot',\n",
    " 'Part Trap Diff Press',\n",
    " 'Part Trap Out Temp',\n",
    " 'Scr Intake Gas Temp',\n",
    " 'Scr Outlet Gas Temp',\n",
    " 'Vehicle Speed',\n",
    " 'DTCID',\n",
    " 'Trip Distance',\n",
    " 'Trip Idle Time',\n",
    " 'Trip Run Time',\n",
    " 'Altitude',\n",
    " 'Engine Start Ambient',\n",
    " 'Engine Start Coolant',\n",
    " 'Latitude',\n",
    " 'Longitude',\n",
    " 'Lifetime Idle Hours',\n",
    " 'Lifetime Idle Fuel',\n",
    " 'Lifetime Fuel',\n",
    " 'Lifetime Distance']"
   ]
  },
  {
   "cell_type": "code",
   "execution_count": 40,
   "metadata": {
    "collapsed": true
   },
   "outputs": [],
   "source": [
    "selected_snapshots_full_deduped_backfilled_whitened = selected_snapshots_full_deduped_backfilled.drop(['Population'],1)"
   ]
  },
  {
   "cell_type": "code",
   "execution_count": 42,
   "metadata": {
    "collapsed": false
   },
   "outputs": [
    {
     "name": "stderr",
     "output_type": "stream",
     "text": [
      "/home/cs231n/myVE35/lib/python3.5/site-packages/sklearn/utils/validation.py:475: DataConversionWarning: Data with input dtype int64 was converted to float64 by the scale function.\n",
      "  warnings.warn(msg, DataConversionWarning)\n"
     ]
    }
   ],
   "source": [
    "for col in to_whiten:\n",
    "    selected_snapshots_full_deduped_backfilled_whitened[col] = preprocessing.scale(selected_snapshots_full_deduped_backfilled_whitened[col])"
   ]
  },
  {
   "cell_type": "code",
   "execution_count": 44,
   "metadata": {
    "collapsed": true
   },
   "outputs": [],
   "source": [
    "selected_snapshots_full_deduped_backfilled_whitened.to_csv('/home/cs231n/data/selected_snapshots_full_deduped_backfilled_whitened.csv')"
   ]
  },
  {
   "cell_type": "code",
   "execution_count": 46,
   "metadata": {
    "collapsed": false
   },
   "outputs": [
    {
     "ename": "MemoryError",
     "evalue": "",
     "output_type": "error",
     "traceback": [
      "\u001b[1;31m---------------------------------------------------------------------------\u001b[0m",
      "\u001b[1;31mMemoryError\u001b[0m                               Traceback (most recent call last)",
      "\u001b[1;32m<ipython-input-46-af46548d1e21>\u001b[0m in \u001b[0;36m<module>\u001b[1;34m()\u001b[0m\n\u001b[1;32m----> 1\u001b[1;33m \u001b[0mselected_snapshots_full_deduped_backfilled_whitened\u001b[0m\u001b[1;33m.\u001b[0m\u001b[0mto_pickle\u001b[0m\u001b[1;33m(\u001b[0m\u001b[1;34m'/home/cs231n/data/selected_snapshots_full_deduped_backfilled_whitened.pkl'\u001b[0m\u001b[1;33m)\u001b[0m\u001b[1;33m\u001b[0m\u001b[0m\n\u001b[0m",
      "\u001b[1;32m/home/cs231n/myVE35/lib/python3.5/site-packages/pandas/core/generic.py\u001b[0m in \u001b[0;36mto_pickle\u001b[1;34m(self, path, compression, protocol)\u001b[0m\n\u001b[0;32m   1562\u001b[0m         \u001b[1;32mfrom\u001b[0m \u001b[0mpandas\u001b[0m\u001b[1;33m.\u001b[0m\u001b[0mio\u001b[0m\u001b[1;33m.\u001b[0m\u001b[0mpickle\u001b[0m \u001b[1;32mimport\u001b[0m \u001b[0mto_pickle\u001b[0m\u001b[1;33m\u001b[0m\u001b[0m\n\u001b[0;32m   1563\u001b[0m         return to_pickle(self, path, compression=compression,\n\u001b[1;32m-> 1564\u001b[1;33m                          protocol=protocol)\n\u001b[0m\u001b[0;32m   1565\u001b[0m \u001b[1;33m\u001b[0m\u001b[0m\n\u001b[0;32m   1566\u001b[0m     \u001b[1;32mdef\u001b[0m \u001b[0mto_clipboard\u001b[0m\u001b[1;33m(\u001b[0m\u001b[0mself\u001b[0m\u001b[1;33m,\u001b[0m \u001b[0mexcel\u001b[0m\u001b[1;33m=\u001b[0m\u001b[1;32mNone\u001b[0m\u001b[1;33m,\u001b[0m \u001b[0msep\u001b[0m\u001b[1;33m=\u001b[0m\u001b[1;32mNone\u001b[0m\u001b[1;33m,\u001b[0m \u001b[1;33m**\u001b[0m\u001b[0mkwargs\u001b[0m\u001b[1;33m)\u001b[0m\u001b[1;33m:\u001b[0m\u001b[1;33m\u001b[0m\u001b[0m\n",
      "\u001b[1;32m/home/cs231n/myVE35/lib/python3.5/site-packages/pandas/io/pickle.py\u001b[0m in \u001b[0;36mto_pickle\u001b[1;34m(obj, path, compression, protocol)\u001b[0m\n\u001b[0;32m     43\u001b[0m         \u001b[0mprotocol\u001b[0m \u001b[1;33m=\u001b[0m \u001b[0mpkl\u001b[0m\u001b[1;33m.\u001b[0m\u001b[0mHIGHEST_PROTOCOL\u001b[0m\u001b[1;33m\u001b[0m\u001b[0m\n\u001b[0;32m     44\u001b[0m     \u001b[1;32mtry\u001b[0m\u001b[1;33m:\u001b[0m\u001b[1;33m\u001b[0m\u001b[0m\n\u001b[1;32m---> 45\u001b[1;33m         \u001b[0mpkl\u001b[0m\u001b[1;33m.\u001b[0m\u001b[0mdump\u001b[0m\u001b[1;33m(\u001b[0m\u001b[0mobj\u001b[0m\u001b[1;33m,\u001b[0m \u001b[0mf\u001b[0m\u001b[1;33m,\u001b[0m \u001b[0mprotocol\u001b[0m\u001b[1;33m=\u001b[0m\u001b[0mprotocol\u001b[0m\u001b[1;33m)\u001b[0m\u001b[1;33m\u001b[0m\u001b[0m\n\u001b[0m\u001b[0;32m     46\u001b[0m     \u001b[1;32mfinally\u001b[0m\u001b[1;33m:\u001b[0m\u001b[1;33m\u001b[0m\u001b[0m\n\u001b[0;32m     47\u001b[0m         \u001b[1;32mfor\u001b[0m \u001b[0m_f\u001b[0m \u001b[1;32min\u001b[0m \u001b[0mfh\u001b[0m\u001b[1;33m:\u001b[0m\u001b[1;33m\u001b[0m\u001b[0m\n",
      "\u001b[1;31mMemoryError\u001b[0m: "
     ]
    }
   ],
   "source": [
    "selected_snapshots_full_deduped_backfilled_whitened.to_pickle('/home/cs231n/data/selected_snapshots_full_deduped_backfilled_whitened.pkl')"
   ]
  },
  {
   "cell_type": "code",
   "execution_count": null,
   "metadata": {
    "collapsed": true
   },
   "outputs": [],
   "source": [
    "category_var = ['Veh Ref ID','Event Type Description','Brake Switch','Clutch Switch','Cruise Status','Dpf Regen Inhibit Sw', \n",
    "                'Dpf Thermal Mngmnt','Eng Coolant Level','Population','DTCID','state']\n",
    "\n",
    "for i in category_var:\n",
    "    selected_snapshots[i] = selected_snapshots[i].astype('category')"
   ]
  },
  {
   "cell_type": "code",
   "execution_count": 10,
   "metadata": {
    "collapsed": true
   },
   "outputs": [],
   "source": [
    "selected_snapshots = selected_snapshots.fillna(method='bfill')\n",
    "selected_repairs = selected_repairs.fillna(method='bfill')"
   ]
  },
  {
   "cell_type": "code",
   "execution_count": 11,
   "metadata": {
    "collapsed": true
   },
   "outputs": [],
   "source": [
    "selected_snapshots.to_csv('/home/cs231n/data/snapshots_full_cleaned.csv')\n",
    "selected_repairs.to_csv('/home/cs231n/data/repairs_full_cleaned.csv')"
   ]
  },
  {
   "cell_type": "code",
   "execution_count": 6,
   "metadata": {
    "collapsed": false
   },
   "outputs": [],
   "source": [
    "# 6/14/2016 20:17:07\n",
    "s_to_date = lambda x: pandas.to_datetime(x, format='%m/%d/%Y %H:%M:%S')\n",
    "snapshots_df = pandas.read_csv('/home/cs231n/data/snapshots_full_cleaned.csv', converters={'Event DateTime':s_to_date})"
   ]
  },
  {
   "cell_type": "code",
   "execution_count": 14,
   "metadata": {
    "collapsed": false
   },
   "outputs": [],
   "source": [
    "# 2/3/2016\n",
    "r_to_date = lambda x: pandas.to_datetime(x, format='%m/%d/%Y')\n",
    "repairs_df = pandas.read_csv('/home/cs231n/data/repairs_full_cleaned.csv', converters={'Rpr_Dt':r_to_date})"
   ]
  },
  {
   "cell_type": "code",
   "execution_count": 7,
   "metadata": {
    "collapsed": true
   },
   "outputs": [],
   "source": [
    "snapshots_deduped = snapshots_df.drop_duplicates()"
   ]
  },
  {
   "cell_type": "code",
   "execution_count": 8,
   "metadata": {
    "collapsed": false
   },
   "outputs": [
    {
     "data": {
      "text/plain": [
       "1324311"
      ]
     },
     "execution_count": 8,
     "metadata": {},
     "output_type": "execute_result"
    }
   ],
   "source": [
    "len(snapshots_df)"
   ]
  },
  {
   "cell_type": "code",
   "execution_count": 9,
   "metadata": {
    "collapsed": false
   },
   "outputs": [
    {
     "data": {
      "text/plain": [
       "1324311"
      ]
     },
     "execution_count": 9,
     "metadata": {},
     "output_type": "execute_result"
    }
   ],
   "source": [
    "len(snapshots_deduped)"
   ]
  },
  {
   "cell_type": "code",
   "execution_count": null,
   "metadata": {
    "collapsed": true
   },
   "outputs": [],
   "source": [
    "category_var = ['Veh Ref ID','Event Type Description','Brake Switch','Clutch Switch','Cruise Status','Dpf Regen Inhibit Sw', \n",
    "                'Dpf Thermal Mngmnt','Eng Coolant Level','Population','DTCID','state']\n",
    "\n",
    "for i in category_var:\n",
    "    selected_snapshots[i] = selected_snapshots[i].astype('category')"
   ]
  },
  {
   "cell_type": "code",
   "execution_count": 28,
   "metadata": {
    "collapsed": false
   },
   "outputs": [],
   "source": [
    "snapshots_df = snapshots_df.drop(['Unnamed: 0'],1)"
   ]
  },
  {
   "cell_type": "code",
   "execution_count": 30,
   "metadata": {
    "collapsed": false
   },
   "outputs": [],
   "source": [
    "repairs_df = repairs_df.drop(['Unnamed: 0'],1)"
   ]
  },
  {
   "cell_type": "code",
   "execution_count": 31,
   "metadata": {
    "collapsed": false
   },
   "outputs": [],
   "source": [
    "snapshots_df.to_csv('/home/cs231n/data/snapshots_cleaned_formatted.csv')\n",
    "repairs_df.to_csv('/home/cs231n/data/repairs_cleaned_formatted.csv')"
   ]
  },
  {
   "cell_type": "code",
   "execution_count": 5,
   "metadata": {
    "collapsed": true
   },
   "outputs": [],
   "source": [
    "snapshots_df.to_csv('/home/cs231n/data/snapshots_cleaned_formatted.csv')"
   ]
  },
  {
   "cell_type": "code",
   "execution_count": null,
   "metadata": {
    "collapsed": true
   },
   "outputs": [],
   "source": []
  },
  {
   "cell_type": "code",
   "execution_count": 7,
   "metadata": {
    "collapsed": true
   },
   "outputs": [],
   "source": [
    "s_veh_key = 'Veh Ref ID'\n",
    "r_veh_key = 'Chassis Reference Number'\n",
    "s_time_key = 'Event DateTime'\n",
    "r_time_key = 'Rpr_Dt'"
   ]
  },
  {
   "cell_type": "code",
   "execution_count": 8,
   "metadata": {
    "collapsed": true
   },
   "outputs": [],
   "source": [
    "def get_slices(k, spacing, num_slices, snapshots):\n",
    "    slices = []\n",
    "    for i in range(k):\n",
    "        start = num_slices - (i+1)*spacing\n",
    "        end = num_slices - i*spacing\n",
    "        \n",
    "        if i == k-1 and num_slices - start > 0: # last iter\n",
    "            start = 0\n",
    "            \n",
    "        if start >=0 and end >=0:\n",
    "            slices.append((i, snapshots[start : end]))\n",
    "        else:\n",
    "            break\n",
    "            \n",
    "    return slices"
   ]
  },
  {
   "cell_type": "code",
   "execution_count": 68,
   "metadata": {
    "collapsed": true
   },
   "outputs": [],
   "source": [
    "def get_repair_slices_map(veh_ids, snapshots, repairs, k=10, spacing=10, code='ATA9'):\n",
    "    repair_slices = {}\n",
    "    for veh_id in veh_ids:\n",
    "        v_snapshots = snapshots[snapshots[s_veh_key] == veh_id].sort_values(by=s_time_key)\n",
    "        v_repairs = repairs[repairs[r_veh_key] == veh_id].sort_values(by=r_time_key)\n",
    "\n",
    "        start_date = pandas.to_datetime('1/1/2000') ## in past so first snapshot is captured\n",
    "\n",
    "        grouped_repairs = v_repairs.groupby([code])\n",
    "        \n",
    "        if len(grouped_repairs) == 0:\n",
    "            continue\n",
    "\n",
    "        ## Best indicator of repair type is the ATA9 code\n",
    "        ## Iterate over each repair type and append slices\n",
    "        for repair_type, repair_group in grouped_repairs:\n",
    "            start = start_date\n",
    "\n",
    "            ## null check\n",
    "            if repair_type not in repair_slices:\n",
    "                repair_slices[repair_type] = {}\n",
    "            veh_slices_repair = repair_slices[repair_type]\n",
    "            \n",
    "            ## for each repair type, grab slices of snapshots\n",
    "            for end in repair_group[r_time_key]:\n",
    "                range_mask = (v_snapshots[s_time_key] >= start) & (v_snapshots[s_time_key] <= end)\n",
    "                num_slices = len(v_snapshots[range_mask])\n",
    "                \n",
    "                for i,slices in get_slices(k, spacing, num_slices, v_snapshots):\n",
    "                    if len(slices) > 0:\n",
    "                        if i not in veh_slices_repair:\n",
    "                            veh_slices_repair[i] = []\n",
    "                        veh_slices_repair[i].append(slices)\n",
    "\n",
    "                ## reset start to end for next iteration\n",
    "                start = end\n",
    "\n",
    "    return repair_slices"
   ]
  },
  {
   "cell_type": "code",
   "execution_count": 121,
   "metadata": {
    "collapsed": true
   },
   "outputs": [],
   "source": [
    "ata6_train_repairs['Chassis Reference Number'] = ata6_train_repairs['Chassis\\r\\nReference\\r\\nNumber']\n",
    "ata6_val_repairs['Chassis Reference Number'] = ata6_val_repairs['Chassis\\r\\nReference\\r\\nNumber']\n",
    "ata6_test_repairs['Chassis Reference Number'] = ata6_test_repairs['Chassis\\r\\nReference\\r\\nNumber']"
   ]
  },
  {
   "cell_type": "code",
   "execution_count": 11,
   "metadata": {
    "collapsed": true
   },
   "outputs": [],
   "source": [
    "ata6_train_repairs = pandas.read_csv('ATA6_train.csv')\n",
    "ata6_val_repairs = pandas.read_csv('ATA6_val.csv')\n",
    "ata6_test_repairs = pandas.read_csv('ATA6_test.csv')"
   ]
  },
  {
   "cell_type": "code",
   "execution_count": 15,
   "metadata": {
    "collapsed": true
   },
   "outputs": [],
   "source": [
    "k = 10\n",
    "spacing = 10\n",
    "code = 'ATA6'"
   ]
  },
  {
   "cell_type": "code",
   "execution_count": 2,
   "metadata": {
    "collapsed": false
   },
   "outputs": [
    {
     "ename": "NameError",
     "evalue": "name 'ata6_val_repairs' is not defined",
     "output_type": "error",
     "traceback": [
      "\u001b[1;31m---------------------------------------------------------------------------\u001b[0m",
      "\u001b[1;31mNameError\u001b[0m                                 Traceback (most recent call last)",
      "\u001b[1;32m<ipython-input-2-8382d1f3d660>\u001b[0m in \u001b[0;36m<module>\u001b[1;34m()\u001b[0m\n\u001b[1;32m----> 1\u001b[1;33m \u001b[0mval_veh_ids\u001b[0m \u001b[1;33m=\u001b[0m \u001b[0mata6_val_repairs\u001b[0m\u001b[1;33m[\u001b[0m\u001b[1;34m'Chassis Reference Number'\u001b[0m\u001b[1;33m]\u001b[0m\u001b[1;33m.\u001b[0m\u001b[0munique\u001b[0m\u001b[1;33m(\u001b[0m\u001b[1;33m)\u001b[0m\u001b[1;33m\u001b[0m\u001b[0m\n\u001b[0m\u001b[0;32m      2\u001b[0m \u001b[0mtrain_veh_ids\u001b[0m \u001b[1;33m=\u001b[0m \u001b[0mata6_train_repairs\u001b[0m\u001b[1;33m[\u001b[0m\u001b[1;34m'Chassis Reference Number'\u001b[0m\u001b[1;33m]\u001b[0m\u001b[1;33m.\u001b[0m\u001b[0munique\u001b[0m\u001b[1;33m(\u001b[0m\u001b[1;33m)\u001b[0m\u001b[1;33m\u001b[0m\u001b[0m\n\u001b[0;32m      3\u001b[0m \u001b[0mtest_veh_ids\u001b[0m \u001b[1;33m=\u001b[0m \u001b[0mata6_test_repairs\u001b[0m\u001b[1;33m[\u001b[0m\u001b[1;34m'Chassis Reference Number'\u001b[0m\u001b[1;33m]\u001b[0m\u001b[1;33m.\u001b[0m\u001b[0munique\u001b[0m\u001b[1;33m(\u001b[0m\u001b[1;33m)\u001b[0m\u001b[1;33m\u001b[0m\u001b[0m\n",
      "\u001b[1;31mNameError\u001b[0m: name 'ata6_val_repairs' is not defined"
     ]
    }
   ],
   "source": [
    "val_veh_ids = ata6_val_repairs['Chassis Reference Number'].unique()\n",
    "train_veh_ids = ata6_train_repairs['Chassis Reference Number'].unique()\n",
    "test_veh_ids = ata6_test_repairs['Chassis Reference Number'].unique()"
   ]
  },
  {
   "cell_type": "code",
   "execution_count": 1,
   "metadata": {
    "collapsed": false
   },
   "outputs": [
    {
     "ename": "NameError",
     "evalue": "name 'val_veh_ids' is not defined",
     "output_type": "error",
     "traceback": [
      "\u001b[1;31m---------------------------------------------------------------------------\u001b[0m",
      "\u001b[1;31mNameError\u001b[0m                                 Traceback (most recent call last)",
      "\u001b[1;32m<ipython-input-1-2754a8e956b6>\u001b[0m in \u001b[0;36m<module>\u001b[1;34m()\u001b[0m\n\u001b[1;32m----> 1\u001b[1;33m \u001b[0mval_veh_ids\u001b[0m\u001b[1;33m\u001b[0m\u001b[0m\n\u001b[0m",
      "\u001b[1;31mNameError\u001b[0m: name 'val_veh_ids' is not defined"
     ]
    }
   ],
   "source": [
    "val_veh_ids"
   ]
  },
  {
   "cell_type": "code",
   "execution_count": 69,
   "metadata": {
    "collapsed": false
   },
   "outputs": [],
   "source": [
    "val_repairs_map = get_repair_slices_map(val_veh_ids, snapshots_df, ata6_val_repairs, k=k, spacing=spacing, code=code)\n",
    "train_repairs_map = get_repair_slices_map(train_veh_ids, snapshots_df, ata6_train_repairs, k=k, spacing=spacing, code=code)\n",
    "test_repairs_map = get_repair_slices_map(test_veh_ids, snapshots_df, ata6_test_repairs, k=k, spacing=spacing, code=code)"
   ]
  },
  {
   "cell_type": "code",
   "execution_count": 73,
   "metadata": {
    "collapsed": false
   },
   "outputs": [
    {
     "data": {
      "text/plain": [
       "283"
      ]
     },
     "execution_count": 73,
     "metadata": {},
     "output_type": "execute_result"
    }
   ],
   "source": []
  },
  {
   "cell_type": "code",
   "execution_count": 81,
   "metadata": {
    "collapsed": false
   },
   "outputs": [],
   "source": [
    "def save_map(repairs_map, filename):\n",
    "    for code in repairs_map.keys():\n",
    "        for window in repairs_map[code].keys():  \n",
    "            for i in range(len(repairs_map[code][window])):\n",
    "                n = \"{}_{}_{}_{}_.pkl\".format(filename, code, window, i)\n",
    "                repairs_map[code][window][i].to_pickle(n)\n",
    "\n",
    "def open_map(filename):\n",
    "    repairs_map = {}\n",
    "    for file in glob.glob(\"{}*\".format(filename)):\n",
    "        keys = file.split(\"_\")\n",
    "        if len(keys) == 5:\n",
    "            code = int(keys[1])\n",
    "            window = int(keys[2])\n",
    "            i = int(keys[3])\n",
    "            n = \"{}_{}_{}_{}_.pkl\".format(filename, code, window, i)            \n",
    "            repairs_map_slice = pandas.read_pickle(n)\n",
    "            if code not in repairs_map:\n",
    "                repairs_map[code] = {}\n",
    "            if window not in repairs_map[code]:\n",
    "                repairs_map[code][window] = []\n",
    "            repairs_map[code][window].append(repairs_map_slice)\n",
    "\n",
    "    return repairs_map"
   ]
  },
  {
   "cell_type": "code",
   "execution_count": 75,
   "metadata": {
    "collapsed": false
   },
   "outputs": [
    {
     "ename": "KeyError",
     "evalue": "0",
     "output_type": "error",
     "traceback": [
      "\u001b[1;31m---------------------------------------------------------------------------\u001b[0m",
      "\u001b[1;31mKeyError\u001b[0m                                  Traceback (most recent call last)",
      "\u001b[1;32m<ipython-input-75-ff347f232c6d>\u001b[0m in \u001b[0;36m<module>\u001b[1;34m()\u001b[0m\n\u001b[1;32m----> 1\u001b[1;33m \u001b[0msave_map\u001b[0m\u001b[1;33m(\u001b[0m\u001b[0mval_repairs_map\u001b[0m\u001b[1;33m,\u001b[0m \u001b[1;34m'val_map.pkl'\u001b[0m\u001b[1;33m)\u001b[0m\u001b[1;33m\u001b[0m\u001b[0m\n\u001b[0m\u001b[0;32m      2\u001b[0m \u001b[0msave_map\u001b[0m\u001b[1;33m(\u001b[0m\u001b[0mtrain_repairs_map\u001b[0m\u001b[1;33m,\u001b[0m \u001b[1;34m'train_map.pkl'\u001b[0m\u001b[1;33m)\u001b[0m\u001b[1;33m\u001b[0m\u001b[0m\n\u001b[0;32m      3\u001b[0m \u001b[0msave_map\u001b[0m\u001b[1;33m(\u001b[0m\u001b[0mtest_repairs_map\u001b[0m\u001b[1;33m,\u001b[0m \u001b[1;34m'test_map.pkl'\u001b[0m\u001b[1;33m)\u001b[0m\u001b[1;33m\u001b[0m\u001b[0m\n",
      "\u001b[1;32m<ipython-input-74-2fbd39ca5897>\u001b[0m in \u001b[0;36msave_map\u001b[1;34m(repairs_map, filename)\u001b[0m\n\u001b[0;32m      2\u001b[0m     \u001b[1;32mfor\u001b[0m \u001b[0mcode\u001b[0m \u001b[1;32min\u001b[0m \u001b[0mrepairs_map\u001b[0m\u001b[1;33m.\u001b[0m\u001b[0mkeys\u001b[0m\u001b[1;33m(\u001b[0m\u001b[1;33m)\u001b[0m\u001b[1;33m:\u001b[0m\u001b[1;33m\u001b[0m\u001b[0m\n\u001b[0;32m      3\u001b[0m         \u001b[1;32mfor\u001b[0m \u001b[0mwindow\u001b[0m \u001b[1;32min\u001b[0m \u001b[0mrepairs_map\u001b[0m\u001b[1;33m[\u001b[0m\u001b[0mcode\u001b[0m\u001b[1;33m]\u001b[0m\u001b[1;33m.\u001b[0m\u001b[0mkeys\u001b[0m\u001b[1;33m(\u001b[0m\u001b[1;33m)\u001b[0m\u001b[1;33m:\u001b[0m\u001b[1;33m\u001b[0m\u001b[0m\n\u001b[1;32m----> 4\u001b[1;33m             \u001b[1;32mfor\u001b[0m \u001b[0mi\u001b[0m \u001b[1;32min\u001b[0m \u001b[0mrange\u001b[0m\u001b[1;33m(\u001b[0m\u001b[0mlen\u001b[0m\u001b[1;33m(\u001b[0m\u001b[0mrepairs_map\u001b[0m\u001b[1;33m[\u001b[0m\u001b[0mwindow\u001b[0m\u001b[1;33m]\u001b[0m\u001b[1;33m)\u001b[0m\u001b[1;33m)\u001b[0m\u001b[1;33m:\u001b[0m\u001b[1;33m\u001b[0m\u001b[0m\n\u001b[0m\u001b[0;32m      5\u001b[0m                 \u001b[0mn\u001b[0m \u001b[1;33m=\u001b[0m \u001b[1;34m\"{}_{}_{}_{}_.pkl\"\u001b[0m\u001b[1;33m.\u001b[0m\u001b[0mformat\u001b[0m\u001b[1;33m(\u001b[0m\u001b[0mfilename\u001b[0m\u001b[1;33m,\u001b[0m \u001b[0mcode\u001b[0m\u001b[1;33m,\u001b[0m \u001b[0mwindow\u001b[0m\u001b[1;33m,\u001b[0m \u001b[0mi\u001b[0m\u001b[1;33m)\u001b[0m\u001b[1;33m\u001b[0m\u001b[0m\n\u001b[0;32m      6\u001b[0m                 \u001b[0mrepairs_map\u001b[0m\u001b[1;33m[\u001b[0m\u001b[0mcode\u001b[0m\u001b[1;33m]\u001b[0m\u001b[1;33m[\u001b[0m\u001b[0mwindow\u001b[0m\u001b[1;33m]\u001b[0m\u001b[1;33m.\u001b[0m\u001b[0mto_pickle\u001b[0m\u001b[1;33m(\u001b[0m\u001b[0mn\u001b[0m\u001b[1;33m)\u001b[0m\u001b[1;33m\u001b[0m\u001b[0m\n",
      "\u001b[1;31mKeyError\u001b[0m: 0"
     ]
    }
   ],
   "source": [
    "save_map(val_repairs_map, 'val')\n",
    "save_map(train_repairs_map, 'train')\n",
    "save_map(test_repairs_map, 'test')"
   ]
  },
  {
   "cell_type": "code",
   "execution_count": 82,
   "metadata": {
    "collapsed": false
   },
   "outputs": [],
   "source": [
    "save_map(val_repairs_map, '/home/cs231n/data/val')"
   ]
  },
  {
   "cell_type": "code",
   "execution_count": 83,
   "metadata": {
    "collapsed": false
   },
   "outputs": [],
   "source": [
    "val_map_revived = open_map('/home/cs231n/data/val')"
   ]
  },
  {
   "cell_type": "code",
   "execution_count": 87,
   "metadata": {
    "collapsed": false
   },
   "outputs": [
    {
     "data": {
      "text/plain": [
       "10"
      ]
     },
     "execution_count": 87,
     "metadata": {},
     "output_type": "execute_result"
    }
   ],
   "source": [
    "len(val_repairs_map[44004][4][0])"
   ]
  },
  {
   "cell_type": "code",
   "execution_count": 88,
   "metadata": {
    "collapsed": false
   },
   "outputs": [
    {
     "data": {
      "text/html": [
       "<div>\n",
       "<style scoped>\n",
       "    .dataframe tbody tr th:only-of-type {\n",
       "        vertical-align: middle;\n",
       "    }\n",
       "\n",
       "    .dataframe tbody tr th {\n",
       "        vertical-align: top;\n",
       "    }\n",
       "\n",
       "    .dataframe thead th {\n",
       "        text-align: right;\n",
       "    }\n",
       "</style>\n",
       "<table border=\"1\" class=\"dataframe\">\n",
       "  <thead>\n",
       "    <tr style=\"text-align: right;\">\n",
       "      <th></th>\n",
       "      <th>Unnamed: 0</th>\n",
       "      <th>Veh Ref ID</th>\n",
       "      <th>Event DateTime</th>\n",
       "      <th>Event Type Description</th>\n",
       "      <th>Acc Pedal Position</th>\n",
       "      <th>Ambient Air Temp</th>\n",
       "      <th>Barometric Press</th>\n",
       "      <th>Brake Switch</th>\n",
       "      <th>Bus Utilization</th>\n",
       "      <th>Cat Intake Gas Temp</th>\n",
       "      <th>...</th>\n",
       "      <th>Altitude</th>\n",
       "      <th>Engine Start Ambient</th>\n",
       "      <th>Engine Start Coolant</th>\n",
       "      <th>Latitude</th>\n",
       "      <th>Longitude</th>\n",
       "      <th>Lifetime Idle Hours</th>\n",
       "      <th>Lifetime Idle Fuel</th>\n",
       "      <th>Lifetime Fuel</th>\n",
       "      <th>Lifetime Distance</th>\n",
       "      <th>Lifetime Engine Hours</th>\n",
       "    </tr>\n",
       "  </thead>\n",
       "  <tbody>\n",
       "    <tr>\n",
       "      <th>525997</th>\n",
       "      <td>630394</td>\n",
       "      <td>59.0</td>\n",
       "      <td>2016-06-19 01:05:04</td>\n",
       "      <td>trip_periodic</td>\n",
       "      <td>96.8</td>\n",
       "      <td>29.00</td>\n",
       "      <td>93.0</td>\n",
       "      <td>0.0</td>\n",
       "      <td>58.0</td>\n",
       "      <td>322.09</td>\n",
       "      <td>...</td>\n",
       "      <td>2538.0</td>\n",
       "      <td>36.66</td>\n",
       "      <td>83.88</td>\n",
       "      <td>40.86</td>\n",
       "      <td>-100.03</td>\n",
       "      <td>210.60</td>\n",
       "      <td>140.15</td>\n",
       "      <td>6754.67</td>\n",
       "      <td>48655.87</td>\n",
       "      <td>1065.15</td>\n",
       "    </tr>\n",
       "    <tr>\n",
       "      <th>525998</th>\n",
       "      <td>630395</td>\n",
       "      <td>59.0</td>\n",
       "      <td>2016-06-19 01:05:04</td>\n",
       "      <td>trip_periodic</td>\n",
       "      <td>96.8</td>\n",
       "      <td>29.00</td>\n",
       "      <td>93.0</td>\n",
       "      <td>0.0</td>\n",
       "      <td>58.0</td>\n",
       "      <td>322.09</td>\n",
       "      <td>...</td>\n",
       "      <td>2538.0</td>\n",
       "      <td>36.66</td>\n",
       "      <td>83.88</td>\n",
       "      <td>40.86</td>\n",
       "      <td>-100.03</td>\n",
       "      <td>210.60</td>\n",
       "      <td>140.15</td>\n",
       "      <td>6754.67</td>\n",
       "      <td>48655.87</td>\n",
       "      <td>1065.15</td>\n",
       "    </tr>\n",
       "    <tr>\n",
       "      <th>526036</th>\n",
       "      <td>630433</td>\n",
       "      <td>59.0</td>\n",
       "      <td>2016-06-19 03:05:04</td>\n",
       "      <td>trip_periodic</td>\n",
       "      <td>0.0</td>\n",
       "      <td>27.18</td>\n",
       "      <td>91.5</td>\n",
       "      <td>0.0</td>\n",
       "      <td>53.0</td>\n",
       "      <td>118.87</td>\n",
       "      <td>...</td>\n",
       "      <td>2971.0</td>\n",
       "      <td>36.66</td>\n",
       "      <td>83.88</td>\n",
       "      <td>41.13</td>\n",
       "      <td>-101.12</td>\n",
       "      <td>211.65</td>\n",
       "      <td>140.81</td>\n",
       "      <td>6763.17</td>\n",
       "      <td>48716.77</td>\n",
       "      <td>1067.15</td>\n",
       "    </tr>\n",
       "    <tr>\n",
       "      <th>526035</th>\n",
       "      <td>630432</td>\n",
       "      <td>59.0</td>\n",
       "      <td>2016-06-19 03:05:04</td>\n",
       "      <td>trip_periodic</td>\n",
       "      <td>0.0</td>\n",
       "      <td>27.18</td>\n",
       "      <td>91.5</td>\n",
       "      <td>0.0</td>\n",
       "      <td>53.0</td>\n",
       "      <td>118.87</td>\n",
       "      <td>...</td>\n",
       "      <td>2971.0</td>\n",
       "      <td>36.66</td>\n",
       "      <td>83.88</td>\n",
       "      <td>41.13</td>\n",
       "      <td>-101.12</td>\n",
       "      <td>211.65</td>\n",
       "      <td>140.81</td>\n",
       "      <td>6763.17</td>\n",
       "      <td>48716.77</td>\n",
       "      <td>1067.15</td>\n",
       "    </tr>\n",
       "    <tr>\n",
       "      <th>526033</th>\n",
       "      <td>630430</td>\n",
       "      <td>59.0</td>\n",
       "      <td>2016-06-19 03:05:24</td>\n",
       "      <td>trip_end</td>\n",
       "      <td>0.0</td>\n",
       "      <td>27.28</td>\n",
       "      <td>91.5</td>\n",
       "      <td>0.0</td>\n",
       "      <td>53.0</td>\n",
       "      <td>118.59</td>\n",
       "      <td>...</td>\n",
       "      <td>2974.0</td>\n",
       "      <td>36.66</td>\n",
       "      <td>83.88</td>\n",
       "      <td>41.13</td>\n",
       "      <td>-101.12</td>\n",
       "      <td>211.65</td>\n",
       "      <td>140.81</td>\n",
       "      <td>6763.17</td>\n",
       "      <td>48716.77</td>\n",
       "      <td>1067.15</td>\n",
       "    </tr>\n",
       "    <tr>\n",
       "      <th>526034</th>\n",
       "      <td>630431</td>\n",
       "      <td>59.0</td>\n",
       "      <td>2016-06-19 03:05:24</td>\n",
       "      <td>trip_end</td>\n",
       "      <td>0.0</td>\n",
       "      <td>27.28</td>\n",
       "      <td>91.5</td>\n",
       "      <td>0.0</td>\n",
       "      <td>53.0</td>\n",
       "      <td>118.59</td>\n",
       "      <td>...</td>\n",
       "      <td>2974.0</td>\n",
       "      <td>36.66</td>\n",
       "      <td>83.88</td>\n",
       "      <td>41.13</td>\n",
       "      <td>-101.12</td>\n",
       "      <td>211.65</td>\n",
       "      <td>140.81</td>\n",
       "      <td>6763.17</td>\n",
       "      <td>48716.77</td>\n",
       "      <td>1067.15</td>\n",
       "    </tr>\n",
       "    <tr>\n",
       "      <th>526041</th>\n",
       "      <td>630438</td>\n",
       "      <td>59.0</td>\n",
       "      <td>2016-06-19 13:02:36</td>\n",
       "      <td>trip_start</td>\n",
       "      <td>0.0</td>\n",
       "      <td>25.78</td>\n",
       "      <td>91.0</td>\n",
       "      <td>0.0</td>\n",
       "      <td>52.0</td>\n",
       "      <td>53.00</td>\n",
       "      <td>...</td>\n",
       "      <td>2981.0</td>\n",
       "      <td>24.99</td>\n",
       "      <td>33.88</td>\n",
       "      <td>41.13</td>\n",
       "      <td>-101.12</td>\n",
       "      <td>211.65</td>\n",
       "      <td>140.81</td>\n",
       "      <td>6763.17</td>\n",
       "      <td>48716.77</td>\n",
       "      <td>1067.15</td>\n",
       "    </tr>\n",
       "    <tr>\n",
       "      <th>526042</th>\n",
       "      <td>630439</td>\n",
       "      <td>59.0</td>\n",
       "      <td>2016-06-19 13:02:36</td>\n",
       "      <td>trip_start</td>\n",
       "      <td>0.0</td>\n",
       "      <td>25.78</td>\n",
       "      <td>91.0</td>\n",
       "      <td>0.0</td>\n",
       "      <td>52.0</td>\n",
       "      <td>53.00</td>\n",
       "      <td>...</td>\n",
       "      <td>2981.0</td>\n",
       "      <td>24.99</td>\n",
       "      <td>33.88</td>\n",
       "      <td>41.13</td>\n",
       "      <td>-101.12</td>\n",
       "      <td>211.65</td>\n",
       "      <td>140.81</td>\n",
       "      <td>6763.17</td>\n",
       "      <td>48716.77</td>\n",
       "      <td>1067.15</td>\n",
       "    </tr>\n",
       "    <tr>\n",
       "      <th>525976</th>\n",
       "      <td>630373</td>\n",
       "      <td>59.0</td>\n",
       "      <td>2016-06-19 16:02:36</td>\n",
       "      <td>trip_periodic</td>\n",
       "      <td>70.4</td>\n",
       "      <td>29.18</td>\n",
       "      <td>84.5</td>\n",
       "      <td>0.0</td>\n",
       "      <td>52.0</td>\n",
       "      <td>337.00</td>\n",
       "      <td>...</td>\n",
       "      <td>5221.0</td>\n",
       "      <td>24.99</td>\n",
       "      <td>33.88</td>\n",
       "      <td>41.14</td>\n",
       "      <td>-104.17</td>\n",
       "      <td>212.10</td>\n",
       "      <td>141.21</td>\n",
       "      <td>6788.42</td>\n",
       "      <td>48880.77</td>\n",
       "      <td>1070.15</td>\n",
       "    </tr>\n",
       "    <tr>\n",
       "      <th>525975</th>\n",
       "      <td>630372</td>\n",
       "      <td>59.0</td>\n",
       "      <td>2016-06-19 16:02:36</td>\n",
       "      <td>trip_periodic</td>\n",
       "      <td>70.4</td>\n",
       "      <td>29.18</td>\n",
       "      <td>84.5</td>\n",
       "      <td>0.0</td>\n",
       "      <td>52.0</td>\n",
       "      <td>337.00</td>\n",
       "      <td>...</td>\n",
       "      <td>5221.0</td>\n",
       "      <td>24.99</td>\n",
       "      <td>33.88</td>\n",
       "      <td>41.14</td>\n",
       "      <td>-104.17</td>\n",
       "      <td>212.10</td>\n",
       "      <td>141.21</td>\n",
       "      <td>6788.42</td>\n",
       "      <td>48880.77</td>\n",
       "      <td>1070.15</td>\n",
       "    </tr>\n",
       "  </tbody>\n",
       "</table>\n",
       "<p>10 rows × 65 columns</p>\n",
       "</div>"
      ],
      "text/plain": [
       "        Unnamed: 0  Veh Ref ID      Event DateTime Event Type Description  \\\n",
       "525997      630394        59.0 2016-06-19 01:05:04          trip_periodic   \n",
       "525998      630395        59.0 2016-06-19 01:05:04          trip_periodic   \n",
       "526036      630433        59.0 2016-06-19 03:05:04          trip_periodic   \n",
       "526035      630432        59.0 2016-06-19 03:05:04          trip_periodic   \n",
       "526033      630430        59.0 2016-06-19 03:05:24               trip_end   \n",
       "526034      630431        59.0 2016-06-19 03:05:24               trip_end   \n",
       "526041      630438        59.0 2016-06-19 13:02:36             trip_start   \n",
       "526042      630439        59.0 2016-06-19 13:02:36             trip_start   \n",
       "525976      630373        59.0 2016-06-19 16:02:36          trip_periodic   \n",
       "525975      630372        59.0 2016-06-19 16:02:36          trip_periodic   \n",
       "\n",
       "        Acc Pedal Position  Ambient Air Temp  Barometric Press  Brake Switch  \\\n",
       "525997                96.8             29.00              93.0           0.0   \n",
       "525998                96.8             29.00              93.0           0.0   \n",
       "526036                 0.0             27.18              91.5           0.0   \n",
       "526035                 0.0             27.18              91.5           0.0   \n",
       "526033                 0.0             27.28              91.5           0.0   \n",
       "526034                 0.0             27.28              91.5           0.0   \n",
       "526041                 0.0             25.78              91.0           0.0   \n",
       "526042                 0.0             25.78              91.0           0.0   \n",
       "525976                70.4             29.18              84.5           0.0   \n",
       "525975                70.4             29.18              84.5           0.0   \n",
       "\n",
       "        Bus Utilization  Cat Intake Gas Temp          ...            Altitude  \\\n",
       "525997             58.0               322.09          ...              2538.0   \n",
       "525998             58.0               322.09          ...              2538.0   \n",
       "526036             53.0               118.87          ...              2971.0   \n",
       "526035             53.0               118.87          ...              2971.0   \n",
       "526033             53.0               118.59          ...              2974.0   \n",
       "526034             53.0               118.59          ...              2974.0   \n",
       "526041             52.0                53.00          ...              2981.0   \n",
       "526042             52.0                53.00          ...              2981.0   \n",
       "525976             52.0               337.00          ...              5221.0   \n",
       "525975             52.0               337.00          ...              5221.0   \n",
       "\n",
       "        Engine Start Ambient  Engine Start Coolant  Latitude  Longitude  \\\n",
       "525997                 36.66                 83.88     40.86    -100.03   \n",
       "525998                 36.66                 83.88     40.86    -100.03   \n",
       "526036                 36.66                 83.88     41.13    -101.12   \n",
       "526035                 36.66                 83.88     41.13    -101.12   \n",
       "526033                 36.66                 83.88     41.13    -101.12   \n",
       "526034                 36.66                 83.88     41.13    -101.12   \n",
       "526041                 24.99                 33.88     41.13    -101.12   \n",
       "526042                 24.99                 33.88     41.13    -101.12   \n",
       "525976                 24.99                 33.88     41.14    -104.17   \n",
       "525975                 24.99                 33.88     41.14    -104.17   \n",
       "\n",
       "        Lifetime Idle Hours  Lifetime Idle Fuel  Lifetime Fuel  \\\n",
       "525997               210.60              140.15        6754.67   \n",
       "525998               210.60              140.15        6754.67   \n",
       "526036               211.65              140.81        6763.17   \n",
       "526035               211.65              140.81        6763.17   \n",
       "526033               211.65              140.81        6763.17   \n",
       "526034               211.65              140.81        6763.17   \n",
       "526041               211.65              140.81        6763.17   \n",
       "526042               211.65              140.81        6763.17   \n",
       "525976               212.10              141.21        6788.42   \n",
       "525975               212.10              141.21        6788.42   \n",
       "\n",
       "        Lifetime Distance  Lifetime Engine Hours  \n",
       "525997           48655.87                1065.15  \n",
       "525998           48655.87                1065.15  \n",
       "526036           48716.77                1067.15  \n",
       "526035           48716.77                1067.15  \n",
       "526033           48716.77                1067.15  \n",
       "526034           48716.77                1067.15  \n",
       "526041           48716.77                1067.15  \n",
       "526042           48716.77                1067.15  \n",
       "525976           48880.77                1070.15  \n",
       "525975           48880.77                1070.15  \n",
       "\n",
       "[10 rows x 65 columns]"
      ]
     },
     "execution_count": 88,
     "metadata": {},
     "output_type": "execute_result"
    }
   ],
   "source": [
    "val_map_revived[44003][4][0]"
   ]
  },
  {
   "cell_type": "code",
   "execution_count": null,
   "metadata": {
    "collapsed": true
   },
   "outputs": [],
   "source": []
  }
 ],
 "metadata": {
  "kernelspec": {
   "display_name": "Python 3",
   "language": "python",
   "name": "python3"
  },
  "language_info": {
   "codemirror_mode": {
    "name": "ipython",
    "version": 3
   },
   "file_extension": ".py",
   "mimetype": "text/x-python",
   "name": "python",
   "nbconvert_exporter": "python",
   "pygments_lexer": "ipython3",
   "version": "3.5.2"
  }
 },
 "nbformat": 4,
 "nbformat_minor": 0
}
