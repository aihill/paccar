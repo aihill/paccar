{
 "cells": [
  {
   "cell_type": "code",
   "execution_count": 1,
   "metadata": {
    "collapsed": false
   },
   "outputs": [],
   "source": [
    "import pandas\n",
    "from create_train_test_val_maps import *\n",
    "\n",
    "%load_ext autoreload\n",
    "%autoreload 2"
   ]
  },
  {
   "cell_type": "code",
   "execution_count": 2,
   "metadata": {
    "collapsed": true
   },
   "outputs": [],
   "source": [
    "s_to_date = lambda x: pandas.to_datetime(x, format='%m/%d/%Y %H:%M:%S')\n",
    "snapshots = pandas.read_csv('/home/cs231n/data/selected_snapshots_full_deduped_backfilled_whitened.csv', converters={'Event DateTime':s_to_date})"
   ]
  },
  {
   "cell_type": "code",
   "execution_count": 9,
   "metadata": {
    "collapsed": true
   },
   "outputs": [],
   "source": [
    "selected_snapshots_full = snapshots[['Veh Ref ID',\n",
    " 'Event DateTime',\n",
    " 'Event Type Description',\n",
    " 'Acc Pedal Position',\n",
    " 'Ambient Air Temp',\n",
    " 'Barometric Press',\n",
    " 'Brake Switch',\n",
    " 'Bus Utilization',\n",
    " 'Cat Intake Gas Temp',\n",
    " 'Cat Outlet Gas Temp',\n",
    " 'Clutch Switch',\n",
    " 'Cmd Eng Fuel Press',\n",
    " 'Cruise Status',\n",
    " 'Dpf Regen Inhibit Sw',\n",
    " 'Dpf Thermal Mngmnt',\n",
    " 'Drvr Demand Torque',\n",
    " 'Eng Air Flow Rate',\n",
    " 'Eng Avg Fuel Econ',\n",
    " 'Eng Coolant Level',\n",
    " 'Eng Coolant Temp',\n",
    " 'Eng Demand Torque',\n",
    " 'Eng DPF Intake Press',\n",
    " 'Eng Egr Valve Pos',\n",
    " 'Eng Exhaust Gas Temp',\n",
    " 'Eng Fuel Del Press',\n",
    " 'EngFuelTemp1',\n",
    " 'Engine Speed',\n",
    " 'Eng Man Abs Pressure',\n",
    " 'Eng Oil Pressure',\n",
    " 'EngInjRail1Press',\n",
    " 'EngIntakeMan1Temp',\n",
    " 'EngOilTemp1',\n",
    " 'Eng Percent Torque',\n",
    " 'EngTurbo1Boost',\n",
    " 'EngTurbo1Pos',\n",
    " 'EngTurbo1Speed',\n",
    " 'Event - All Lamps On Time Hr',\n",
    " 'Event - Amber Lamp Time Hr',\n",
    " 'Event - Mil Lamp Time Hr',\n",
    " 'Event - Red Lamp Time Hr',\n",
    " 'Exhaust Tank Level',\n",
    " 'Exhaust Tank Temp',\n",
    " 'Fan Speed',\n",
    " 'Keyswitch Bat Pot',\n",
    " 'Part Trap Diff Press',\n",
    " 'Part Trap Out Temp',\n",
    " 'Scr Intake Gas Temp',\n",
    " 'Scr Outlet Gas Temp',\n",
    " 'Vehicle Speed',\n",
    " 'DTCID',\n",
    " 'Trip Distance',\n",
    " 'Trip Idle Time',\n",
    " 'Trip Run Time',\n",
    " 'Altitude',\n",
    " 'Engine Start Ambient',\n",
    " 'Engine Start Coolant',\n",
    " 'Latitude',\n",
    " 'Longitude',\n",
    " 'Lifetime Idle Hours',\n",
    " 'Lifetime Idle Fuel',\n",
    " 'Lifetime Fuel',\n",
    " 'Lifetime Distance',\n",
    " 'Lifetime Engine Hours']]"
   ]
  },
  {
   "cell_type": "code",
   "execution_count": 10,
   "metadata": {
    "collapsed": true
   },
   "outputs": [],
   "source": [
    "snapshots_deduped = pandas.read_csv('/home/cs231n/data/selected_snapshots_full_deduped_backfilled.csv')"
   ]
  },
  {
   "cell_type": "code",
   "execution_count": 26,
   "metadata": {
    "collapsed": false
   },
   "outputs": [],
   "source": [
    "selected_snapshots_full = selected_snapshots_full.fillna(method='bfill')"
   ]
  },
  {
   "cell_type": "code",
   "execution_count": 28,
   "metadata": {
    "collapsed": false
   },
   "outputs": [
    {
     "data": {
      "text/plain": [
       "False"
      ]
     },
     "execution_count": 28,
     "metadata": {},
     "output_type": "execute_result"
    }
   ],
   "source": [
    "selected_snapshots_full.isnull().values.any()"
   ]
  },
  {
   "cell_type": "code",
   "execution_count": 15,
   "metadata": {
    "collapsed": false
   },
   "outputs": [],
   "source": [
    "ata6_train_repairs = pandas.read_csv('ATA6_train.csv')\n",
    "ata6_val_repairs = pandas.read_csv('ATA6_val.csv')\n",
    "ata6_test_repairs = pandas.read_csv('ATA6_test.csv')"
   ]
  },
  {
   "cell_type": "code",
   "execution_count": 16,
   "metadata": {
    "collapsed": true
   },
   "outputs": [],
   "source": [
    "num_windows = 10\n",
    "window_size = 10\n",
    "code = 'ATA6'"
   ]
  },
  {
   "cell_type": "code",
   "execution_count": 17,
   "metadata": {
    "collapsed": true
   },
   "outputs": [],
   "source": [
    "val_veh_ids = ata6_val_repairs['Chassis Reference Number'].unique()\n",
    "train_veh_ids = ata6_train_repairs['Chassis Reference Number'].unique()\n",
    "test_veh_ids = ata6_test_repairs['Chassis Reference Number'].unique()"
   ]
  },
  {
   "cell_type": "code",
   "execution_count": 27,
   "metadata": {
    "collapsed": false
   },
   "outputs": [],
   "source": [
    "val_repairs_map = get_repair_slices_map(val_veh_ids, selected_snapshots_full, ata6_val_repairs, num_windows=num_windows, window_size=window_size, code=code, ignore_past=True)\n",
    "train_repairs_map = get_repair_slices_map(train_veh_ids, selected_snapshots_full, ata6_train_repairs, num_windows=num_windows, window_size=window_size, code=code, ignore_past=True)\n",
    "test_repairs_map = get_repair_slices_map(test_veh_ids, selected_snapshots_full, ata6_test_repairs, num_windows=num_windows, window_size=window_size, code=code, ignore_past=True)"
   ]
  },
  {
   "cell_type": "code",
   "execution_count": 29,
   "metadata": {
    "collapsed": true
   },
   "outputs": [],
   "source": [
    "save_map(val_repairs_map, '/home/cs231n/data/val')\n",
    "save_map(train_repairs_map, '/home/cs231n/data/train')\n",
    "save_map(test_repairs_map, '/home/cs231n/data/test')"
   ]
  },
  {
   "cell_type": "code",
   "execution_count": 21,
   "metadata": {
    "collapsed": false
   },
   "outputs": [],
   "source": [
    "val_map_revived = open_map('/home/cs231n/data/val')\n",
    "train_map_revived = open_map('/home/cs231n/data/train')\n",
    "test_map_revived = open_map('/home/cs231n/data/test')"
   ]
  },
  {
   "cell_type": "code",
   "execution_count": null,
   "metadata": {
    "collapsed": true
   },
   "outputs": [],
   "source": []
  }
 ],
 "metadata": {
  "kernelspec": {
   "display_name": "Python 2",
   "language": "python",
   "name": "python2"
  },
  "language_info": {
   "codemirror_mode": {
    "name": "ipython",
    "version": 2
   },
   "file_extension": ".py",
   "mimetype": "text/x-python",
   "name": "python",
   "nbconvert_exporter": "python",
   "pygments_lexer": "ipython2",
   "version": "2.7.12"
  }
 },
 "nbformat": 4,
 "nbformat_minor": 0
}
