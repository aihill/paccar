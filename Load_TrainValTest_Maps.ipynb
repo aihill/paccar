{
 "cells": [
  {
   "cell_type": "code",
   "execution_count": 46,
   "metadata": {
    "collapsed": false
   },
   "outputs": [
    {
     "name": "stdout",
     "output_type": "stream",
     "text": [
      "The autoreload extension is already loaded. To reload it, use:\n",
      "  %reload_ext autoreload\n"
     ]
    }
   ],
   "source": [
    "import pandas\n",
    "from create_train_test_val_maps import *\n",
    "\n",
    "%load_ext autoreload\n",
    "%autoreload 2"
   ]
  },
  {
   "cell_type": "code",
   "execution_count": 18,
   "metadata": {
    "collapsed": true
   },
   "outputs": [],
   "source": [
    "s_to_date = lambda x: pandas.to_datetime(x, format='%m/%d/%Y %H:%M:%S')\n",
    "snapshots = pandas.read_csv('/home/cs231n/data/snapshots_full_cleaned.csv', converters={'Event DateTime':s_to_date})"
   ]
  },
  {
   "cell_type": "code",
   "execution_count": 19,
   "metadata": {
    "collapsed": false
   },
   "outputs": [],
   "source": [
    "ata6_train_repairs = pandas.read_csv('ATA6_train.csv')\n",
    "ata6_val_repairs = pandas.read_csv('ATA6_val.csv')\n",
    "ata6_test_repairs = pandas.read_csv('ATA6_test.csv')"
   ]
  },
  {
   "cell_type": "code",
   "execution_count": 20,
   "metadata": {
    "collapsed": true
   },
   "outputs": [],
   "source": [
    "k = 10\n",
    "spacing = 10\n",
    "code = 'ATA6'"
   ]
  },
  {
   "cell_type": "code",
   "execution_count": 21,
   "metadata": {
    "collapsed": true
   },
   "outputs": [],
   "source": [
    "val_veh_ids = ata6_val_repairs['Chassis Reference Number'].unique()\n",
    "train_veh_ids = ata6_train_repairs['Chassis Reference Number'].unique()\n",
    "test_veh_ids = ata6_test_repairs['Chassis Reference Number'].unique()"
   ]
  },
  {
   "cell_type": "code",
   "execution_count": 49,
   "metadata": {
    "collapsed": false
   },
   "outputs": [],
   "source": [
    "val_repairs_map = get_repair_slices_map(val_veh_ids, snapshots, ata6_val_repairs, k=k, spacing=spacing, code=code)\n",
    "train_repairs_map = get_repair_slices_map(train_veh_ids, snapshots, ata6_train_repairs, k=k, spacing=spacing, code=code)\n",
    "test_repairs_map = get_repair_slices_map(test_veh_ids, snapshots, ata6_test_repairs, k=k, spacing=spacing, code=code)"
   ]
  },
  {
   "cell_type": "code",
   "execution_count": 25,
   "metadata": {
    "collapsed": true
   },
   "outputs": [],
   "source": [
    "save_map(val_repairs_map, '/home/cs231n/data/val')\n",
    "save_map(train_repairs_map, '/home/cs231n/data/train')\n",
    "save_map(test_repairs_map, '/home/cs231n/data/test')"
   ]
  },
  {
   "cell_type": "code",
   "execution_count": 34,
   "metadata": {
    "collapsed": false
   },
   "outputs": [],
   "source": [
    "val_map_revived = open_map('/home/cs231n/data/val')\n",
    "train_map_revived = open_map('/home/cs231n/data/train')\n",
    "test_map_revived = open_map('/home/cs231n/data/test')"
   ]
  },
  {
   "cell_type": "code",
   "execution_count": null,
   "metadata": {
    "collapsed": true
   },
   "outputs": [],
   "source": []
  }
 ],
 "metadata": {
  "kernelspec": {
   "display_name": "Python 3",
   "language": "python",
   "name": "python3"
  },
  "language_info": {
   "codemirror_mode": {
    "name": "ipython",
    "version": 3
   },
   "file_extension": ".py",
   "mimetype": "text/x-python",
   "name": "python",
   "nbconvert_exporter": "python",
   "pygments_lexer": "ipython3",
   "version": "3.5.2"
  }
 },
 "nbformat": 4,
 "nbformat_minor": 0
}
