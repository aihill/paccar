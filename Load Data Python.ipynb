{
 "cells": [
  {
   "cell_type": "code",
   "execution_count": 1,
   "metadata": {
    "collapsed": false
   },
   "outputs": [],
   "source": [
    "from __future__ import print_function, division\n",
    "import time, os\n",
    "import numpy as np\n",
    "import matplotlib.pyplot as plt\n",
    "import sys\n",
    "import networkx as nx\n",
    "import pandas\n",
    "from math import lgamma\n",
    "\n",
    "%matplotlib inline\n",
    "plt.rcParams['figure.figsize'] = (10.0, 8.0) # set default size of plots\n",
    "plt.rcParams['image.interpolation'] = 'nearest'\n",
    "plt.rcParams['image.cmap'] = 'gray'\n",
    "\n",
    "# for auto-reloading external modules\n",
    "# see http://stackoverflow.com/questions/1907993/autoreload-of-modules-in-ipython\n",
    "%load_ext autoreload\n",
    "%autoreload 2"
   ]
  },
  {
   "cell_type": "code",
   "execution_count": 2,
   "metadata": {
    "collapsed": false
   },
   "outputs": [],
   "source": [
    "repairs = pandas.read_csv('/home/cs231n/data/repairs.csv')"
   ]
  },
  {
   "cell_type": "code",
   "execution_count": 7,
   "metadata": {
    "collapsed": false
   },
   "outputs": [
    {
     "data": {
      "text/plain": [
       "Index(['Dealer Cd', 'Chassis Division', 'Chassis\\nReference\\nNumber',\n",
       "       'Plant Name', 'Model Vehicle', 'Build_Dt', 'Dlvry_Dt',\n",
       "       'In Service Date', 'Miles', 'Rpr_Dt', 'ATA3', 'ATA3Desc', 'ATA6',\n",
       "       'ATA6Desc', 'ATA9', 'ATA9Desc', 'Fail Type', 'Repair Cost', 'Dlr Story',\n",
       "       'Chassis Build Month', 'Engine Build Month', 'Engine Manufacture Date',\n",
       "       'Engine Displacement Liter Quantity', 'Engine Horsepower Number'],\n",
       "      dtype='object')"
      ]
     },
     "execution_count": 7,
     "metadata": {},
     "output_type": "execute_result"
    }
   ],
   "source": [
    "ex_repairs.columns"
   ]
  },
  {
   "cell_type": "code",
   "execution_count": 3,
   "metadata": {
    "collapsed": false
   },
   "outputs": [],
   "source": [
    "ex_w = pandas.read_csv('/home/cs231n/data/Field_Snaps_With_warranty.txt')"
   ]
  },
  {
   "cell_type": "code",
   "execution_count": 23,
   "metadata": {
    "collapsed": false
   },
   "outputs": [
    {
     "name": "stdout",
     "output_type": "stream",
     "text": [
      "1.0 853.0\n"
     ]
    }
   ],
   "source": [
    "print(min(ex_repairs['Chassis\\nReference\\nNumber'].unique()), max(ex_repairs['Chassis\\nReference\\nNumber'].unique()))"
   ]
  },
  {
   "cell_type": "code",
   "execution_count": 21,
   "metadata": {
    "collapsed": false
   },
   "outputs": [
    {
     "name": "stdout",
     "output_type": "stream",
     "text": [
      "814.0 1300.0\n"
     ]
    }
   ],
   "source": [
    "print(min(ex_nw['Veh Ref ID'].unique()), max(ex_nw['Veh Ref ID'].unique()))"
   ]
  },
  {
   "cell_type": "code",
   "execution_count": 22,
   "metadata": {
    "collapsed": false
   },
   "outputs": [
    {
     "name": "stdout",
     "output_type": "stream",
     "text": [
      "1.0 813.0\n"
     ]
    }
   ],
   "source": [
    "print(min(ex_w['Veh Ref ID'].unique()), max(ex_w['Veh Ref ID'].unique()))"
   ]
  },
  {
   "cell_type": "code",
   "execution_count": 4,
   "metadata": {
    "collapsed": false
   },
   "outputs": [],
   "source": [
    "selected_repairs = repairs[[\n",
    " 'Chassis\\nReference\\nNumber',\n",
    " 'Model Vehicle',\n",
    " 'Build_Dt',\n",
    " 'Dlvry_Dt',\n",
    " 'In Service Date',\n",
    " 'Miles',\n",
    " 'Rpr_Dt',\n",
    " 'ATA3',\n",
    " 'ATA3Desc',\n",
    " 'ATA6',\n",
    " 'ATA6Desc',\n",
    " 'ATA9',\n",
    " 'ATA9Desc',\n",
    " 'Fail Type',\n",
    " 'Repair Cost']]\n",
    "selected_repairs = selected_repairs[selected_repairs['Chassis\\nReference\\nNumber'].notnull()]"
   ]
  },
  {
   "cell_type": "code",
   "execution_count": 6,
   "metadata": {
    "collapsed": false
   },
   "outputs": [
    {
     "data": {
      "text/plain": [
       "array([628.0, 'T680   ', '6/24/2016', '7/27/2016', '7/27/2016', 406,\n",
       "       '7/26/2016', 45, 'POWER PLANT (045)', 45021,\n",
       "       'ELECTRONIC ENGINE CONTROL', 45021003,\n",
       "       'ELECTRONIC CONTROL MODULE (ECU)', 'REFLASH ECU/ICU', 'very low'], dtype=object)"
      ]
     },
     "execution_count": 6,
     "metadata": {},
     "output_type": "execute_result"
    }
   ],
   "source": [
    "selected_repairs.iloc[850].values"
   ]
  },
  {
   "cell_type": "code",
   "execution_count": 7,
   "metadata": {
    "collapsed": false
   },
   "outputs": [
    {
     "data": {
      "text/plain": [
       "1581892"
      ]
     },
     "execution_count": 7,
     "metadata": {},
     "output_type": "execute_result"
    }
   ],
   "source": [
    "len(ex_w)"
   ]
  },
  {
   "cell_type": "code",
   "execution_count": 13,
   "metadata": {
    "collapsed": false
   },
   "outputs": [],
   "source": [
    "selected_w = ex_w[['Veh Ref ID',\n",
    " 'Event DateTime',\n",
    " 'Event Type Description',\n",
    " 'Acc Pedal Position',\n",
    " 'Ambient Air Temp',\n",
    " 'Barometric Press',\n",
    " 'Brake Switch',\n",
    " 'Bus Utilization',\n",
    " 'Cat Intake Gas Temp',\n",
    " 'Cat Outlet Gas Temp',\n",
    " 'Clutch Switch',\n",
    " 'Cmd Eng Fuel Press',\n",
    " 'Cruise Status',\n",
    " 'Dpf Regen Inhibit Sw',\n",
    " 'Dpf Thermal Mngmnt',\n",
    " 'Drvr Demand Torque',\n",
    " 'Eng Air Flow Rate',\n",
    " 'Eng Avg Fuel Econ',\n",
    " 'Eng Coolant Level',\n",
    " 'Eng Coolant Temp',\n",
    " 'Eng Demand Torque',\n",
    " 'Eng DPF Intake Press',\n",
    " 'Eng Egr Valve Pos',\n",
    " 'Eng Exhaust Gas Temp',\n",
    " 'Eng Fuel Del Press',\n",
    " 'EngFuelTemp1',\n",
    " 'Engine Speed',\n",
    " 'Eng Man Abs Pressure',\n",
    " 'Eng Oil Pressure',\n",
    " 'EngInjRail1Press',\n",
    " 'EngIntakeMan1Temp',\n",
    " 'EngOilTemp1',\n",
    " 'Eng Percent Torque',\n",
    " 'EngTurbo1Boost',\n",
    " 'EngTurbo1Pos',\n",
    " 'EngTurbo1Speed',\n",
    " 'Event - All Lamps On Time Hr',\n",
    " 'Event - Amber Lamp Time Hr',\n",
    " 'Event - Mil Lamp Time Hr',\n",
    " 'Event - Red Lamp Time Hr',\n",
    " 'Exhaust Tank Level',\n",
    " 'Exhaust Tank Temp',\n",
    " 'Fan Speed',\n",
    " 'Keyswitch Bat Pot',\n",
    " 'Part Trap Diff Press',\n",
    " 'Part Trap Out Temp',\n",
    " 'Scr Intake Gas Temp',\n",
    " 'Scr Outlet Gas Temp',\n",
    " 'Vehicle Speed',\n",
    " 'Population',\n",
    " 'DTCID',\n",
    " 'Trip Distance',\n",
    " 'Trip Idle Time',\n",
    " 'Trip Run Time',\n",
    " 'Altitude',\n",
    " 'Engine Start Ambient',\n",
    " 'Engine Start Coolant',\n",
    " 'Ignition Cycle Counter',\n",
    " 'Latitude',\n",
    " 'Longitude',\n",
    " 'Lifetime Idle Hours',\n",
    " 'Lifetime Idle Fuel',\n",
    " 'Lifetime Fuel',\n",
    " 'Lifetime Distance',\n",
    " 'Lifetime Engine Hours']]"
   ]
  },
  {
   "cell_type": "code",
   "execution_count": 14,
   "metadata": {
    "collapsed": false
   },
   "outputs": [],
   "source": [
    "ex_w_indexed = selected_w[:100000].set_index('Veh Ref ID')"
   ]
  },
  {
   "cell_type": "code",
   "execution_count": 15,
   "metadata": {
    "collapsed": true
   },
   "outputs": [],
   "source": [
    "repairs_indexed = selected_repairs.set_index('Chassis\\nReference\\nNumber')"
   ]
  },
  {
   "cell_type": "code",
   "execution_count": 16,
   "metadata": {
    "collapsed": true
   },
   "outputs": [],
   "source": [
    "joined_repairs_snapshots = ex_w_indexed.join(repairs_indexed)"
   ]
  },
  {
   "cell_type": "code",
   "execution_count": 188,
   "metadata": {
    "collapsed": true
   },
   "outputs": [],
   "source": [
    "high_repairs = selected_repairs[selected_repairs['Repair Cost'].isin(['high', 'very high'])]"
   ]
  },
  {
   "cell_type": "code",
   "execution_count": 189,
   "metadata": {
    "collapsed": false
   },
   "outputs": [],
   "source": [
    "veh_ids = high_repairs['Chassis\\nReference\\nNumber'].unique()"
   ]
  },
  {
   "cell_type": "code",
   "execution_count": 190,
   "metadata": {
    "collapsed": false
   },
   "outputs": [
    {
     "data": {
      "text/plain": [
       "array([ 616.,   27.,   25.,  724.,  555.,  249.,  495.,  180.,  751.,\n",
       "        801.,  373.,  340.,   40.])"
      ]
     },
     "execution_count": 190,
     "metadata": {},
     "output_type": "execute_result"
    }
   ],
   "source": [
    "veh_ids"
   ]
  },
  {
   "cell_type": "code",
   "execution_count": 89,
   "metadata": {
    "collapsed": false
   },
   "outputs": [],
   "source": [
    "veh_snapshots = selected_w[selected_w['Veh Ref ID'] == 797].sort_values(by='Event DateTime')"
   ]
  },
  {
   "cell_type": "code",
   "execution_count": 52,
   "metadata": {
    "collapsed": false
   },
   "outputs": [],
   "source": [
    "v0 = veh_snapshots.iloc[0]"
   ]
  },
  {
   "cell_type": "code",
   "execution_count": 90,
   "metadata": {
    "collapsed": true
   },
   "outputs": [],
   "source": [
    "veh_repairs = selected_repairs[selected_repairs['Chassis\\nReference\\nNumber'] == 797]"
   ]
  },
  {
   "cell_type": "code",
   "execution_count": 91,
   "metadata": {
    "collapsed": false
   },
   "outputs": [
    {
     "data": {
      "text/html": [
       "<div>\n",
       "<style scoped>\n",
       "    .dataframe tbody tr th:only-of-type {\n",
       "        vertical-align: middle;\n",
       "    }\n",
       "\n",
       "    .dataframe tbody tr th {\n",
       "        vertical-align: top;\n",
       "    }\n",
       "\n",
       "    .dataframe thead th {\n",
       "        text-align: right;\n",
       "    }\n",
       "</style>\n",
       "<table border=\"1\" class=\"dataframe\">\n",
       "  <thead>\n",
       "    <tr style=\"text-align: right;\">\n",
       "      <th></th>\n",
       "      <th>Chassis\n",
       "Reference\n",
       "Number</th>\n",
       "      <th>Model Vehicle</th>\n",
       "      <th>Build_Dt</th>\n",
       "      <th>Dlvry_Dt</th>\n",
       "      <th>In Service Date</th>\n",
       "      <th>Miles</th>\n",
       "      <th>Rpr_Dt</th>\n",
       "      <th>ATA3</th>\n",
       "      <th>ATA3Desc</th>\n",
       "      <th>ATA6</th>\n",
       "      <th>ATA6Desc</th>\n",
       "      <th>ATA9</th>\n",
       "      <th>ATA9Desc</th>\n",
       "      <th>Fail Type</th>\n",
       "      <th>Repair Cost</th>\n",
       "    </tr>\n",
       "  </thead>\n",
       "  <tbody>\n",
       "    <tr>\n",
       "      <th>612</th>\n",
       "      <td>797.0</td>\n",
       "      <td>T680</td>\n",
       "      <td>1/19/2016</td>\n",
       "      <td>2/9/2016</td>\n",
       "      <td>2/9/2016</td>\n",
       "      <td>38236</td>\n",
       "      <td>6/23/2016</td>\n",
       "      <td>45</td>\n",
       "      <td>POWER PLANT (045)</td>\n",
       "      <td>45021</td>\n",
       "      <td>ELECTRONIC ENGINE CONTROL</td>\n",
       "      <td>45021003</td>\n",
       "      <td>ELECTRONIC CONTROL MODULE (ECU)</td>\n",
       "      <td>CALIBRATE WRONG</td>\n",
       "      <td>very low</td>\n",
       "    </tr>\n",
       "    <tr>\n",
       "      <th>652</th>\n",
       "      <td>797.0</td>\n",
       "      <td>W900B</td>\n",
       "      <td>3/16/2016</td>\n",
       "      <td>5/4/2016</td>\n",
       "      <td>5/4/2016</td>\n",
       "      <td>4735</td>\n",
       "      <td>6/13/2016</td>\n",
       "      <td>101</td>\n",
       "      <td>MX DIAG FAULT CODES (101)</td>\n",
       "      <td>101001</td>\n",
       "      <td>MX DIAG FAULT CODES (001)</td>\n",
       "      <td>101001001</td>\n",
       "      <td>PACCAR MX DIAGNOSTIC CODES</td>\n",
       "      <td>REFLASH ECU/ICU</td>\n",
       "      <td>very low</td>\n",
       "    </tr>\n",
       "    <tr>\n",
       "      <th>836</th>\n",
       "      <td>797.0</td>\n",
       "      <td>567</td>\n",
       "      <td>5/11/2016</td>\n",
       "      <td>6/22/2016</td>\n",
       "      <td>6/22/2016</td>\n",
       "      <td>529</td>\n",
       "      <td>5/27/2016</td>\n",
       "      <td>44</td>\n",
       "      <td>FUEL SYSTEM (044)</td>\n",
       "      <td>44004</td>\n",
       "      <td>INJECTORS (004)</td>\n",
       "      <td>44004001</td>\n",
       "      <td>INJECTOR ASSEMBLY</td>\n",
       "      <td>WEAK</td>\n",
       "      <td>medium</td>\n",
       "    </tr>\n",
       "    <tr>\n",
       "      <th>837</th>\n",
       "      <td>797.0</td>\n",
       "      <td>T680</td>\n",
       "      <td>2/5/2016</td>\n",
       "      <td>4/11/2016</td>\n",
       "      <td>4/11/2016</td>\n",
       "      <td>38030</td>\n",
       "      <td>7/18/2016</td>\n",
       "      <td>43</td>\n",
       "      <td>EXHAUST SYSTEM (043)</td>\n",
       "      <td>43006</td>\n",
       "      <td>EMISSIONS (006)</td>\n",
       "      <td>43006007</td>\n",
       "      <td>SENSOR - DIFFERENTIAL PRESSURE, PARTICULATE TR...</td>\n",
       "      <td>CHECK CONDITION</td>\n",
       "      <td>very low</td>\n",
       "    </tr>\n",
       "  </tbody>\n",
       "</table>\n",
       "</div>"
      ],
      "text/plain": [
       "     Chassis\\nReference\\nNumber Model Vehicle   Build_Dt   Dlvry_Dt  \\\n",
       "612                       797.0       T680     1/19/2016   2/9/2016   \n",
       "652                       797.0       W900B    3/16/2016   5/4/2016   \n",
       "836                       797.0       567      5/11/2016  6/22/2016   \n",
       "837                       797.0       T680      2/5/2016  4/11/2016   \n",
       "\n",
       "    In Service Date  Miles     Rpr_Dt  ATA3                   ATA3Desc  \\\n",
       "612        2/9/2016  38236  6/23/2016    45          POWER PLANT (045)   \n",
       "652        5/4/2016   4735  6/13/2016   101  MX DIAG FAULT CODES (101)   \n",
       "836       6/22/2016    529  5/27/2016    44          FUEL SYSTEM (044)   \n",
       "837       4/11/2016  38030  7/18/2016    43       EXHAUST SYSTEM (043)   \n",
       "\n",
       "       ATA6                   ATA6Desc       ATA9  \\\n",
       "612   45021  ELECTRONIC ENGINE CONTROL   45021003   \n",
       "652  101001  MX DIAG FAULT CODES (001)  101001001   \n",
       "836   44004            INJECTORS (004)   44004001   \n",
       "837   43006            EMISSIONS (006)   43006007   \n",
       "\n",
       "                                              ATA9Desc        Fail Type  \\\n",
       "612                    ELECTRONIC CONTROL MODULE (ECU)  CALIBRATE WRONG   \n",
       "652                         PACCAR MX DIAGNOSTIC CODES  REFLASH ECU/ICU   \n",
       "836                                  INJECTOR ASSEMBLY             WEAK   \n",
       "837  SENSOR - DIFFERENTIAL PRESSURE, PARTICULATE TR...  CHECK CONDITION   \n",
       "\n",
       "    Repair Cost  \n",
       "612    very low  \n",
       "652    very low  \n",
       "836      medium  \n",
       "837    very low  "
      ]
     },
     "execution_count": 91,
     "metadata": {},
     "output_type": "execute_result"
    }
   ],
   "source": [
    "veh_repairs"
   ]
  },
  {
   "cell_type": "code",
   "execution_count": 181,
   "metadata": {
    "collapsed": true
   },
   "outputs": [],
   "source": [
    "def get_repair_slices(veh_ids, snapshots, repairs):\n",
    "    repair_slices = {}\n",
    "    for veh_id in veh_ids:\n",
    "        v_snapshots = snapshots[snapshots['Veh Ref ID'] == veh_id].sort_values(by='Event DateTime')\n",
    "        v_repairs = repairs[repairs['Chassis\\nReference\\nNumber'] == veh_id].sort_values(by='Rpr_Dt')\n",
    "\n",
    "        start_date = '1/1/2000' ## in past so first snapshot is captured\n",
    "        end_date = '1/1/2020' ## in future so last snapshot is captured\n",
    "\n",
    "        repair_slices[veh_id] = {}\n",
    "        veh_slices = repair_slices[veh_id]\n",
    "\n",
    "        ## Best indicator of repair type is the ATA9 code\n",
    "        ## Iterate over each repair type and append slices\n",
    "        for repair_type, repair_group in veh_repairs.groupby(['ATA9']):\n",
    "            i = 0\n",
    "            start = start_date\n",
    "            end = -1\n",
    "\n",
    "            ## dates of all of the repairs in that group\n",
    "            repair_dates = repair_group.sort_values(by='Rpr_Dt')['Rpr_Dt']\n",
    "            r_size = len(repair_dates)\n",
    "\n",
    "            veh_slices_repair = []\n",
    "            for repair in repair_group.itertuples():\n",
    "                end = repair[7] ##['Rpr_Dt']\n",
    "\n",
    "                ## grab a slice of snapshots from end of last repair to start of current repair\n",
    "                mask = (veh_snapshots['Event DateTime'] >= start) & (veh_snapshots['Event DateTime'] < end)\n",
    "                snapshot_slice = v_snapshots.loc[mask]\n",
    "\n",
    "                if len(snapshot_slice) > 0:\n",
    "                    veh_slices_repair.append(snapshot_slice)\n",
    "\n",
    "                ## reset start to end for next iteration\n",
    "                start = end\n",
    "                i+=1\n",
    "            \n",
    "            if len(veh_slices_repair) > 0:\n",
    "                veh_slices[repair_type] = veh_slices_repair\n",
    "\n",
    "    return repair_slices"
   ]
  },
  {
   "cell_type": "code",
   "execution_count": 182,
   "metadata": {
    "collapsed": false
   },
   "outputs": [],
   "source": [
    "repair_slices = get_repair_slices([797], veh_snapshots, veh_repairs)"
   ]
  },
  {
   "cell_type": "code",
   "execution_count": 183,
   "metadata": {
    "collapsed": false
   },
   "outputs": [
    {
     "data": {
      "text/plain": [
       "dict_keys([101001001, 45021003, 43006007])"
      ]
     },
     "execution_count": 183,
     "metadata": {},
     "output_type": "execute_result"
    }
   ],
   "source": [
    "repair_slices[797].keys()"
   ]
  },
  {
   "cell_type": "code",
   "execution_count": 184,
   "metadata": {
    "collapsed": false
   },
   "outputs": [
    {
     "data": {
      "text/plain": [
       "1"
      ]
     },
     "execution_count": 184,
     "metadata": {},
     "output_type": "execute_result"
    }
   ],
   "source": [
    "len(repair_slices[797][43006007])"
   ]
  },
  {
   "cell_type": "code",
   "execution_count": 186,
   "metadata": {
    "collapsed": false
   },
   "outputs": [
    {
     "data": {
      "text/plain": [
       "160"
      ]
     },
     "execution_count": 186,
     "metadata": {},
     "output_type": "execute_result"
    }
   ],
   "source": [
    "len(repair_slices[797][45021003][0])"
   ]
  },
  {
   "cell_type": "code",
   "execution_count": 191,
   "metadata": {
    "collapsed": true
   },
   "outputs": [],
   "source": [
    "veh_snapshots = selected_w[selected_w['Veh Ref ID'].isin(veh_ids)]\n",
    "veh_repairs = selected_repairs[selected_repairs['Chassis\\nReference\\nNumber'].isin(veh_ids)]"
   ]
  },
  {
   "cell_type": "code",
   "execution_count": 192,
   "metadata": {
    "collapsed": true
   },
   "outputs": [],
   "source": [
    "repair_slices_all = get_repair_slices(veh_ids, veh_snapshots, veh_repairs)"
   ]
  },
  {
   "cell_type": "code",
   "execution_count": 193,
   "metadata": {
    "collapsed": false
   },
   "outputs": [
    {
     "data": {
      "text/plain": [
       "13"
      ]
     },
     "execution_count": 193,
     "metadata": {},
     "output_type": "execute_result"
    }
   ],
   "source": [
    "len(repair_slices_all)"
   ]
  },
  {
   "cell_type": "code",
   "execution_count": 194,
   "metadata": {
    "collapsed": false
   },
   "outputs": [
    {
     "data": {
      "text/plain": [
       "dict_keys([801.0, 25.0, 616.0, 340.0, 555.0, 751.0, 40.0, 180.0, 373.0, 249.0, 724.0, 495.0, 27.0])"
      ]
     },
     "execution_count": 194,
     "metadata": {},
     "output_type": "execute_result"
    }
   ],
   "source": [
    "repair_slices_all.keys()"
   ]
  },
  {
   "cell_type": "code",
   "execution_count": 195,
   "metadata": {
    "collapsed": false
   },
   "outputs": [
    {
     "data": {
      "text/plain": [
       "dict_keys([42004001, 45021003, 44004001, 45002072, 45007001, 43006007])"
      ]
     },
     "execution_count": 195,
     "metadata": {},
     "output_type": "execute_result"
    }
   ],
   "source": [
    "repair_slices_all[801].keys()"
   ]
  },
  {
   "cell_type": "code",
   "execution_count": 197,
   "metadata": {
    "collapsed": false
   },
   "outputs": [
    {
     "data": {
      "text/plain": [
       "142"
      ]
     },
     "execution_count": 197,
     "metadata": {},
     "output_type": "execute_result"
    }
   ],
   "source": [
    "len(repair_slices_all[801][45021003][0])"
   ]
  },
  {
   "cell_type": "code",
   "execution_count": null,
   "metadata": {
    "collapsed": true
   },
   "outputs": [],
   "source": []
  }
 ],
 "metadata": {
  "kernelspec": {
   "display_name": "Python 3",
   "language": "python",
   "name": "python3"
  },
  "language_info": {
   "codemirror_mode": {
    "name": "ipython",
    "version": 3
   },
   "file_extension": ".py",
   "mimetype": "text/x-python",
   "name": "python",
   "nbconvert_exporter": "python",
   "pygments_lexer": "ipython3",
   "version": "3.5.2"
  }
 },
 "nbformat": 4,
 "nbformat_minor": 0
}
