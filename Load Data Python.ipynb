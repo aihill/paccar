{
 "cells": [
  {
   "cell_type": "code",
   "execution_count": 2,
   "metadata": {
    "collapsed": false
   },
   "outputs": [],
   "source": [
    "from __future__ import print_function, division\n",
    "import time, os\n",
    "import numpy as np\n",
    "import matplotlib.pyplot as plt\n",
    "import sys\n",
    "import networkx as nx\n",
    "import pandas\n",
    "\n",
    "%matplotlib inline\n",
    "plt.rcParams['figure.figsize'] = (10.0, 8.0) # set default size of plots\n",
    "plt.rcParams['image.interpolation'] = 'nearest'\n",
    "plt.rcParams['image.cmap'] = 'gray'\n",
    "\n",
    "# for auto-reloading external modules\n",
    "# see http://stackoverflow.com/questions/1907993/autoreload-of-modules-in-ipython\n",
    "%load_ext autoreload\n",
    "%autoreload 2"
   ]
  },
  {
   "cell_type": "code",
   "execution_count": 8,
   "metadata": {
    "collapsed": false
   },
   "outputs": [],
   "source": [
    "repairs = pandas.read_csv('/home/cs231n/data/repairs.csv')"
   ]
  },
  {
   "cell_type": "code",
   "execution_count": 5,
   "metadata": {
    "collapsed": false
   },
   "outputs": [],
   "source": [
    "# 6/14/2016 20:17:07\n",
    "s_to_date = lambda x: pandas.to_datetime(x, format='%m/%d/%Y %H:%M:%S')\n",
    "snapshots_df = pandas.read_csv('/home/cs231n/data/Field_Snaps_With_warranty.txt', converters={'Event DateTime':s_to_date})"
   ]
  },
  {
   "cell_type": "code",
   "execution_count": 8,
   "metadata": {
    "collapsed": false
   },
   "outputs": [],
   "source": [
    "# 2/3/2016\n",
    "r_to_date = lambda x: pandas.to_datetime(x, format='%m/%d/%Y')\n",
    "repairs_df = pandas.read_csv('/home/cs231n/data/repairs.csv', converters={'Rpr_Dt':r_to_date})"
   ]
  },
  {
   "cell_type": "code",
   "execution_count": 25,
   "metadata": {
    "collapsed": true
   },
   "outputs": [],
   "source": [
    "selected_repairs = repairs_df[[\n",
    " 'Chassis\\nReference\\nNumber',\n",
    " 'Model Vehicle',\n",
    " 'Build_Dt',\n",
    " 'Dlvry_Dt',\n",
    " 'In Service Date',\n",
    " 'Miles',\n",
    " 'Rpr_Dt',\n",
    " 'ATA3',\n",
    " 'ATA3Desc',\n",
    " 'ATA6',\n",
    " 'ATA6Desc',\n",
    " 'ATA9',\n",
    " 'ATA9Desc',\n",
    " 'Fail Type',\n",
    " 'Repair Cost']]\n",
    "selected_repairs = selected_repairs[selected_repairs['Chassis\\nReference\\nNumber'].notnull()]"
   ]
  },
  {
   "cell_type": "code",
   "execution_count": 27,
   "metadata": {
    "collapsed": false
   },
   "outputs": [],
   "source": [
    "high_repairs = selected_repairs[selected_repairs['Repair Cost'].isin(['medium', 'high', 'very high'])]#.sort_values(by='Rpr_Dt')\n",
    "veh_ids = high_repairs['Chassis\\nReference\\nNumber'].unique()"
   ]
  },
  {
   "cell_type": "code",
   "execution_count": 32,
   "metadata": {
    "collapsed": true
   },
   "outputs": [],
   "source": [
    "selected_repairs = high_repairs['Chassis\\nReference\\nNumber'].isin(veh_ids)"
   ]
  },
  {
   "cell_type": "code",
   "execution_count": 28,
   "metadata": {
    "collapsed": false
   },
   "outputs": [],
   "source": [
    "selected_snapshots = snapshots_df['Veh Ref ID'].isin(veh_ids)\n",
    "selected_snapshots = snapshots_df[['Veh Ref ID',\n",
    " 'Event DateTime',\n",
    " 'Event Type Description',\n",
    " 'Acc Pedal Position',\n",
    " 'Ambient Air Temp',\n",
    " 'Barometric Press',\n",
    " 'Brake Switch',\n",
    " 'Bus Utilization',\n",
    " 'Cat Intake Gas Temp',\n",
    " 'Cat Outlet Gas Temp',\n",
    " 'Clutch Switch',\n",
    " 'Cmd Eng Fuel Press',\n",
    " 'Cruise Status',\n",
    " 'Dpf Regen Inhibit Sw',\n",
    " 'Dpf Thermal Mngmnt',\n",
    " 'Drvr Demand Torque',\n",
    " 'Eng Air Flow Rate',\n",
    " 'Eng Avg Fuel Econ',\n",
    " 'Eng Coolant Level',\n",
    " 'Eng Coolant Temp',\n",
    " 'Eng Demand Torque',\n",
    " 'Eng DPF Intake Press',\n",
    " 'Eng Egr Valve Pos',\n",
    " 'Eng Exhaust Gas Temp',\n",
    " 'Eng Fuel Del Press',\n",
    " 'EngFuelTemp1',\n",
    " 'Engine Speed',\n",
    " 'Eng Man Abs Pressure',\n",
    " 'Eng Oil Pressure',\n",
    " 'EngInjRail1Press',\n",
    " 'EngIntakeMan1Temp',\n",
    " 'EngOilTemp1',\n",
    " 'Eng Percent Torque',\n",
    " 'EngTurbo1Boost',\n",
    " 'EngTurbo1Pos',\n",
    " 'EngTurbo1Speed',\n",
    " 'Event - All Lamps On Time Hr',\n",
    " 'Event - Amber Lamp Time Hr',\n",
    " 'Event - Mil Lamp Time Hr',\n",
    " 'Event - Red Lamp Time Hr',\n",
    " 'Exhaust Tank Level',\n",
    " 'Exhaust Tank Temp',\n",
    " 'Fan Speed',\n",
    " 'Keyswitch Bat Pot',\n",
    " 'Part Trap Diff Press',\n",
    " 'Part Trap Out Temp',\n",
    " 'Scr Intake Gas Temp',\n",
    " 'Scr Outlet Gas Temp',\n",
    " 'Vehicle Speed',\n",
    " 'Population',\n",
    " 'DTCID',\n",
    " 'Trip Distance',\n",
    " 'Trip Idle Time',\n",
    " 'Trip Run Time',\n",
    " 'Altitude',\n",
    " 'Engine Start Ambient',\n",
    " 'Engine Start Coolant',\n",
    " 'Ignition Cycle Counter',\n",
    " 'Latitude',\n",
    " 'Longitude',\n",
    " 'Lifetime Idle Hours',\n",
    " 'Lifetime Idle Fuel',\n",
    " 'Lifetime Fuel',\n",
    " 'Lifetime Distance',\n",
    " 'Lifetime Engine Hours']]"
   ]
  },
  {
   "cell_type": "code",
   "execution_count": 35,
   "metadata": {
    "collapsed": true
   },
   "outputs": [],
   "source": [
    "def get_012_dates(end_date):\n",
    "    ## split into 0 (10+), 1 (5-10), 2(0-5)\n",
    "    two_end = end_date\n",
    "    one_end = pandas.to_datetime(two_end) + pandas.DateOffset(days=-5)\n",
    "    zero_end = one_end + pandas.DateOffset(days=-5)\n",
    "    return (zero_end, one_end, two_end)"
   ]
  },
  {
   "cell_type": "code",
   "execution_count": 36,
   "metadata": {
    "collapsed": true
   },
   "outputs": [],
   "source": [
    "def get_repair_slices(veh_ids, snapshots, repairs, code='ATA9'):\n",
    "    repair_slices = {}\n",
    "    for veh_id in veh_ids:\n",
    "        v_snapshots = snapshots[snapshots['Veh Ref ID'] == veh_id].sort_values(by='Event DateTime')\n",
    "        v_repairs = repairs[repairs['Chassis\\nReference\\nNumber'] == veh_id].sort_values(by='Rpr_Dt')\n",
    "\n",
    "        start_date = pandas.to_datetime('1/1/2000') ## in past so first snapshot is captured\n",
    "        event_dt_key = 'Event DateTime'\n",
    "\n",
    "        repair_slices[veh_id] = {}\n",
    "        veh_slices = repair_slices[veh_id]\n",
    "\n",
    "        ## Best indicator of repair type is the ATA9 code\n",
    "        ## Iterate over each repair type and append slices\n",
    "        for repair_type, repair_group in veh_repairs.groupby([code]):\n",
    "            start = start_date\n",
    "            end = -1\n",
    "\n",
    "            ## dates of all of the repairs in that group\n",
    "            repair_dates = repair_group.sort_values(by='Rpr_Dt')['Rpr_Dt']\n",
    "            r_size = len(repair_dates)\n",
    "\n",
    "            ## for each repair type, grab slices of snapshots\n",
    "            veh_slices_repair = {0:[],1:[],2:[]}\n",
    "            for repair in repair_group.itertuples():\n",
    "                end = repair[7] ##['Rpr_Dt']\n",
    "\n",
    "                (zero_end, one_end, two_end) = get_012_dates(end)\n",
    "\n",
    "                ## grab a slice of snapshots from end of last repair to start of current repair\n",
    "                #mask = (veh_snapshots['Event DateTime'] >= start) & (veh_snapshots['Event DateTime'] < end)\n",
    "                #snapshot_slice = v_snapshots.loc[mask]\n",
    "                \n",
    "                # divide up snapshots into \n",
    "                two_mask = (v_snapshots[event_dt_key] > one_end) & (v_snapshots[event_dt_key] <= end)\n",
    "                print(repair_type, start, end, zero_end, one_end, two_end)\n",
    "                one_mask = (v_snapshots[event_dt_key] > zero_end) & (v_snapshots[event_dt_key] <= one_end)\n",
    "                zero_mask = (v_snapshots[event_dt_key] >= start) & (v_snapshots[event_dt_key] <= zero_end)\n",
    "                two_slices = v_snapshots.loc[two_mask]\n",
    "                one_slices = v_snapshots.loc[one_mask]\n",
    "                zero_slices = v_snapshots.loc[zero_mask]\n",
    "\n",
    "                if len(two_slices) > 0:\n",
    "                    veh_slices_repair[2].append(two_slices)\n",
    "                if len(one_slices) > 0:\n",
    "                    veh_slices_repair[1].append(one_slices)\n",
    "                if len(zero_slices) > 0:\n",
    "                    veh_slices_repair[0].append(zero_slices)\n",
    "\n",
    "                ## reset start to end for next iteration\n",
    "                start = end\n",
    "            \n",
    "            if len(veh_slices_repair[0]) > 0 or len(veh_slices_repair[1]) > 0 or len(veh_slices_repair[2]) > 0:\n",
    "                veh_slices[repair_type] = veh_slices_repair\n",
    "\n",
    "    return repair_slices"
   ]
  },
  {
   "cell_type": "code",
   "execution_count": 30,
   "metadata": {
    "collapsed": true
   },
   "outputs": [],
   "source": [
    "veh_snapshots = selected_snapshots[selected_snapshots['Veh Ref ID'] == 797].sort_values(by='Event DateTime')\n",
    "veh_repairs = selected_repairs[selected_repairs['Chassis\\nReference\\nNumber'] == 797]"
   ]
  },
  {
   "cell_type": "code",
   "execution_count": 37,
   "metadata": {
    "collapsed": false
   },
   "outputs": [
    {
     "name": "stdout",
     "output_type": "stream",
     "text": [
      "43006007 2000-01-01 00:00:00 2016-07-18 00:00:00 2016-07-08 00:00:00 2016-07-13 00:00:00 2016-07-18 00:00:00\n",
      "44004001 2000-01-01 00:00:00 2016-05-27 00:00:00 2016-05-17 00:00:00 2016-05-22 00:00:00 2016-05-27 00:00:00\n",
      "45021003 2000-01-01 00:00:00 2016-06-23 00:00:00 2016-06-13 00:00:00 2016-06-18 00:00:00 2016-06-23 00:00:00\n",
      "101001001 2000-01-01 00:00:00 2016-06-13 00:00:00 2016-06-03 00:00:00 2016-06-08 00:00:00 2016-06-13 00:00:00\n"
     ]
    }
   ],
   "source": [
    "repair_slices = get_repair_slices([797], veh_snapshots, veh_repairs)"
   ]
  },
  {
   "cell_type": "code",
   "execution_count": 44,
   "metadata": {
    "collapsed": false
   },
   "outputs": [
    {
     "name": "stdout",
     "output_type": "stream",
     "text": [
      "70\n",
      "56\n",
      "34\n"
     ]
    }
   ],
   "source": [
    "print(len(repair_slices[797][45021003][0][0]))\n",
    "print(len(repair_slices[797][45021003][1][0]))\n",
    "print(len(repair_slices[797][45021003][2][0]))"
   ]
  },
  {
   "cell_type": "code",
   "execution_count": null,
   "metadata": {
    "collapsed": true
   },
   "outputs": [],
   "source": []
  },
  {
   "cell_type": "code",
   "execution_count": null,
   "metadata": {
    "collapsed": true
   },
   "outputs": [],
   "source": [
    "repair_slices_all = get_repair_slices(veh_ids, selected_snapshots, selected_repairs)"
   ]
  },
  {
   "cell_type": "code",
   "execution_count": null,
   "metadata": {
    "collapsed": true
   },
   "outputs": [],
   "source": []
  },
  {
   "cell_type": "code",
   "execution_count": null,
   "metadata": {
    "collapsed": true
   },
   "outputs": [],
   "source": []
  },
  {
   "cell_type": "code",
   "execution_count": null,
   "metadata": {
    "collapsed": true
   },
   "outputs": [],
   "source": []
  },
  {
   "cell_type": "code",
   "execution_count": null,
   "metadata": {
    "collapsed": true
   },
   "outputs": [],
   "source": []
  },
  {
   "cell_type": "code",
   "execution_count": 9,
   "metadata": {
    "collapsed": false
   },
   "outputs": [
    {
     "data": {
      "text/plain": [
       "Index(['Dealer Cd', 'Chassis Division', 'Chassis\\nReference\\nNumber',\n",
       "       'Plant Name', 'Model Vehicle', 'Build_Dt', 'Dlvry_Dt',\n",
       "       'In Service Date', 'Miles', 'Rpr_Dt', 'ATA3', 'ATA3Desc', 'ATA6',\n",
       "       'ATA6Desc', 'ATA9', 'ATA9Desc', 'Fail Type', 'Repair Cost', 'Dlr Story',\n",
       "       'Chassis Build Month', 'Engine Build Month', 'Engine Manufacture Date',\n",
       "       'Engine Displacement Liter Quantity', 'Engine Horsepower Number'],\n",
       "      dtype='object')"
      ]
     },
     "execution_count": 9,
     "metadata": {},
     "output_type": "execute_result"
    }
   ],
   "source": [
    "repairs.columns"
   ]
  },
  {
   "cell_type": "code",
   "execution_count": 10,
   "metadata": {
    "collapsed": false
   },
   "outputs": [],
   "source": [
    "ex_w = pandas.read_csv('/home/cs231n/data/Field_Snaps_With_warranty.txt')"
   ]
  },
  {
   "cell_type": "code",
   "execution_count": 13,
   "metadata": {
    "collapsed": false
   },
   "outputs": [
    {
     "name": "stdout",
     "output_type": "stream",
     "text": [
      "1.0 853.0\n"
     ]
    }
   ],
   "source": [
    "print(min(repairs['Chassis\\nReference\\nNumber'].unique()), max(repairs['Chassis\\nReference\\nNumber'].unique()))"
   ]
  },
  {
   "cell_type": "code",
   "execution_count": 14,
   "metadata": {
    "collapsed": false
   },
   "outputs": [
    {
     "ename": "NameError",
     "evalue": "name 'ex_nw' is not defined",
     "output_type": "error",
     "traceback": [
      "\u001b[1;31m---------------------------------------------------------------------------\u001b[0m",
      "\u001b[1;31mNameError\u001b[0m                                 Traceback (most recent call last)",
      "\u001b[1;32m<ipython-input-14-e35ed9ccb48b>\u001b[0m in \u001b[0;36m<module>\u001b[1;34m()\u001b[0m\n\u001b[1;32m----> 1\u001b[1;33m \u001b[0mprint\u001b[0m\u001b[1;33m(\u001b[0m\u001b[0mmin\u001b[0m\u001b[1;33m(\u001b[0m\u001b[0mex_nw\u001b[0m\u001b[1;33m[\u001b[0m\u001b[1;34m'Veh Ref ID'\u001b[0m\u001b[1;33m]\u001b[0m\u001b[1;33m.\u001b[0m\u001b[0munique\u001b[0m\u001b[1;33m(\u001b[0m\u001b[1;33m)\u001b[0m\u001b[1;33m)\u001b[0m\u001b[1;33m,\u001b[0m \u001b[0mmax\u001b[0m\u001b[1;33m(\u001b[0m\u001b[0mex_nw\u001b[0m\u001b[1;33m[\u001b[0m\u001b[1;34m'Veh Ref ID'\u001b[0m\u001b[1;33m]\u001b[0m\u001b[1;33m.\u001b[0m\u001b[0munique\u001b[0m\u001b[1;33m(\u001b[0m\u001b[1;33m)\u001b[0m\u001b[1;33m)\u001b[0m\u001b[1;33m)\u001b[0m\u001b[1;33m\u001b[0m\u001b[0m\n\u001b[0m",
      "\u001b[1;31mNameError\u001b[0m: name 'ex_nw' is not defined"
     ]
    }
   ],
   "source": [
    "print(min(ex_nw['Veh Ref ID'].unique()), max(ex_nw['Veh Ref ID'].unique()))"
   ]
  },
  {
   "cell_type": "code",
   "execution_count": 15,
   "metadata": {
    "collapsed": false
   },
   "outputs": [
    {
     "name": "stdout",
     "output_type": "stream",
     "text": [
      "1.0 813.0\n"
     ]
    }
   ],
   "source": [
    "print(min(ex_w['Veh Ref ID'].unique()), max(ex_w['Veh Ref ID'].unique()))"
   ]
  },
  {
   "cell_type": "code",
   "execution_count": 16,
   "metadata": {
    "collapsed": false
   },
   "outputs": [],
   "source": [
    "selected_repairs = repairs[[\n",
    " 'Chassis\\nReference\\nNumber',\n",
    " 'Model Vehicle',\n",
    " 'Build_Dt',\n",
    " 'Dlvry_Dt',\n",
    " 'In Service Date',\n",
    " 'Miles',\n",
    " 'Rpr_Dt',\n",
    " 'ATA3',\n",
    " 'ATA3Desc',\n",
    " 'ATA6',\n",
    " 'ATA6Desc',\n",
    " 'ATA9',\n",
    " 'ATA9Desc',\n",
    " 'Fail Type',\n",
    " 'Repair Cost']]\n",
    "selected_repairs = selected_repairs[selected_repairs['Chassis\\nReference\\nNumber'].notnull()]"
   ]
  },
  {
   "cell_type": "code",
   "execution_count": 17,
   "metadata": {
    "collapsed": false
   },
   "outputs": [
    {
     "data": {
      "text/plain": [
       "array([628.0, 'T680   ', '6/24/2016', '7/27/2016', '7/27/2016', 406,\n",
       "       '7/26/2016', 45, 'POWER PLANT (045)', 45021,\n",
       "       'ELECTRONIC ENGINE CONTROL', 45021003,\n",
       "       'ELECTRONIC CONTROL MODULE (ECU)', 'REFLASH ECU/ICU', 'very low'], dtype=object)"
      ]
     },
     "execution_count": 17,
     "metadata": {},
     "output_type": "execute_result"
    }
   ],
   "source": [
    "selected_repairs.iloc[850].values"
   ]
  },
  {
   "cell_type": "code",
   "execution_count": 18,
   "metadata": {
    "collapsed": false
   },
   "outputs": [
    {
     "data": {
      "text/plain": [
       "1581892"
      ]
     },
     "execution_count": 18,
     "metadata": {},
     "output_type": "execute_result"
    }
   ],
   "source": [
    "len(ex_w)"
   ]
  },
  {
   "cell_type": "code",
   "execution_count": 19,
   "metadata": {
    "collapsed": false
   },
   "outputs": [],
   "source": [
    "selected_w = ex_w[['Veh Ref ID',\n",
    " 'Event DateTime',\n",
    " 'Event Type Description',\n",
    " 'Acc Pedal Position',\n",
    " 'Ambient Air Temp',\n",
    " 'Barometric Press',\n",
    " 'Brake Switch',\n",
    " 'Bus Utilization',\n",
    " 'Cat Intake Gas Temp',\n",
    " 'Cat Outlet Gas Temp',\n",
    " 'Clutch Switch',\n",
    " 'Cmd Eng Fuel Press',\n",
    " 'Cruise Status',\n",
    " 'Dpf Regen Inhibit Sw',\n",
    " 'Dpf Thermal Mngmnt',\n",
    " 'Drvr Demand Torque',\n",
    " 'Eng Air Flow Rate',\n",
    " 'Eng Avg Fuel Econ',\n",
    " 'Eng Coolant Level',\n",
    " 'Eng Coolant Temp',\n",
    " 'Eng Demand Torque',\n",
    " 'Eng DPF Intake Press',\n",
    " 'Eng Egr Valve Pos',\n",
    " 'Eng Exhaust Gas Temp',\n",
    " 'Eng Fuel Del Press',\n",
    " 'EngFuelTemp1',\n",
    " 'Engine Speed',\n",
    " 'Eng Man Abs Pressure',\n",
    " 'Eng Oil Pressure',\n",
    " 'EngInjRail1Press',\n",
    " 'EngIntakeMan1Temp',\n",
    " 'EngOilTemp1',\n",
    " 'Eng Percent Torque',\n",
    " 'EngTurbo1Boost',\n",
    " 'EngTurbo1Pos',\n",
    " 'EngTurbo1Speed',\n",
    " 'Event - All Lamps On Time Hr',\n",
    " 'Event - Amber Lamp Time Hr',\n",
    " 'Event - Mil Lamp Time Hr',\n",
    " 'Event - Red Lamp Time Hr',\n",
    " 'Exhaust Tank Level',\n",
    " 'Exhaust Tank Temp',\n",
    " 'Fan Speed',\n",
    " 'Keyswitch Bat Pot',\n",
    " 'Part Trap Diff Press',\n",
    " 'Part Trap Out Temp',\n",
    " 'Scr Intake Gas Temp',\n",
    " 'Scr Outlet Gas Temp',\n",
    " 'Vehicle Speed',\n",
    " 'Population',\n",
    " 'DTCID',\n",
    " 'Trip Distance',\n",
    " 'Trip Idle Time',\n",
    " 'Trip Run Time',\n",
    " 'Altitude',\n",
    " 'Engine Start Ambient',\n",
    " 'Engine Start Coolant',\n",
    " 'Ignition Cycle Counter',\n",
    " 'Latitude',\n",
    " 'Longitude',\n",
    " 'Lifetime Idle Hours',\n",
    " 'Lifetime Idle Fuel',\n",
    " 'Lifetime Fuel',\n",
    " 'Lifetime Distance',\n",
    " 'Lifetime Engine Hours']]"
   ]
  },
  {
   "cell_type": "code",
   "execution_count": 20,
   "metadata": {
    "collapsed": false
   },
   "outputs": [],
   "source": [
    "ex_w_indexed = selected_w[:100000].set_index('Veh Ref ID')"
   ]
  },
  {
   "cell_type": "code",
   "execution_count": 21,
   "metadata": {
    "collapsed": true
   },
   "outputs": [],
   "source": [
    "repairs_indexed = selected_repairs.set_index('Chassis\\nReference\\nNumber')"
   ]
  },
  {
   "cell_type": "code",
   "execution_count": 22,
   "metadata": {
    "collapsed": true
   },
   "outputs": [],
   "source": [
    "joined_repairs_snapshots = ex_w_indexed.join(repairs_indexed)"
   ]
  },
  {
   "cell_type": "code",
   "execution_count": 61,
   "metadata": {
    "collapsed": true
   },
   "outputs": [],
   "source": [
    "high_repairs = selected_repairs[selected_repairs['Repair Cost'].isin(['medium', 'high', 'very high'])]"
   ]
  },
  {
   "cell_type": "code",
   "execution_count": 62,
   "metadata": {
    "collapsed": false
   },
   "outputs": [],
   "source": [
    "veh_ids = high_repairs['Chassis\\nReference\\nNumber'].unique()"
   ]
  },
  {
   "cell_type": "code",
   "execution_count": 63,
   "metadata": {
    "collapsed": false
   },
   "outputs": [
    {
     "data": {
      "text/plain": [
       "array([ 208.,  761.,  765.,  158.,  123.,  301.,   60.,  182.,  543.,\n",
       "        319.,  320.,  616.,   27.,  460.,   18.,  270.,   25.,  651.,\n",
       "        245.,  233.,  558.,  605.,  429.,  317.,  703.,  441.,  165.,\n",
       "        178.,   75.,  448.,  578.,  472.,  597.,  467.,  772.,  184.,\n",
       "        236.,  283.,  735.,  809.,  724.,  571.,  679.,  673.,  555.,\n",
       "        218.,  633.,  340.,  168.,  674.,   73.,  612.,  226.,  249.,\n",
       "        297.,  634.,  259.,  409.,  690.,  719.,  584.,  556.,  192.,\n",
       "        495.,  179.,  436.,  291.,  180.,  602.,  516.,  515.,  118.,\n",
       "        211.,  113.,  752.,  424.,  730.,  810.,  808.,   71.,  412.,\n",
       "        722.,  453.,  751.,  692.,  163.,  382.,  408.,  428.,  137.,\n",
       "        801.,   43.,  120.,    4.,  373.,  725.,  748.,  791.,  491.,\n",
       "         40.,  797.,  646.])"
      ]
     },
     "execution_count": 63,
     "metadata": {},
     "output_type": "execute_result"
    }
   ],
   "source": [
    "veh_ids"
   ]
  },
  {
   "cell_type": "code",
   "execution_count": 83,
   "metadata": {
    "collapsed": false
   },
   "outputs": [],
   "source": [
    "veh_snapshots = selected_w[selected_w['Veh Ref ID'] == 797].sort_values(by='Event DateTime')"
   ]
  },
  {
   "cell_type": "code",
   "execution_count": 65,
   "metadata": {
    "collapsed": false
   },
   "outputs": [],
   "source": [
    "v0 = veh_snapshots.iloc[0]"
   ]
  },
  {
   "cell_type": "code",
   "execution_count": 81,
   "metadata": {
    "collapsed": true
   },
   "outputs": [],
   "source": [
    "veh_repairs = selected_repairs[selected_repairs['Chassis\\nReference\\nNumber'] == 797]"
   ]
  },
  {
   "cell_type": "code",
   "execution_count": 82,
   "metadata": {
    "collapsed": false
   },
   "outputs": [
    {
     "data": {
      "text/html": [
       "<div>\n",
       "<style scoped>\n",
       "    .dataframe tbody tr th:only-of-type {\n",
       "        vertical-align: middle;\n",
       "    }\n",
       "\n",
       "    .dataframe tbody tr th {\n",
       "        vertical-align: top;\n",
       "    }\n",
       "\n",
       "    .dataframe thead th {\n",
       "        text-align: right;\n",
       "    }\n",
       "</style>\n",
       "<table border=\"1\" class=\"dataframe\">\n",
       "  <thead>\n",
       "    <tr style=\"text-align: right;\">\n",
       "      <th></th>\n",
       "      <th>Chassis\n",
       "Reference\n",
       "Number</th>\n",
       "      <th>Model Vehicle</th>\n",
       "      <th>Build_Dt</th>\n",
       "      <th>Dlvry_Dt</th>\n",
       "      <th>In Service Date</th>\n",
       "      <th>Miles</th>\n",
       "      <th>Rpr_Dt</th>\n",
       "      <th>ATA3</th>\n",
       "      <th>ATA3Desc</th>\n",
       "      <th>ATA6</th>\n",
       "      <th>ATA6Desc</th>\n",
       "      <th>ATA9</th>\n",
       "      <th>ATA9Desc</th>\n",
       "      <th>Fail Type</th>\n",
       "      <th>Repair Cost</th>\n",
       "    </tr>\n",
       "  </thead>\n",
       "  <tbody>\n",
       "    <tr>\n",
       "      <th>612</th>\n",
       "      <td>797.0</td>\n",
       "      <td>T680</td>\n",
       "      <td>1/19/2016</td>\n",
       "      <td>2/9/2016</td>\n",
       "      <td>2/9/2016</td>\n",
       "      <td>38236</td>\n",
       "      <td>6/23/2016</td>\n",
       "      <td>45</td>\n",
       "      <td>POWER PLANT (045)</td>\n",
       "      <td>45021</td>\n",
       "      <td>ELECTRONIC ENGINE CONTROL</td>\n",
       "      <td>45021003</td>\n",
       "      <td>ELECTRONIC CONTROL MODULE (ECU)</td>\n",
       "      <td>CALIBRATE WRONG</td>\n",
       "      <td>very low</td>\n",
       "    </tr>\n",
       "    <tr>\n",
       "      <th>652</th>\n",
       "      <td>797.0</td>\n",
       "      <td>W900B</td>\n",
       "      <td>3/16/2016</td>\n",
       "      <td>5/4/2016</td>\n",
       "      <td>5/4/2016</td>\n",
       "      <td>4735</td>\n",
       "      <td>6/13/2016</td>\n",
       "      <td>101</td>\n",
       "      <td>MX DIAG FAULT CODES (101)</td>\n",
       "      <td>101001</td>\n",
       "      <td>MX DIAG FAULT CODES (001)</td>\n",
       "      <td>101001001</td>\n",
       "      <td>PACCAR MX DIAGNOSTIC CODES</td>\n",
       "      <td>REFLASH ECU/ICU</td>\n",
       "      <td>very low</td>\n",
       "    </tr>\n",
       "    <tr>\n",
       "      <th>836</th>\n",
       "      <td>797.0</td>\n",
       "      <td>567</td>\n",
       "      <td>5/11/2016</td>\n",
       "      <td>6/22/2016</td>\n",
       "      <td>6/22/2016</td>\n",
       "      <td>529</td>\n",
       "      <td>5/27/2016</td>\n",
       "      <td>44</td>\n",
       "      <td>FUEL SYSTEM (044)</td>\n",
       "      <td>44004</td>\n",
       "      <td>INJECTORS (004)</td>\n",
       "      <td>44004001</td>\n",
       "      <td>INJECTOR ASSEMBLY</td>\n",
       "      <td>WEAK</td>\n",
       "      <td>medium</td>\n",
       "    </tr>\n",
       "    <tr>\n",
       "      <th>837</th>\n",
       "      <td>797.0</td>\n",
       "      <td>T680</td>\n",
       "      <td>2/5/2016</td>\n",
       "      <td>4/11/2016</td>\n",
       "      <td>4/11/2016</td>\n",
       "      <td>38030</td>\n",
       "      <td>7/18/2016</td>\n",
       "      <td>43</td>\n",
       "      <td>EXHAUST SYSTEM (043)</td>\n",
       "      <td>43006</td>\n",
       "      <td>EMISSIONS (006)</td>\n",
       "      <td>43006007</td>\n",
       "      <td>SENSOR - DIFFERENTIAL PRESSURE, PARTICULATE TR...</td>\n",
       "      <td>CHECK CONDITION</td>\n",
       "      <td>very low</td>\n",
       "    </tr>\n",
       "  </tbody>\n",
       "</table>\n",
       "</div>"
      ],
      "text/plain": [
       "     Chassis\\nReference\\nNumber Model Vehicle   Build_Dt   Dlvry_Dt  \\\n",
       "612                       797.0       T680     1/19/2016   2/9/2016   \n",
       "652                       797.0       W900B    3/16/2016   5/4/2016   \n",
       "836                       797.0       567      5/11/2016  6/22/2016   \n",
       "837                       797.0       T680      2/5/2016  4/11/2016   \n",
       "\n",
       "    In Service Date  Miles     Rpr_Dt  ATA3                   ATA3Desc  \\\n",
       "612        2/9/2016  38236  6/23/2016    45          POWER PLANT (045)   \n",
       "652        5/4/2016   4735  6/13/2016   101  MX DIAG FAULT CODES (101)   \n",
       "836       6/22/2016    529  5/27/2016    44          FUEL SYSTEM (044)   \n",
       "837       4/11/2016  38030  7/18/2016    43       EXHAUST SYSTEM (043)   \n",
       "\n",
       "       ATA6                   ATA6Desc       ATA9  \\\n",
       "612   45021  ELECTRONIC ENGINE CONTROL   45021003   \n",
       "652  101001  MX DIAG FAULT CODES (001)  101001001   \n",
       "836   44004            INJECTORS (004)   44004001   \n",
       "837   43006            EMISSIONS (006)   43006007   \n",
       "\n",
       "                                              ATA9Desc        Fail Type  \\\n",
       "612                    ELECTRONIC CONTROL MODULE (ECU)  CALIBRATE WRONG   \n",
       "652                         PACCAR MX DIAGNOSTIC CODES  REFLASH ECU/ICU   \n",
       "836                                  INJECTOR ASSEMBLY             WEAK   \n",
       "837  SENSOR - DIFFERENTIAL PRESSURE, PARTICULATE TR...  CHECK CONDITION   \n",
       "\n",
       "    Repair Cost  \n",
       "612    very low  \n",
       "652    very low  \n",
       "836      medium  \n",
       "837    very low  "
      ]
     },
     "execution_count": 82,
     "metadata": {},
     "output_type": "execute_result"
    }
   ],
   "source": [
    "veh_repairs"
   ]
  },
  {
   "cell_type": "code",
   "execution_count": 127,
   "metadata": {
    "collapsed": false
   },
   "outputs": [
    {
     "name": "stdout",
     "output_type": "stream",
     "text": [
      "43006007 1/1/2000 7/18/2016 07/08/2016 07/13/2016 7/18/2016\n",
      "44004001 1/1/2000 5/27/2016 05/17/2016 05/22/2016 5/27/2016\n",
      "45021003 1/1/2000 6/23/2016 06/13/2016 06/18/2016 6/23/2016\n",
      "101001001 1/1/2000 6/13/2016 06/03/2016 06/08/2016 6/13/2016\n"
     ]
    }
   ],
   "source": [
    "repair_slices = get_repair_slices([797], veh_snapshots, veh_repairs)"
   ]
  },
  {
   "cell_type": "code",
   "execution_count": 130,
   "metadata": {
    "collapsed": false
   },
   "outputs": [
    {
     "data": {
      "text/plain": [
       "0"
      ]
     },
     "execution_count": 130,
     "metadata": {},
     "output_type": "execute_result"
    }
   ],
   "source": [
    "event_dt_key = 'Event DateTime'\n",
    "len(veh_snapshots.loc[(veh_snapshots[event_dt_key] > '06/13/2016 00:00:00') & (veh_snapshots[event_dt_key] <= '06/18/2016 00:00:00')])"
   ]
  },
  {
   "cell_type": "code",
   "execution_count": 118,
   "metadata": {
    "collapsed": false
   },
   "outputs": [
    {
     "data": {
      "text/plain": [
       "dict_keys([101001001, 45021003, 43006007])"
      ]
     },
     "execution_count": 118,
     "metadata": {},
     "output_type": "execute_result"
    }
   ],
   "source": [
    "repair_slices[797].keys()"
   ]
  },
  {
   "cell_type": "code",
   "execution_count": 119,
   "metadata": {
    "collapsed": false
   },
   "outputs": [
    {
     "data": {
      "text/plain": [
       "3"
      ]
     },
     "execution_count": 119,
     "metadata": {},
     "output_type": "execute_result"
    }
   ],
   "source": [
    "len(repair_slices[797][45021003])"
   ]
  },
  {
   "cell_type": "code",
   "execution_count": 123,
   "metadata": {
    "collapsed": false
   },
   "outputs": [
    {
     "data": {
      "text/plain": [
       "0"
      ]
     },
     "execution_count": 123,
     "metadata": {},
     "output_type": "execute_result"
    }
   ],
   "source": [
    "len(repair_slices[797][45021003][0])"
   ]
  },
  {
   "cell_type": "code",
   "execution_count": 131,
   "metadata": {
    "collapsed": false
   },
   "outputs": [
    {
     "data": {
      "text/plain": [
       "array(['6/1/2016 0:11:20', '6/1/2016 0:12:26', '6/1/2016 12:04:49',\n",
       "       '6/1/2016 12:11:48', '6/1/2016 12:23:05', '6/1/2016 13:23:05',\n",
       "       '6/1/2016 14:23:05', '6/1/2016 14:46:07', '6/1/2016 14:47:13',\n",
       "       '6/1/2016 15:03:12', '6/1/2016 16:14:19', '6/1/2016 17:14:18',\n",
       "       '6/1/2016 1:12:26', '6/1/2016 1:23:53', '6/1/2016 1:31:42',\n",
       "       '6/1/2016 1:40:45', '6/1/2016 1:43:34', '6/1/2016 20:27:15',\n",
       "       '6/1/2016 23:27:16', '6/1/2016 23:29:42', '6/1/2016 23:33:05',\n",
       "       '6/1/2016 2:43:34', '6/1/2016 3:43:34', '6/1/2016 4:11:45',\n",
       "       '6/10/2016 15:24:16', '6/13/2016 15:53:13', '6/13/2016 15:58:19',\n",
       "       '6/13/2016 16:39:17', '6/13/2016 16:39:47', '6/13/2016 16:55:33',\n",
       "       '6/13/2016 17:11:46', '6/13/2016 17:34:33', '6/13/2016 20:18:39',\n",
       "       '6/13/2016 20:23:57', '6/14/2016 19:18:41', '6/14/2016 19:20:06',\n",
       "       '6/14/2016 20:07:14', '6/14/2016 20:07:49', '6/14/2016 20:21:28',\n",
       "       '6/14/2016 20:27:44', '6/14/2016 22:19:35', '6/14/2016 22:23:17',\n",
       "       '6/14/2016 22:25:09', '6/14/2016 22:30:30', '6/14/2016 22:33:59',\n",
       "       '6/14/2016 22:42:16', '6/14/2016 23:00:10', '6/15/2016 18:10:52',\n",
       "       '6/15/2016 18:56:56', '6/15/2016 19:07:30', '6/15/2016 19:21:21',\n",
       "       '6/15/2016 19:32:24', '6/15/2016 19:48:39', '6/2/2016 0:32:47',\n",
       "       '6/2/2016 10:52:46', '6/2/2016 10:54:32', '6/2/2016 11:04:09',\n",
       "       '6/2/2016 11:11:15', '6/2/2016 14:12:47', '6/2/2016 14:16:26',\n",
       "       '6/2/2016 14:18:08', '6/2/2016 14:25:28', '6/2/2016 2:15:34',\n",
       "       '6/22/2016 12:30:11', '6/22/2016 12:34:03', '6/22/2016 12:34:10',\n",
       "       '6/22/2016 12:54:48', '6/22/2016 12:54:49', '6/22/2016 13:09:58',\n",
       "       '6/22/2016 13:16:45', '6/22/2016 14:18:33', '6/22/2016 14:32:46',\n",
       "       '6/22/2016 15:33:17', '6/22/2016 15:33:22', '6/22/2016 15:44:54',\n",
       "       '6/22/2016 15:45:06', '6/22/2016 16:05:56', '6/22/2016 16:06:44',\n",
       "       '6/22/2016 17:02:52', '6/22/2016 17:02:59'], dtype=object)"
      ]
     },
     "execution_count": 131,
     "metadata": {},
     "output_type": "execute_result"
    }
   ],
   "source": [
    "repair_slices[797][45021003][2][0]['Event DateTime'].unique()"
   ]
  },
  {
   "cell_type": "code",
   "execution_count": 35,
   "metadata": {
    "collapsed": true
   },
   "outputs": [],
   "source": [
    "veh_snapshots = selected_w[selected_w['Veh Ref ID'].isin(veh_ids)]\n",
    "veh_repairs = selected_repairs[selected_repairs['Chassis\\nReference\\nNumber'].isin(veh_ids)]"
   ]
  },
  {
   "cell_type": "code",
   "execution_count": 48,
   "metadata": {
    "collapsed": true
   },
   "outputs": [],
   "source": [
    "repair_slices_all = get_repair_slices(veh_ids, veh_snapshots, veh_repairs)"
   ]
  },
  {
   "cell_type": "code",
   "execution_count": 37,
   "metadata": {
    "collapsed": false
   },
   "outputs": [
    {
     "data": {
      "text/plain": [
       "13"
      ]
     },
     "execution_count": 37,
     "metadata": {},
     "output_type": "execute_result"
    }
   ],
   "source": [
    "len(repair_slices_all)"
   ]
  },
  {
   "cell_type": "code",
   "execution_count": 38,
   "metadata": {
    "collapsed": false
   },
   "outputs": [
    {
     "data": {
      "text/plain": [
       "dict_keys([801.0, 25.0, 616.0, 340.0, 555.0, 751.0, 40.0, 180.0, 373.0, 249.0, 724.0, 495.0, 27.0])"
      ]
     },
     "execution_count": 38,
     "metadata": {},
     "output_type": "execute_result"
    }
   ],
   "source": [
    "repair_slices_all.keys()"
   ]
  },
  {
   "cell_type": "code",
   "execution_count": 40,
   "metadata": {
    "collapsed": false
   },
   "outputs": [
    {
     "data": {
      "text/plain": [
       "142"
      ]
     },
     "execution_count": 40,
     "metadata": {},
     "output_type": "execute_result"
    }
   ],
   "source": [
    "len(repair_slices_all[801][45021003][0])"
   ]
  },
  {
   "cell_type": "code",
   "execution_count": 53,
   "metadata": {
    "collapsed": false
   },
   "outputs": [
    {
     "data": {
      "text/plain": [
       "Veh Ref ID                                     801\n",
       "Event DateTime                  6/14/2016 20:17:07\n",
       "Event Type Description                  trip_start\n",
       "Acc Pedal Position                            36.8\n",
       "Ambient Air Temp                             31.87\n",
       "Barometric Press                                98\n",
       "Brake Switch                                     0\n",
       "Bus Utilization                                 65\n",
       "Cat Intake Gas Temp                         102.59\n",
       "Cat Outlet Gas Temp                          56.09\n",
       "Clutch Switch                                    0\n",
       "Cmd Eng Fuel Press                           46.44\n",
       "Cruise Status                                    0\n",
       "Dpf Regen Inhibit Sw                             0\n",
       "Dpf Thermal Mngmnt                               0\n",
       "Drvr Demand Torque                              38\n",
       "Eng Air Flow Rate                            133.1\n",
       "Eng Avg Fuel Econ                             0.87\n",
       "Eng Coolant Level                              100\n",
       "Eng Coolant Temp                                38\n",
       "Eng Demand Torque                               38\n",
       "Eng DPF Intake Press                            99\n",
       "Eng Egr Valve Pos                             33.2\n",
       "Eng Exhaust Gas Temp                        139.09\n",
       "Eng Fuel Del Press                             780\n",
       "EngFuelTemp1                                    32\n",
       "Engine Speed                                   699\n",
       "Eng Man Abs Pressure                            98\n",
       "Eng Oil Pressure                               444\n",
       "EngInjRail1Press                             55.19\n",
       "                                       ...        \n",
       "EngTurbo1Speed                                7716\n",
       "Event - All Lamps On Time Hr                  0.27\n",
       "Event - Amber Lamp Time Hr                    0.27\n",
       "Event - Mil Lamp Time Hr                         0\n",
       "Event - Red Lamp Time Hr                         0\n",
       "Exhaust Tank Level                            23.6\n",
       "Exhaust Tank Temp                               26\n",
       "Fan Speed                                      100\n",
       "Keyswitch Bat Pot                            13.45\n",
       "Part Trap Diff Press                             0\n",
       "Part Trap Out Temp                           40.68\n",
       "Scr Intake Gas Temp                          50.37\n",
       "Scr Outlet Gas Temp                          44.18\n",
       "Vehicle Speed                                    0\n",
       "Population                                       2\n",
       "DTCID                                            0\n",
       "Trip Distance                                    0\n",
       "Trip Idle Time                                   0\n",
       "Trip Run Time                                    0\n",
       "Altitude                                       695\n",
       "Engine Start Ambient                         30.55\n",
       "Engine Start Coolant                         33.88\n",
       "Ignition Cycle Counter                         NaN\n",
       "Latitude                                     39.39\n",
       "Longitude                                   -82.96\n",
       "Lifetime Idle Hours                            1.2\n",
       "Lifetime Idle Fuel                            1.05\n",
       "Lifetime Fuel                                 1.75\n",
       "Lifetime Distance                            11.69\n",
       "Lifetime Engine Hours                          1.6\n",
       "Name: 616812, Length: 65, dtype: object"
      ]
     },
     "execution_count": 53,
     "metadata": {},
     "output_type": "execute_result"
    }
   ],
   "source": [
    "repair_slices_all[801][45021003][0].iloc[0]"
   ]
  },
  {
   "cell_type": "code",
   "execution_count": null,
   "metadata": {
    "collapsed": true
   },
   "outputs": [],
   "source": []
  }
 ],
 "metadata": {
  "kernelspec": {
   "display_name": "Python 3",
   "language": "python",
   "name": "python3"
  },
  "language_info": {
   "codemirror_mode": {
    "name": "ipython",
    "version": 3
   },
   "file_extension": ".py",
   "mimetype": "text/x-python",
   "name": "python",
   "nbconvert_exporter": "python",
   "pygments_lexer": "ipython3",
   "version": "3.5.2"
  }
 },
 "nbformat": 4,
 "nbformat_minor": 0
}
